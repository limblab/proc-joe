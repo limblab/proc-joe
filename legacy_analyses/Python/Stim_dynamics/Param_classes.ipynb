{
 "cells": [
  {
   "cell_type": "code",
   "execution_count": null,
   "metadata": {},
   "outputs": [],
   "source": [
    "class InitialParams():\n",
    "    latent_shape = [40,40]\n",
    "    n_epochs = 4\n",
    "    sampling='poisson'\n",
    "    n_samples=20\n",
    "    sigma = 3\n",
    "    eta = 0.00001\n",
    "    lateral = 'mexican'\n",
    "    lambda_l = 0.0008\n",
    "    default_rate = 0.1  \n",
    "    noise_val = 0.2\n",
    "\n",
    "# params class\n",
    "class StimParams():\n",
    "    stim_pos = [20,20]\n",
    "    stim_dist_tau = 5\n",
    "    stim_time = [go_cue_idx+10,go_cue_idx+15]\n",
    "    is_stim=False"
   ]
  }
 ],
 "metadata": {
  "kernelspec": {
   "display_name": "Python 3",
   "language": "python",
   "name": "python3"
  },
  "language_info": {
   "codemirror_mode": {
    "name": "ipython",
    "version": 3
   },
   "file_extension": ".py",
   "mimetype": "text/x-python",
   "name": "python",
   "nbconvert_exporter": "python",
   "pygments_lexer": "ipython3",
   "version": "3.6.9"
  }
 },
 "nbformat": 4,
 "nbformat_minor": 4
}
