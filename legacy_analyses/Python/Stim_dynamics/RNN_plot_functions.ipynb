{
 "cells": [
  {
   "cell_type": "code",
   "execution_count": null,
   "metadata": {},
   "outputs": [],
   "source": [
    "def plot_activation_grids(grid, idx_plot):\n",
    "    # grid is a m x n x 'x' x y matrix. plots m (x,y) data for a provided n (idx_plot)\n",
    "    # if idx_plot is two indices, plots mean val for time points [idx_plot[0]:idx_plot[1])\n",
    "    \n",
    "    plt.figure()\n",
    "    subplot_dim = np.ceil(np.sqrt(grid.shape[0]))\n",
    "    \n",
    "    if(len(idx_plot)==2):\n",
    "        grid = np.mean(grid[:,idx_plot[0]:idx_plot[1],:,:],axis=1)\n",
    "        grid = np.expand_dims(grid,1)\n",
    "        idx_plot = 0\n",
    "        print(grid.shape)\n",
    "    \n",
    "    for i in range(grid.shape[0]):\n",
    "        plt.subplot(subplot_dim,subplot_dim,i+1)\n",
    "        plt.imshow(grid[i,idx_plot,:,:])\n",
    " \n",
    "\n",
    "def plot_pca_traces(data,tgt_idx,dim_idx,is_stim=False):\n",
    "    line_type = '-'\n",
    "    if(is_stim):\n",
    "        line_type='--'\n",
    "    plt.plot(data[tgt_idx,:,dim_idx[0]],data[tgt_idx,:,dim_idx[1]],line_type,color=color_list[tgt_idx]);\n",
    "    plt.plot(data[tgt_idx,0,dim_idx[0]],data[tgt_idx,0,dim_idx[1]],'.',color=color_list[tgt_idx]);\n",
    "    plt.plot(data[tgt_idx,go_cue_idx,dim_idx[0]],data[tgt_idx,go_cue_idx,dim_idx[1]],'o',color=color_list[tgt_idx])\n",
    "    \n",
    "    \n",
    "    \n",
    "def plot_dpca_traces(data,is_stim,label,dim):\n",
    "    if(is_stim):\n",
    "        linestyle = '--'\n",
    "    else:\n",
    "        linestyle = '-'\n",
    "    x_data = np.arange(0,data[label].shape[1])\n",
    "    \n",
    "    for i_tgt in range(data[label].shape[-1]): # targets are in last dimension\n",
    "        if(data[label].shape[-1] > 4):\n",
    "            plt.subplot(3,3,i_tgt+1)\n",
    "        else:\n",
    "            plt.subplot(2,2,i_tgt+1)\n",
    "        plt.plot(x_data,data[label][dim,:,i_tgt],color=color_list[i_tgt],linestyle=linestyle)    \n",
    "        plt.axvline(stim_params.stim_time[0],linewidth=0.2)\n",
    "        plt.axvline(stim_params.stim_time[1],linewidth=0.2)\n",
    "        \n",
    "        \n",
    "def plot_space_dist(summed_null_dist,summed_pot_dist):\n",
    "    num_conds = summed_null_dist.shape[0]\n",
    "    plt.figure()\n",
    "    for i_amp in range(num_conds):\n",
    "        plt.subplot(np.ceil(np.sqrt(num_conds)),np.ceil(np.sqrt(num_conds)),i_amp+1)\n",
    "        #for i_loc in range(summed_null_dist.shape[1]):\n",
    "        plt.plot(summed_pot_dist[i_amp,:],summed_null_dist[i_amp,:],marker='.',linestyle='none')\n",
    "        min_val = np.minimum(summed_pot_dist[i_amp,:].min(),summed_null_dist[i_amp,:].min())\n",
    "        max_val = np.maximum(summed_pot_dist[i_amp,:].max(),summed_null_dist[i_amp,:].max())\n",
    "        plt.plot([min_val,max_val],[min_val,max_val])"
   ]
  }
 ],
 "metadata": {
  "kernelspec": {
   "display_name": "Python 3",
   "language": "python",
   "name": "python3"
  },
  "language_info": {
   "codemirror_mode": {
    "name": "ipython",
    "version": 3
   },
   "file_extension": ".py",
   "mimetype": "text/x-python",
   "name": "python",
   "nbconvert_exporter": "python",
   "pygments_lexer": "ipython3",
   "version": "3.6.9"
  }
 },
 "nbformat": 4,
 "nbformat_minor": 4
}
