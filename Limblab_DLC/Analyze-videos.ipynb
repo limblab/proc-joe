{
 "cells": [
  {
   "cell_type": "code",
   "execution_count": 2,
   "metadata": {},
   "outputs": [
    {
     "name": "stderr",
     "output_type": "stream",
     "text": [
      "/usr/local/lib/python3.6/dist-packages/tensorflow/python/framework/dtypes.py:519: FutureWarning: Passing (type, 1) or '1type' as a synonym of type is deprecated; in a future version of numpy, it will be understood as (type, (1,)) / '(1,)type'.\n",
      "  _np_qint8 = np.dtype([(\"qint8\", np.int8, 1)])\n",
      "/usr/local/lib/python3.6/dist-packages/tensorflow/python/framework/dtypes.py:520: FutureWarning: Passing (type, 1) or '1type' as a synonym of type is deprecated; in a future version of numpy, it will be understood as (type, (1,)) / '(1,)type'.\n",
      "  _np_quint8 = np.dtype([(\"quint8\", np.uint8, 1)])\n",
      "/usr/local/lib/python3.6/dist-packages/tensorflow/python/framework/dtypes.py:521: FutureWarning: Passing (type, 1) or '1type' as a synonym of type is deprecated; in a future version of numpy, it will be understood as (type, (1,)) / '(1,)type'.\n",
      "  _np_qint16 = np.dtype([(\"qint16\", np.int16, 1)])\n",
      "/usr/local/lib/python3.6/dist-packages/tensorflow/python/framework/dtypes.py:522: FutureWarning: Passing (type, 1) or '1type' as a synonym of type is deprecated; in a future version of numpy, it will be understood as (type, (1,)) / '(1,)type'.\n",
      "  _np_quint16 = np.dtype([(\"quint16\", np.uint16, 1)])\n",
      "/usr/local/lib/python3.6/dist-packages/tensorflow/python/framework/dtypes.py:523: FutureWarning: Passing (type, 1) or '1type' as a synonym of type is deprecated; in a future version of numpy, it will be understood as (type, (1,)) / '(1,)type'.\n",
      "  _np_qint32 = np.dtype([(\"qint32\", np.int32, 1)])\n",
      "/usr/local/lib/python3.6/dist-packages/tensorflow/python/framework/dtypes.py:528: FutureWarning: Passing (type, 1) or '1type' as a synonym of type is deprecated; in a future version of numpy, it will be understood as (type, (1,)) / '(1,)type'.\n",
      "  np_resource = np.dtype([(\"resource\", np.ubyte, 1)])\n"
     ]
    },
    {
     "name": "stdout",
     "output_type": "stream",
     "text": [
      "DLC loaded in light mode; you cannot use any GUI (labeling, relabeling and standalone GUI)\n"
     ]
    }
   ],
   "source": [
    "\"\"\"\n",
    "This code is meant to be ran on Shrek (or Donkey). If labelling frames is necessary, those frames\n",
    "will be moved to a different computer for labelling, then moved back to Shrek (or Donkey) using \"Label-videos.ipynb\"\n",
    "\n",
    "This code can run deeplabcut from scratch (start new project, label frames, train network, analyze videos) or can \n",
    "start at different points in the pipeline\n",
    "\n",
    "\"\"\"\n",
    "import fnmatch\n",
    "import pandas as pd\n",
    "import os\n",
    "os.environ[\"DLClight\"]=\"True\"\n",
    "import deeplabcut\n",
    "import glob\n",
    "\n",
    "import subprocess"
   ]
  },
  {
   "cell_type": "code",
   "execution_count": 3,
   "metadata": {},
   "outputs": [
    {
     "name": "stdout",
     "output_type": "stream",
     "text": [
      "['/home/jts3256/DLC_videos/videos/Han_20201203_00011.avi', '/home/jts3256/DLC_videos/videos/Han_20201203_00012.avi', '/home/jts3256/DLC_videos/videos/Han_20201203_00008.avi', '/home/jts3256/DLC_videos/videos/Han_20201203_00013.avi', '/home/jts3256/DLC_videos/videos/Han_20201203_00009.avi', '/home/jts3256/DLC_videos/videos/Han_20201203_00006.avi', '/home/jts3256/DLC_videos/videos/Han_20201203_00007.avi', '/home/jts3256/DLC_videos/videos/Han_20201203_00010.avi']\n"
     ]
    }
   ],
   "source": [
    "# setup config file and model to use\n",
    "config_file = '/home/jts3256/DLC_videos/Han_202012-Joe-2020-12-14/config.yaml'\n",
    "\n",
    "# setup video list\n",
    "video_dir = '/home/jts3256/DLC_videos/videos/'\n",
    "video_list = glob.glob(video_dir + '*.avi')\n",
    "print(video_list)"
   ]
  },
  {
   "cell_type": "code",
   "execution_count": null,
   "metadata": {},
   "outputs": [
    {
     "name": "stdout",
     "output_type": "stream",
     "text": [
      "Using snapshot-1030000 for model /home/jts3256/DLC_videos/Han_202012-Joe-2020-12-14/dlc-models/iteration-0/Han_202012Dec14-trainset95shuffle1\n",
      "Initializing ResNet\n"
     ]
    },
    {
     "name": "stderr",
     "output_type": "stream",
     "text": [
      "\r",
      "  0%|          | 0/32762 [00:00<?, ?it/s]"
     ]
    },
    {
     "name": "stdout",
     "output_type": "stream",
     "text": [
      "Starting to analyze %  /home/jts3256/DLC_videos/videos/Han_20201203_00011.avi\n",
      "/home/jts3256/DLC_videos/videos  already exists!\n",
      "Loading  /home/jts3256/DLC_videos/videos/Han_20201203_00011.avi\n",
      "Duration of video [s]:  1310.48 , recorded with  25.0 fps!\n",
      "Overall # of frames:  32762  found with (before cropping) frame dimensions:  1280 1024\n",
      "Starting to extract posture\n"
     ]
    },
    {
     "name": "stderr",
     "output_type": "stream",
     "text": [
      "  3%|▎         | 981/32762 [00:50<19:57, 26.53it/s]"
     ]
    }
   ],
   "source": [
    "# analyze videos\n",
    "deeplabcut.analyze_videos(config_file,video_list, save_as_csv=True)\n",
    "deeplabcut.filterpredictions(config_file,video_list,filtertype='spline')\n",
    "deeplabcut.plot_trajectories(config_file,video_list)\n",
    "deeplabcut.create_labeled_video(config_file,video_list,filtered=True)"
   ]
  },
  {
   "cell_type": "code",
   "execution_count": 4,
   "metadata": {},
   "outputs": [],
   "source": []
  }
 ],
 "metadata": {
  "kernelspec": {
   "display_name": "Python 3",
   "language": "python",
   "name": "python3"
  },
  "language_info": {
   "codemirror_mode": {
    "name": "ipython",
    "version": 3
   },
   "file_extension": ".py",
   "mimetype": "text/x-python",
   "name": "python",
   "nbconvert_exporter": "python",
   "pygments_lexer": "ipython3",
   "version": "3.6.3"
  },
  "varInspector": {
   "cols": {
    "lenName": 16,
    "lenType": 16,
    "lenVar": 40
   },
   "kernels_config": {
    "python": {
     "delete_cmd_postfix": "",
     "delete_cmd_prefix": "del ",
     "library": "var_list.py",
     "varRefreshCmd": "print(var_dic_list())"
    },
    "r": {
     "delete_cmd_postfix": ") ",
     "delete_cmd_prefix": "rm(",
     "library": "var_list.r",
     "varRefreshCmd": "cat(var_dic_list()) "
    }
   },
   "types_to_exclude": [
    "module",
    "function",
    "builtin_function_or_method",
    "instance",
    "_Feature"
   ],
   "window_display": false
  }
 },
 "nbformat": 4,
 "nbformat_minor": 4
}
