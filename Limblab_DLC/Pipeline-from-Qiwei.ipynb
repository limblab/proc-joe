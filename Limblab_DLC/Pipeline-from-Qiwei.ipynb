{
 "cells": [
  {
   "cell_type": "code",
   "execution_count": 1,
   "metadata": {},
   "outputs": [
    {
     "name": "stdout",
     "output_type": "stream",
     "text": [
      "DLC loaded in light mode; you cannot use the relabeling GUI!\n"
     ]
    },
    {
     "name": "stderr",
     "output_type": "stream",
     "text": [
      "/usr/local/lib/python3.6/dist-packages/tensorflow/python/framework/dtypes.py:519: FutureWarning: Passing (type, 1) or '1type' as a synonym of type is deprecated; in a future version of numpy, it will be understood as (type, (1,)) / '(1,)type'.\n",
      "  _np_qint8 = np.dtype([(\"qint8\", np.int8, 1)])\n",
      "/usr/local/lib/python3.6/dist-packages/tensorflow/python/framework/dtypes.py:520: FutureWarning: Passing (type, 1) or '1type' as a synonym of type is deprecated; in a future version of numpy, it will be understood as (type, (1,)) / '(1,)type'.\n",
      "  _np_quint8 = np.dtype([(\"quint8\", np.uint8, 1)])\n",
      "/usr/local/lib/python3.6/dist-packages/tensorflow/python/framework/dtypes.py:521: FutureWarning: Passing (type, 1) or '1type' as a synonym of type is deprecated; in a future version of numpy, it will be understood as (type, (1,)) / '(1,)type'.\n",
      "  _np_qint16 = np.dtype([(\"qint16\", np.int16, 1)])\n",
      "/usr/local/lib/python3.6/dist-packages/tensorflow/python/framework/dtypes.py:522: FutureWarning: Passing (type, 1) or '1type' as a synonym of type is deprecated; in a future version of numpy, it will be understood as (type, (1,)) / '(1,)type'.\n",
      "  _np_quint16 = np.dtype([(\"quint16\", np.uint16, 1)])\n",
      "/usr/local/lib/python3.6/dist-packages/tensorflow/python/framework/dtypes.py:523: FutureWarning: Passing (type, 1) or '1type' as a synonym of type is deprecated; in a future version of numpy, it will be understood as (type, (1,)) / '(1,)type'.\n",
      "  _np_qint32 = np.dtype([(\"qint32\", np.int32, 1)])\n",
      "/usr/local/lib/python3.6/dist-packages/tensorflow/python/framework/dtypes.py:528: FutureWarning: Passing (type, 1) or '1type' as a synonym of type is deprecated; in a future version of numpy, it will be understood as (type, (1,)) / '(1,)type'.\n",
      "  np_resource = np.dtype([(\"resource\", np.ubyte, 1)])\n"
     ]
    },
    {
     "name": "stdout",
     "output_type": "stream",
     "text": [
      "DLC loaded in light mode; you cannot use the labeling GUI!\n"
     ]
    }
   ],
   "source": [
    "\"\"\"\n",
    "On Shrek Docker Only\n",
    "\"\"\"\n",
    "import fnmatch\n",
    "import pandas as pd\n",
    "import shutil\n",
    "import os\n",
    "import sys\n",
    "from ruamel.yaml import YAML\n",
    "import yaml\n",
    "os.environ[\"DLClight\"]=\"True\"\n",
    "import deeplabcut"
   ]
  },
  {
   "cell_type": "code",
   "execution_count": 2,
   "metadata": {},
   "outputs": [],
   "source": [
    "project = 'Han'\n",
    "experimenter = 'Qiwei'\n",
    "video_folder = '/home/qdf0761/DeepLabCut/projects/Test-Qiwei-2020-11-23/videos/'\n",
    "\n",
    "#vid_main_folder = r'C:\\\\Users\\\\dongq\\\\Desktop\\\\CameraDistances_20201123\\\\Han_20201123'\n",
    "\n",
    "videos = [video_folder + 'Han_20201123_test_5in00001.avi',\n",
    "          video_folder + 'Han_20201123_test_5in00002.avi',\n",
    "          video_folder + 'Han_20201123_test_6in00001.avi',\n",
    "          video_folder + 'Han_20201123_test_6in00002.avi',\n",
    "          video_folder + 'Han_20201123_test_7in00001.avi',\n",
    "          video_folder + 'Han_20201123_test_7in00002.avi',\n",
    "          video_folder + 'Han_20201123_test_9_5in00001.avi',\n",
    "          video_folder + 'Han_20201123_test_9_5in00002.avi',\n",
    "          video_folder + 'Han_20201123_test_15in00001.avi',\n",
    "          video_folder + 'Han_20201123_test_15in00002.avi']\n",
    "\n",
    "\n",
    "#path_config_file = deeplabcut.create_new_project(project, experimenter, videos,copy_videos=True)"
   ]
  },
  {
   "cell_type": "code",
   "execution_count": 3,
   "metadata": {},
   "outputs": [],
   "source": [
    "path_config_file = '/home/qdf0761/DeepLabCut/projects/Test-Qiwei-2020-11-23/config-Linux.yaml'"
   ]
  },
  {
   "cell_type": "code",
   "execution_count": 5,
   "metadata": {},
   "outputs": [],
   "source": [
    "\"\"\"\n",
    "Make two copies of current yaml file \"config.yaml\", to \"config_Windows.yaml\" and \"config_Docker.yaml\"\n",
    "Extract video path from \"config_Docker.yaml\"\n",
    "And change pathway names from Windows \"\\\" to Linux \"/\" in config_Docker.yaml\n",
    "\n",
    "If error happens here, go to Ubuntu command line, type \"docker exec --user 0 it QiweiContainer /bin/bash\" to get into command mode\n",
    "And type \"pip install ruamel.yaml\" to install the required package\n",
    "\"\"\"\n",
    "\n",
    "if(os.path.isfile('config.yaml')):\n",
    "    shutil.copyfile('config.yaml','config_Docker.yaml')\n",
    "    shutil.copyfile('config_Docker.yaml','config_Docker_backup.yaml')\n",
    "    os.rename('config.yaml','config_Windows.yaml')\n",
    "\n",
    "    num_of_vids = 4\n",
    "    video_name_prefix = 'exp0000'\n",
    "    video_name_suffix = '.avi'\n",
    "    #video_name_1 = 'exp00001.avi'\n",
    "    #video_name_2 = 'exp00002.avi'\n",
    "    #video_name_3 = 'exp00003.avi'\n",
    "\n",
    "    #Can add more video_name_x if there are more than 3 videos\n",
    "    #Just add these variables to the video_name_group variable two blocks down\n",
    "\n",
    "    current_path = os.getcwd()\n",
    "    current_video_path = current_path + '/videos/'\n",
    "\n",
    "    new_list_of_dicts = []\n",
    "    new_dict = {}\n",
    "\n",
    "    with open('config_Docker.yaml') as file:\n",
    "        config_Docker = yaml.safe_load(file)\n",
    "\n",
    "        for item,doc in config_Docker[\"video_sets\"].items():\n",
    "            #print(item,\":\",doc)\n",
    "            new_list_of_dicts.append(doc)\n",
    "\n",
    "    for i in range(num_of_vids):\n",
    "        video_full_path = current_video_path + video_name_prefix + str(i+1) + video_name_suffix\n",
    "        new_dict[video_full_path] = new_list_of_dicts[i]\n",
    "    \n",
    "    inp_fo = open(\"config_Docker.yaml\").read()\n",
    "    yaml = YAML()\n",
    "    code = yaml.load(inp_fo)\n",
    "\n",
    "    code[\"video_sets\"] = new_dict\n",
    "    code[\"project_path\"] = current_path\n",
    "    inp_fo2 = open(\"config_Docker.yaml\",\"w\")\n",
    "    yaml.dump(code,inp_fo2)\n",
    "\n",
    "    print(code[\"project_path\"])\n",
    "\n",
    "    inp_fo2.close()\n"
   ]
  },
  {
   "cell_type": "code",
   "execution_count": 7,
   "metadata": {},
   "outputs": [
    {
     "data": {
      "text/plain": [
       "\"\\nlocal_workspace_dir = '/home/qdf0761/DeepLabCut/projects/'\\n#local_workspace_dir = 'C:\\\\Users\\\\dongq\\\\DeepLabCut\\\\'\\nproject_name = 'Han-Qiwei-2020-08-04-FreeReaching'\\nvideo_name_group = ['exp00001','exp00002','exp00003','exp00004']\\nh5_name = 'CollectedData_Qiwei.h5'\\n\\nfor i in range(len(video_name_group)):\\n    df = pd.read_hdf(os.path.join(local_workspace_dir,\\n                                            project_name,\\n                                            'labeled-data',\\n                                            video_name_group[i],\\n                                            h5_name), 'df_with_missing')\\n    new_index = []\\n    print(os.path.join(local_workspace_dir, project_name, 'labeled-data', video_name_group[i]))\\n    for file in os.listdir(os.path.join(local_workspace_dir, project_name, 'labeled-data', video_name_group[i])): #iterate all the picture files in all 3 video folders\\n        if fnmatch.fnmatch(file, '*.png'): #if it is a picture\\n            file_dir = os.path.join('labeled-data', video_name_group[i])\\n           \\n            new_index.append(os.path.join(file_dir, file))\\n            \\n    new_index.sort()\\n    df.reset_index(drop = True, inplace = True)\\n    new_df = df.rename(lambda x: new_index[x])\\n    new_df.to_hdf(os.path.join(local_workspace_dir,\\n                                            project_name,\\n                                            'labeled-data',\\n                                            video_name_group[i],\\n                                            h5_name), key='df_with_missing', mode='w') \\n\""
      ]
     },
     "execution_count": 7,
     "metadata": {},
     "output_type": "execute_result"
    }
   ],
   "source": [
    "\"\"\"\n",
    "Change Parameters (pathways of ground truth pictures for training) from Windows slash \"\\\" to Linux slash \"/\"\n",
    "\"\"\"\n",
    "\n",
    "local_workspace_dir = '/home/qdf0761/DeepLabCut/projects/'\n",
    "#local_workspace_dir = 'C:\\\\Users\\\\dongq\\\\DeepLabCut\\\\'\n",
    "project_name = 'Han-Qiwei-2020-08-04-FreeReaching'\n",
    "video_name_group = ['exp00001','exp00002','exp00003','exp00004']\n",
    "h5_name = 'CollectedData_Qiwei.h5'\n",
    "\n",
    "for i in range(len(video_name_group)):\n",
    "    df = pd.read_hdf(os.path.join(local_workspace_dir,\n",
    "                                            project_name,\n",
    "                                            'labeled-data',\n",
    "                                            video_name_group[i],\n",
    "                                            h5_name), 'df_with_missing')\n",
    "    new_index = []\n",
    "    print(os.path.join(local_workspace_dir, project_name, 'labeled-data', video_name_group[i]))\n",
    "    for file in os.listdir(os.path.join(local_workspace_dir, project_name, 'labeled-data', video_name_group[i])): #iterate all the picture files in all 3 video folders\n",
    "        if fnmatch.fnmatch(file, '*.png'): #if it is a picture\n",
    "            file_dir = os.path.join('labeled-data', video_name_group[i])\n",
    "           \n",
    "            new_index.append(os.path.join(file_dir, file))\n",
    "            \n",
    "    new_index.sort()\n",
    "    df.reset_index(drop = True, inplace = True)\n",
    "    new_df = df.rename(lambda x: new_index[x])\n",
    "    new_df.to_hdf(os.path.join(local_workspace_dir,\n",
    "                                            project_name,\n",
    "                                            'labeled-data',\n",
    "                                            video_name_group[i],\n",
    "                                            h5_name), key='df_with_missing', mode='w') \n"
   ]
  },
  {
   "cell_type": "code",
   "execution_count": 10,
   "metadata": {},
   "outputs": [],
   "source": [
    "#deeplabcut.merge_datasets(path_config_file) "
   ]
  },
  {
   "cell_type": "code",
   "execution_count": 5,
   "metadata": {
    "scrolled": true
   },
   "outputs": [
    {
     "name": "stdout",
     "output_type": "stream",
     "text": [
      "/home/qdf0761/DeepLabCut/projects/Test-Qiwei-2020-11-23/training-datasets/iteration-0/UnaugmentedDataSet_TestNov23  already exists!\n",
      "It appears that the images were labeled on a Windows system, but you are currently trying to create a training set on a Unix system. \n",
      " In this case the paths should be converted. Do you want to proceed with the conversion?\n",
      "yes/noyes\n",
      "Annotation data converted to unix format...\n",
      "The training dataset is successfully created. Use the function 'train_network' to start training. Happy training!\n"
     ]
    }
   ],
   "source": [
    "deeplabcut.create_training_dataset(path_config_file)"
   ]
  },
  {
   "cell_type": "code",
   "execution_count": null,
   "metadata": {
    "scrolled": true
   },
   "outputs": [
    {
     "name": "stderr",
     "output_type": "stream",
     "text": [
      "Config:\n",
      "{'all_joints': [[0]],\n",
      " 'all_joints_names': ['objectA'],\n",
      " 'batch_size': 1,\n",
      " 'bottomheight': 400,\n",
      " 'crop': True,\n",
      " 'crop_pad': 0,\n",
      " 'cropratio': 0.4,\n",
      " 'dataset': 'training-datasets/iteration-0/UnaugmentedDataSet_TestNov23/Test_Qiwei95shuffle1.mat',\n",
      " 'dataset_type': 'default',\n",
      " 'deterministic': False,\n",
      " 'display_iters': 1000,\n",
      " 'fg_fraction': 0.25,\n",
      " 'global_scale': 0.8,\n",
      " 'init_weights': '/home/qdf0761/DeepLabCut/.local/lib/python3.6/site-packages/deeplabcut/pose_estimation_tensorflow/models/pretrained/resnet_v1_50.ckpt',\n",
      " 'intermediate_supervision': False,\n",
      " 'intermediate_supervision_layer': 12,\n",
      " 'leftwidth': 400,\n",
      " 'location_refinement': True,\n",
      " 'locref_huber_loss': True,\n",
      " 'locref_loss_weight': 0.05,\n",
      " 'locref_stdev': 7.2801,\n",
      " 'log_dir': 'log',\n",
      " 'max_input_size': 1500,\n",
      " 'mean_pixel': [123.68, 116.779, 103.939],\n",
      " 'metadataset': 'training-datasets/iteration-0/UnaugmentedDataSet_TestNov23/Documentation_data-Test_95shuffle1.pickle',\n",
      " 'min_input_size': 64,\n",
      " 'minsize': 100,\n",
      " 'mirror': False,\n",
      " 'multi_step': [[0.005, 10000],\n",
      "                [0.02, 430000],\n",
      "                [0.002, 730000],\n",
      "                [0.001, 1030000]],\n",
      " 'net_type': 'resnet_50',\n",
      " 'num_joints': 1,\n",
      " 'optimizer': 'sgd',\n",
      " 'pos_dist_thresh': 17,\n",
      " 'project_path': '/home/qdf0761/DeepLabCut/projects/Test-Qiwei-2020-11-23',\n",
      " 'regularize': False,\n",
      " 'rightwidth': 400,\n",
      " 'save_iters': 50000,\n",
      " 'scale_jitter_lo': 0.5,\n",
      " 'scale_jitter_up': 1.25,\n",
      " 'scoremap_dir': 'test',\n",
      " 'shuffle': True,\n",
      " 'snapshot_prefix': '/home/qdf0761/DeepLabCut/projects/Test-Qiwei-2020-11-23/dlc-models/iteration-0/TestNov23-trainset95shuffle1/train/snapshot',\n",
      " 'stride': 8.0,\n",
      " 'topheight': 400,\n",
      " 'weigh_negatives': False,\n",
      " 'weigh_only_present_joints': False,\n",
      " 'weigh_part_predictions': False,\n",
      " 'weight_decay': 0.0001}\n"
     ]
    },
    {
     "name": "stdout",
     "output_type": "stream",
     "text": [
      "Starting with standard pose-dataset loader.\n",
      "Initializing ResNet\n",
      "Loading ImageNet-pretrained resnet_50\n",
      "INFO:tensorflow:Restoring parameters from /home/qdf0761/DeepLabCut/.local/lib/python3.6/site-packages/deeplabcut/pose_estimation_tensorflow/models/pretrained/resnet_v1_50.ckpt\n",
      "Training parameter:\n",
      "{'stride': 8.0, 'weigh_part_predictions': False, 'weigh_negatives': False, 'fg_fraction': 0.25, 'weigh_only_present_joints': False, 'mean_pixel': [123.68, 116.779, 103.939], 'shuffle': True, 'snapshot_prefix': '/home/qdf0761/DeepLabCut/projects/Test-Qiwei-2020-11-23/dlc-models/iteration-0/TestNov23-trainset95shuffle1/train/snapshot', 'log_dir': 'log', 'global_scale': 0.8, 'location_refinement': True, 'locref_stdev': 7.2801, 'locref_loss_weight': 0.05, 'locref_huber_loss': True, 'optimizer': 'sgd', 'intermediate_supervision': False, 'intermediate_supervision_layer': 12, 'regularize': False, 'weight_decay': 0.0001, 'mirror': False, 'crop_pad': 0, 'scoremap_dir': 'test', 'batch_size': 1, 'dataset_type': 'default', 'deterministic': False, 'crop': True, 'cropratio': 0.4, 'minsize': 100, 'leftwidth': 400, 'rightwidth': 400, 'topheight': 400, 'bottomheight': 400, 'all_joints': [[0]], 'all_joints_names': ['objectA'], 'dataset': 'training-datasets/iteration-0/UnaugmentedDataSet_TestNov23/Test_Qiwei95shuffle1.mat', 'display_iters': 1000, 'init_weights': '/home/qdf0761/DeepLabCut/.local/lib/python3.6/site-packages/deeplabcut/pose_estimation_tensorflow/models/pretrained/resnet_v1_50.ckpt', 'max_input_size': 1500, 'metadataset': 'training-datasets/iteration-0/UnaugmentedDataSet_TestNov23/Documentation_data-Test_95shuffle1.pickle', 'min_input_size': 64, 'multi_step': [[0.005, 10000], [0.02, 430000], [0.002, 730000], [0.001, 1030000]], 'net_type': 'resnet_50', 'num_joints': 1, 'pos_dist_thresh': 17, 'project_path': '/home/qdf0761/DeepLabCut/projects/Test-Qiwei-2020-11-23', 'save_iters': 50000, 'scale_jitter_lo': 0.5, 'scale_jitter_up': 1.25, 'output_stride': 16, 'deconvolutionstride': 2}\n",
      "Starting training....\n"
     ]
    },
    {
     "name": "stderr",
     "output_type": "stream",
     "text": [
      "iteration: 1000 loss: 0.0108 lr: 0.005\n",
      "iteration: 2000 loss: 0.0045 lr: 0.005\n",
      "iteration: 3000 loss: 0.0040 lr: 0.005\n",
      "iteration: 4000 loss: 0.0036 lr: 0.005\n",
      "iteration: 5000 loss: 0.0035 lr: 0.005\n",
      "iteration: 6000 loss: 0.0032 lr: 0.005\n",
      "iteration: 7000 loss: 0.0031 lr: 0.005\n",
      "iteration: 8000 loss: 0.0029 lr: 0.005\n",
      "iteration: 9000 loss: 0.0028 lr: 0.005\n",
      "iteration: 10000 loss: 0.0029 lr: 0.005\n",
      "iteration: 11000 loss: 0.0045 lr: 0.02\n",
      "iteration: 12000 loss: 0.0040 lr: 0.02\n",
      "iteration: 13000 loss: 0.0035 lr: 0.02\n",
      "iteration: 14000 loss: 0.0033 lr: 0.02\n",
      "iteration: 15000 loss: 0.0030 lr: 0.02\n",
      "iteration: 16000 loss: 0.0028 lr: 0.02\n",
      "iteration: 17000 loss: 0.0026 lr: 0.02\n",
      "iteration: 18000 loss: 0.0028 lr: 0.02\n",
      "iteration: 19000 loss: 0.0026 lr: 0.02\n",
      "iteration: 20000 loss: 0.0026 lr: 0.02\n",
      "iteration: 21000 loss: 0.0025 lr: 0.02\n",
      "iteration: 22000 loss: 0.0024 lr: 0.02\n",
      "iteration: 23000 loss: 0.0024 lr: 0.02\n",
      "iteration: 24000 loss: 0.0023 lr: 0.02\n",
      "iteration: 25000 loss: 0.0022 lr: 0.02\n",
      "iteration: 26000 loss: 0.0021 lr: 0.02\n",
      "iteration: 27000 loss: 0.0020 lr: 0.02\n",
      "iteration: 28000 loss: 0.0021 lr: 0.02\n",
      "iteration: 29000 loss: 0.0020 lr: 0.02\n",
      "iteration: 30000 loss: 0.0021 lr: 0.02\n",
      "iteration: 31000 loss: 0.0022 lr: 0.02\n",
      "iteration: 32000 loss: 0.0020 lr: 0.02\n",
      "iteration: 33000 loss: 0.0020 lr: 0.02\n",
      "iteration: 34000 loss: 0.0019 lr: 0.02\n",
      "iteration: 35000 loss: 0.0019 lr: 0.02\n",
      "iteration: 36000 loss: 0.0019 lr: 0.02\n",
      "iteration: 37000 loss: 0.0018 lr: 0.02\n",
      "iteration: 38000 loss: 0.0018 lr: 0.02\n",
      "iteration: 39000 loss: 0.0018 lr: 0.02\n",
      "iteration: 40000 loss: 0.0018 lr: 0.02\n",
      "iteration: 41000 loss: 0.0019 lr: 0.02\n",
      "iteration: 42000 loss: 0.0017 lr: 0.02\n",
      "iteration: 43000 loss: 0.0018 lr: 0.02\n",
      "iteration: 44000 loss: 0.0018 lr: 0.02\n",
      "iteration: 45000 loss: 0.0017 lr: 0.02\n",
      "iteration: 46000 loss: 0.0017 lr: 0.02\n",
      "iteration: 47000 loss: 0.0017 lr: 0.02\n",
      "iteration: 48000 loss: 0.0016 lr: 0.02\n",
      "iteration: 49000 loss: 0.0017 lr: 0.02\n",
      "iteration: 50000 loss: 0.0017 lr: 0.02\n",
      "iteration: 51000 loss: 0.0016 lr: 0.02\n",
      "iteration: 52000 loss: 0.0017 lr: 0.02\n",
      "iteration: 53000 loss: 0.0017 lr: 0.02\n",
      "iteration: 54000 loss: 0.0017 lr: 0.02\n",
      "iteration: 55000 loss: 0.0016 lr: 0.02\n",
      "iteration: 56000 loss: 0.0017 lr: 0.02\n",
      "iteration: 57000 loss: 0.0016 lr: 0.02\n",
      "iteration: 58000 loss: 0.0016 lr: 0.02\n",
      "iteration: 59000 loss: 0.0016 lr: 0.02\n",
      "iteration: 60000 loss: 0.0016 lr: 0.02\n",
      "iteration: 61000 loss: 0.0016 lr: 0.02\n",
      "iteration: 62000 loss: 0.0016 lr: 0.02\n",
      "iteration: 63000 loss: 0.0016 lr: 0.02\n",
      "iteration: 64000 loss: 0.0016 lr: 0.02\n",
      "iteration: 65000 loss: 0.0016 lr: 0.02\n",
      "iteration: 66000 loss: 0.0016 lr: 0.02\n",
      "iteration: 67000 loss: 0.0016 lr: 0.02\n",
      "iteration: 68000 loss: 0.0016 lr: 0.02\n",
      "iteration: 69000 loss: 0.0015 lr: 0.02\n",
      "iteration: 70000 loss: 0.0015 lr: 0.02\n",
      "iteration: 71000 loss: 0.0015 lr: 0.02\n",
      "iteration: 72000 loss: 0.0015 lr: 0.02\n",
      "iteration: 73000 loss: 0.0015 lr: 0.02\n",
      "iteration: 74000 loss: 0.0015 lr: 0.02\n",
      "iteration: 75000 loss: 0.0015 lr: 0.02\n",
      "iteration: 76000 loss: 0.0015 lr: 0.02\n",
      "iteration: 77000 loss: 0.0014 lr: 0.02\n",
      "iteration: 78000 loss: 0.0016 lr: 0.02\n",
      "iteration: 79000 loss: 0.0015 lr: 0.02\n",
      "iteration: 80000 loss: 0.0015 lr: 0.02\n",
      "iteration: 81000 loss: 0.0014 lr: 0.02\n",
      "iteration: 82000 loss: 0.0015 lr: 0.02\n",
      "iteration: 83000 loss: 0.0015 lr: 0.02\n",
      "iteration: 84000 loss: 0.0014 lr: 0.02\n",
      "iteration: 85000 loss: 0.0015 lr: 0.02\n",
      "iteration: 86000 loss: 0.0015 lr: 0.02\n",
      "iteration: 87000 loss: 0.0015 lr: 0.02\n",
      "iteration: 88000 loss: 0.0015 lr: 0.02\n",
      "iteration: 89000 loss: 0.0015 lr: 0.02\n",
      "iteration: 90000 loss: 0.0014 lr: 0.02\n",
      "iteration: 91000 loss: 0.0014 lr: 0.02\n",
      "iteration: 92000 loss: 0.0014 lr: 0.02\n",
      "iteration: 93000 loss: 0.0014 lr: 0.02\n",
      "iteration: 94000 loss: 0.0014 lr: 0.02\n",
      "iteration: 95000 loss: 0.0015 lr: 0.02\n",
      "iteration: 96000 loss: 0.0015 lr: 0.02\n",
      "iteration: 97000 loss: 0.0015 lr: 0.02\n",
      "iteration: 98000 loss: 0.0014 lr: 0.02\n",
      "iteration: 99000 loss: 0.0014 lr: 0.02\n",
      "iteration: 100000 loss: 0.0014 lr: 0.02\n",
      "iteration: 101000 loss: 0.0015 lr: 0.02\n",
      "iteration: 102000 loss: 0.0015 lr: 0.02\n",
      "iteration: 103000 loss: 0.0014 lr: 0.02\n",
      "iteration: 104000 loss: 0.0014 lr: 0.02\n",
      "iteration: 105000 loss: 0.0014 lr: 0.02\n",
      "iteration: 106000 loss: 0.0014 lr: 0.02\n",
      "iteration: 107000 loss: 0.0014 lr: 0.02\n",
      "iteration: 108000 loss: 0.0014 lr: 0.02\n",
      "iteration: 109000 loss: 0.0014 lr: 0.02\n",
      "iteration: 110000 loss: 0.0015 lr: 0.02\n",
      "iteration: 111000 loss: 0.0014 lr: 0.02\n",
      "iteration: 112000 loss: 0.0014 lr: 0.02\n",
      "iteration: 113000 loss: 0.0014 lr: 0.02\n",
      "iteration: 114000 loss: 0.0014 lr: 0.02\n",
      "iteration: 115000 loss: 0.0014 lr: 0.02\n",
      "iteration: 116000 loss: 0.0014 lr: 0.02\n",
      "iteration: 117000 loss: 0.0014 lr: 0.02\n",
      "iteration: 118000 loss: 0.0015 lr: 0.02\n",
      "iteration: 119000 loss: 0.0015 lr: 0.02\n",
      "iteration: 120000 loss: 0.0014 lr: 0.02\n",
      "iteration: 121000 loss: 0.0014 lr: 0.02\n",
      "iteration: 122000 loss: 0.0015 lr: 0.02\n",
      "iteration: 123000 loss: 0.0014 lr: 0.02\n",
      "iteration: 124000 loss: 0.0014 lr: 0.02\n",
      "iteration: 125000 loss: 0.0014 lr: 0.02\n",
      "iteration: 126000 loss: 0.0013 lr: 0.02\n",
      "iteration: 127000 loss: 0.0014 lr: 0.02\n",
      "iteration: 128000 loss: 0.0013 lr: 0.02\n",
      "iteration: 129000 loss: 0.0014 lr: 0.02\n",
      "iteration: 130000 loss: 0.0014 lr: 0.02\n",
      "iteration: 131000 loss: 0.0014 lr: 0.02\n",
      "iteration: 132000 loss: 0.0014 lr: 0.02\n",
      "iteration: 133000 loss: 0.0014 lr: 0.02\n",
      "iteration: 134000 loss: 0.0013 lr: 0.02\n",
      "iteration: 135000 loss: 0.0013 lr: 0.02\n",
      "iteration: 136000 loss: 0.0013 lr: 0.02\n",
      "iteration: 137000 loss: 0.0013 lr: 0.02\n",
      "iteration: 138000 loss: 0.0014 lr: 0.02\n",
      "iteration: 139000 loss: 0.0013 lr: 0.02\n",
      "iteration: 140000 loss: 0.0013 lr: 0.02\n",
      "iteration: 141000 loss: 0.0014 lr: 0.02\n",
      "iteration: 142000 loss: 0.0013 lr: 0.02\n",
      "iteration: 143000 loss: 0.0013 lr: 0.02\n",
      "iteration: 144000 loss: 0.0014 lr: 0.02\n",
      "iteration: 145000 loss: 0.0013 lr: 0.02\n",
      "iteration: 146000 loss: 0.0014 lr: 0.02\n",
      "iteration: 147000 loss: 0.0013 lr: 0.02\n",
      "iteration: 148000 loss: 0.0014 lr: 0.02\n",
      "iteration: 149000 loss: 0.0013 lr: 0.02\n",
      "iteration: 150000 loss: 0.0014 lr: 0.02\n",
      "iteration: 151000 loss: 0.0013 lr: 0.02\n",
      "iteration: 152000 loss: 0.0013 lr: 0.02\n",
      "iteration: 153000 loss: 0.0013 lr: 0.02\n",
      "iteration: 154000 loss: 0.0014 lr: 0.02\n",
      "iteration: 155000 loss: 0.0014 lr: 0.02\n",
      "iteration: 156000 loss: 0.0013 lr: 0.02\n",
      "iteration: 157000 loss: 0.0014 lr: 0.02\n",
      "iteration: 158000 loss: 0.0013 lr: 0.02\n",
      "iteration: 159000 loss: 0.0013 lr: 0.02\n",
      "iteration: 160000 loss: 0.0014 lr: 0.02\n",
      "iteration: 161000 loss: 0.0013 lr: 0.02\n",
      "iteration: 162000 loss: 0.0013 lr: 0.02\n",
      "iteration: 163000 loss: 0.0014 lr: 0.02\n",
      "iteration: 164000 loss: 0.0014 lr: 0.02\n",
      "iteration: 165000 loss: 0.0014 lr: 0.02\n",
      "iteration: 166000 loss: 0.0013 lr: 0.02\n",
      "iteration: 167000 loss: 0.0013 lr: 0.02\n",
      "iteration: 168000 loss: 0.0013 lr: 0.02\n",
      "iteration: 169000 loss: 0.0013 lr: 0.02\n",
      "iteration: 170000 loss: 0.0012 lr: 0.02\n",
      "iteration: 171000 loss: 0.0013 lr: 0.02\n",
      "iteration: 172000 loss: 0.0013 lr: 0.02\n",
      "iteration: 173000 loss: 0.0013 lr: 0.02\n",
      "iteration: 174000 loss: 0.0013 lr: 0.02\n",
      "iteration: 175000 loss: 0.0013 lr: 0.02\n",
      "iteration: 176000 loss: 0.0013 lr: 0.02\n",
      "iteration: 177000 loss: 0.0014 lr: 0.02\n",
      "iteration: 178000 loss: 0.0013 lr: 0.02\n",
      "iteration: 179000 loss: 0.0013 lr: 0.02\n",
      "iteration: 180000 loss: 0.0014 lr: 0.02\n",
      "iteration: 181000 loss: 0.0013 lr: 0.02\n",
      "iteration: 182000 loss: 0.0013 lr: 0.02\n",
      "iteration: 183000 loss: 0.0013 lr: 0.02\n",
      "iteration: 184000 loss: 0.0013 lr: 0.02\n",
      "iteration: 185000 loss: 0.0013 lr: 0.02\n",
      "iteration: 186000 loss: 0.0013 lr: 0.02\n",
      "iteration: 187000 loss: 0.0013 lr: 0.02\n",
      "iteration: 188000 loss: 0.0013 lr: 0.02\n",
      "iteration: 189000 loss: 0.0013 lr: 0.02\n",
      "iteration: 190000 loss: 0.0013 lr: 0.02\n",
      "iteration: 191000 loss: 0.0013 lr: 0.02\n",
      "iteration: 192000 loss: 0.0013 lr: 0.02\n",
      "iteration: 193000 loss: 0.0013 lr: 0.02\n",
      "iteration: 194000 loss: 0.0013 lr: 0.02\n",
      "iteration: 195000 loss: 0.0013 lr: 0.02\n",
      "iteration: 196000 loss: 0.0013 lr: 0.02\n",
      "iteration: 197000 loss: 0.0013 lr: 0.02\n",
      "iteration: 198000 loss: 0.0013 lr: 0.02\n",
      "iteration: 199000 loss: 0.0012 lr: 0.02\n",
      "iteration: 200000 loss: 0.0013 lr: 0.02\n",
      "iteration: 201000 loss: 0.0012 lr: 0.02\n",
      "iteration: 202000 loss: 0.0013 lr: 0.02\n",
      "iteration: 203000 loss: 0.0013 lr: 0.02\n",
      "iteration: 204000 loss: 0.0013 lr: 0.02\n",
      "iteration: 205000 loss: 0.0013 lr: 0.02\n",
      "iteration: 206000 loss: 0.0013 lr: 0.02\n",
      "iteration: 207000 loss: 0.0013 lr: 0.02\n",
      "iteration: 208000 loss: 0.0013 lr: 0.02\n"
     ]
    },
    {
     "name": "stderr",
     "output_type": "stream",
     "text": [
      "iteration: 209000 loss: 0.0013 lr: 0.02\n",
      "iteration: 210000 loss: 0.0012 lr: 0.02\n",
      "iteration: 211000 loss: 0.0012 lr: 0.02\n",
      "iteration: 212000 loss: 0.0012 lr: 0.02\n",
      "iteration: 213000 loss: 0.0013 lr: 0.02\n",
      "iteration: 214000 loss: 0.0012 lr: 0.02\n",
      "iteration: 215000 loss: 0.0012 lr: 0.02\n",
      "iteration: 216000 loss: 0.0012 lr: 0.02\n",
      "iteration: 217000 loss: 0.0012 lr: 0.02\n",
      "iteration: 218000 loss: 0.0013 lr: 0.02\n",
      "iteration: 219000 loss: 0.0013 lr: 0.02\n",
      "iteration: 220000 loss: 0.0012 lr: 0.02\n",
      "iteration: 221000 loss: 0.0012 lr: 0.02\n",
      "iteration: 222000 loss: 0.0012 lr: 0.02\n",
      "iteration: 223000 loss: 0.0013 lr: 0.02\n",
      "iteration: 224000 loss: 0.0012 lr: 0.02\n",
      "iteration: 225000 loss: 0.0012 lr: 0.02\n",
      "iteration: 226000 loss: 0.0012 lr: 0.02\n",
      "iteration: 227000 loss: 0.0012 lr: 0.02\n",
      "iteration: 228000 loss: 0.0012 lr: 0.02\n",
      "iteration: 229000 loss: 0.0012 lr: 0.02\n",
      "iteration: 230000 loss: 0.0012 lr: 0.02\n",
      "iteration: 231000 loss: 0.0012 lr: 0.02\n",
      "iteration: 232000 loss: 0.0013 lr: 0.02\n",
      "iteration: 233000 loss: 0.0012 lr: 0.02\n",
      "iteration: 234000 loss: 0.0012 lr: 0.02\n",
      "iteration: 235000 loss: 0.0011 lr: 0.02\n",
      "iteration: 236000 loss: 0.0012 lr: 0.02\n",
      "iteration: 237000 loss: 0.0012 lr: 0.02\n",
      "iteration: 238000 loss: 0.0012 lr: 0.02\n",
      "iteration: 239000 loss: 0.0012 lr: 0.02\n",
      "iteration: 240000 loss: 0.0012 lr: 0.02\n",
      "iteration: 241000 loss: 0.0012 lr: 0.02\n",
      "iteration: 242000 loss: 0.0012 lr: 0.02\n",
      "iteration: 243000 loss: 0.0013 lr: 0.02\n",
      "iteration: 244000 loss: 0.0012 lr: 0.02\n",
      "iteration: 245000 loss: 0.0012 lr: 0.02\n",
      "iteration: 246000 loss: 0.0012 lr: 0.02\n",
      "iteration: 247000 loss: 0.0012 lr: 0.02\n",
      "iteration: 248000 loss: 0.0012 lr: 0.02\n",
      "iteration: 249000 loss: 0.0011 lr: 0.02\n",
      "iteration: 250000 loss: 0.0012 lr: 0.02\n",
      "iteration: 251000 loss: 0.0011 lr: 0.02\n",
      "iteration: 252000 loss: 0.0011 lr: 0.02\n",
      "iteration: 253000 loss: 0.0011 lr: 0.02\n",
      "iteration: 254000 loss: 0.0012 lr: 0.02\n",
      "iteration: 255000 loss: 0.0012 lr: 0.02\n",
      "iteration: 256000 loss: 0.0011 lr: 0.02\n",
      "iteration: 257000 loss: 0.0012 lr: 0.02\n",
      "iteration: 258000 loss: 0.0012 lr: 0.02\n",
      "iteration: 259000 loss: 0.0012 lr: 0.02\n",
      "iteration: 260000 loss: 0.0012 lr: 0.02\n",
      "iteration: 261000 loss: 0.0011 lr: 0.02\n",
      "iteration: 262000 loss: 0.0011 lr: 0.02\n",
      "iteration: 263000 loss: 0.0012 lr: 0.02\n",
      "iteration: 264000 loss: 0.0011 lr: 0.02\n",
      "iteration: 265000 loss: 0.0011 lr: 0.02\n",
      "iteration: 266000 loss: 0.0011 lr: 0.02\n",
      "iteration: 267000 loss: 0.0012 lr: 0.02\n",
      "iteration: 268000 loss: 0.0011 lr: 0.02\n",
      "iteration: 269000 loss: 0.0011 lr: 0.02\n",
      "iteration: 270000 loss: 0.0011 lr: 0.02\n",
      "iteration: 271000 loss: 0.0011 lr: 0.02\n",
      "iteration: 272000 loss: 0.0011 lr: 0.02\n",
      "iteration: 273000 loss: 0.0011 lr: 0.02\n",
      "iteration: 274000 loss: 0.0011 lr: 0.02\n",
      "iteration: 275000 loss: 0.0011 lr: 0.02\n",
      "iteration: 276000 loss: 0.0011 lr: 0.02\n",
      "iteration: 277000 loss: 0.0011 lr: 0.02\n",
      "iteration: 278000 loss: 0.0011 lr: 0.02\n",
      "iteration: 279000 loss: 0.0011 lr: 0.02\n",
      "iteration: 280000 loss: 0.0011 lr: 0.02\n",
      "iteration: 281000 loss: 0.0011 lr: 0.02\n",
      "iteration: 282000 loss: 0.0011 lr: 0.02\n",
      "iteration: 283000 loss: 0.0011 lr: 0.02\n",
      "iteration: 284000 loss: 0.0011 lr: 0.02\n",
      "iteration: 285000 loss: 0.0011 lr: 0.02\n",
      "iteration: 286000 loss: 0.0011 lr: 0.02\n",
      "iteration: 287000 loss: 0.0011 lr: 0.02\n",
      "iteration: 288000 loss: 0.0011 lr: 0.02\n",
      "iteration: 289000 loss: 0.0011 lr: 0.02\n",
      "iteration: 290000 loss: 0.0011 lr: 0.02\n",
      "iteration: 291000 loss: 0.0011 lr: 0.02\n",
      "iteration: 292000 loss: 0.0011 lr: 0.02\n",
      "iteration: 293000 loss: 0.0011 lr: 0.02\n",
      "iteration: 294000 loss: 0.0010 lr: 0.02\n",
      "iteration: 295000 loss: 0.0011 lr: 0.02\n",
      "iteration: 296000 loss: 0.0011 lr: 0.02\n",
      "iteration: 297000 loss: 0.0011 lr: 0.02\n",
      "iteration: 298000 loss: 0.0011 lr: 0.02\n",
      "iteration: 299000 loss: 0.0011 lr: 0.02\n",
      "iteration: 300000 loss: 0.0011 lr: 0.02\n",
      "iteration: 301000 loss: 0.0011 lr: 0.02\n",
      "iteration: 302000 loss: 0.0011 lr: 0.02\n",
      "iteration: 303000 loss: 0.0011 lr: 0.02\n",
      "iteration: 304000 loss: 0.0011 lr: 0.02\n",
      "iteration: 305000 loss: 0.0011 lr: 0.02\n",
      "iteration: 306000 loss: 0.0011 lr: 0.02\n",
      "iteration: 307000 loss: 0.0011 lr: 0.02\n",
      "iteration: 308000 loss: 0.0011 lr: 0.02\n",
      "iteration: 309000 loss: 0.0011 lr: 0.02\n",
      "iteration: 310000 loss: 0.0011 lr: 0.02\n",
      "iteration: 311000 loss: 0.0011 lr: 0.02\n",
      "iteration: 312000 loss: 0.0011 lr: 0.02\n",
      "iteration: 313000 loss: 0.0011 lr: 0.02\n",
      "iteration: 314000 loss: 0.0010 lr: 0.02\n",
      "iteration: 315000 loss: 0.0010 lr: 0.02\n",
      "iteration: 316000 loss: 0.0011 lr: 0.02\n",
      "iteration: 317000 loss: 0.0011 lr: 0.02\n",
      "iteration: 318000 loss: 0.0010 lr: 0.02\n",
      "iteration: 319000 loss: 0.0011 lr: 0.02\n",
      "iteration: 320000 loss: 0.0010 lr: 0.02\n",
      "iteration: 321000 loss: 0.0011 lr: 0.02\n",
      "iteration: 322000 loss: 0.0010 lr: 0.02\n",
      "iteration: 323000 loss: 0.0010 lr: 0.02\n",
      "iteration: 324000 loss: 0.0010 lr: 0.02\n",
      "iteration: 325000 loss: 0.0011 lr: 0.02\n",
      "iteration: 326000 loss: 0.0010 lr: 0.02\n",
      "iteration: 327000 loss: 0.0010 lr: 0.02\n",
      "iteration: 328000 loss: 0.0010 lr: 0.02\n",
      "iteration: 329000 loss: 0.0010 lr: 0.02\n",
      "iteration: 330000 loss: 0.0010 lr: 0.02\n",
      "iteration: 331000 loss: 0.0011 lr: 0.02\n",
      "iteration: 332000 loss: 0.0010 lr: 0.02\n",
      "iteration: 333000 loss: 0.0011 lr: 0.02\n",
      "iteration: 334000 loss: 0.0010 lr: 0.02\n"
     ]
    }
   ],
   "source": [
    "deeplabcut.train_network(path_config_file)\n",
    "# deeplabcut.train_network(config_path,shuffle=1,trainingsetindex=0,gputouse=None,max_snapshots_to_keep=5,autotune=False,displayiters=100,saveiters=15000, maxiters=30000)"
   ]
  },
  {
   "cell_type": "code",
   "execution_count": 13,
   "metadata": {
    "scrolled": true
   },
   "outputs": [],
   "source": [
    "#deeplabcut.evaluate_network(path_config_file,Shuffles=[1], plotting=True)"
   ]
  },
  {
   "cell_type": "code",
   "execution_count": null,
   "metadata": {},
   "outputs": [],
   "source": [
    "#add a for loop or something for the four functions below"
   ]
  },
  {
   "cell_type": "code",
   "execution_count": 6,
   "metadata": {},
   "outputs": [],
   "source": [
    "\n",
    "#video_folder = '/home/qdf0761/DeepLabCut/projects/Han_20201120/'\n",
    "#videos = [video_folder + 'Han_20201120_setup1_cam1.avi',\n",
    "#          video_folder + 'Han_20201120_setup1_cam2.avi',\n",
    "#          video_folder + 'Han_20201120_setup1_cam3.avi',\n",
    "#          video_folder + 'Han_20201120_setup1_cam4.avi',\n",
    "#          video_folder + 'Han_20201120_setup2_cam1.avi',\n",
    "#          video_folder + 'Han_20201120_setup2_cam2.avi',\n",
    "#          video_folder + 'Han_20201120_setup2_cam3.avi',\n",
    "#          video_folder + 'Han_20201120_setup2_cam4.avi',\n",
    "#          video_folder + 'Han_20201120_setup3_cam1.avi',\n",
    "#          video_folder + 'Han_20201120_setup3_cam2.avi',\n",
    "#          video_folder + 'Han_20201120_setup3_cam3.avi',\n",
    "#          video_folder + 'Han_20201120_setup3_cam4.avi',\n",
    "#          video_folder + 'Han_20201120_setup4_cam1.avi',\n",
    "#          video_folder + 'Han_20201120_setup4_cam2.avi',\n",
    "#          video_folder + 'Han_20201120_setup4_cam3.avi',\n",
    "#          video_folder + 'Han_20201120_setup4_cam4.avi']"
   ]
  },
  {
   "cell_type": "code",
   "execution_count": 7,
   "metadata": {
    "scrolled": true
   },
   "outputs": [
    {
     "name": "stderr",
     "output_type": "stream",
     "text": [
      "Config:\n",
      "{'all_joints': [[0]],\n",
      " 'all_joints_names': ['objectA'],\n",
      " 'batch_size': 1,\n",
      " 'bottomheight': 400,\n",
      " 'crop': True,\n",
      " 'crop_pad': 0,\n",
      " 'cropratio': 0.4,\n",
      " 'dataset': 'training-datasets/iteration-0/UnaugmentedDataSet_TestNov23/Test_Qiwei95shuffle1.mat',\n",
      " 'dataset_type': 'default',\n",
      " 'deconvolutionstride': 2,\n",
      " 'deterministic': False,\n",
      " 'display_iters': 1000,\n",
      " 'fg_fraction': 0.25,\n",
      " 'global_scale': 0.8,\n",
      " 'init_weights': '/home/qdf0761/DeepLabCut/.local/lib/python3.6/site-packages/deeplabcut/pose_estimation_tensorflow/models/pretrained/resnet_v1_50.ckpt',\n",
      " 'intermediate_supervision': False,\n",
      " 'intermediate_supervision_layer': 12,\n",
      " 'leftwidth': 400,\n",
      " 'location_refinement': True,\n",
      " 'locref_huber_loss': True,\n",
      " 'locref_loss_weight': 0.05,\n",
      " 'locref_stdev': 7.2801,\n",
      " 'log_dir': 'log',\n",
      " 'max_input_size': 1500,\n",
      " 'mean_pixel': [123.68, 116.779, 103.939],\n",
      " 'metadataset': 'training-datasets/iteration-0/UnaugmentedDataSet_TestNov23/Documentation_data-Test_95shuffle1.pickle',\n",
      " 'min_input_size': 64,\n",
      " 'minsize': 100,\n",
      " 'mirror': False,\n",
      " 'multi_step': [[0.005, 10000],\n",
      "                [0.02, 430000],\n",
      "                [0.002, 730000],\n",
      "                [0.001, 1030000]],\n",
      " 'net_type': 'resnet_50',\n",
      " 'num_joints': 1,\n",
      " 'optimizer': 'sgd',\n",
      " 'output_stride': 16,\n",
      " 'pos_dist_thresh': 17,\n",
      " 'project_path': '/home/qdf0761/DeepLabCut/projects/Test-Qiwei-2020-11-23',\n",
      " 'regularize': False,\n",
      " 'rightwidth': 400,\n",
      " 'save_iters': 50000,\n",
      " 'scale_jitter_lo': 0.5,\n",
      " 'scale_jitter_up': 1.25,\n",
      " 'scoremap_dir': 'test',\n",
      " 'shuffle': True,\n",
      " 'snapshot_prefix': '/home/qdf0761/DeepLabCut/projects/Test-Qiwei-2020-11-23/dlc-models/iteration-0/TestNov23-trainset95shuffle1/test/snapshot',\n",
      " 'stride': 8.0,\n",
      " 'topheight': 400,\n",
      " 'weigh_negatives': False,\n",
      " 'weigh_only_present_joints': False,\n",
      " 'weigh_part_predictions': False,\n",
      " 'weight_decay': 0.0001}\n"
     ]
    },
    {
     "name": "stdout",
     "output_type": "stream",
     "text": [
      "Using snapshot-1030000 for model /home/qdf0761/DeepLabCut/projects/Test-Qiwei-2020-11-23/dlc-models/iteration-0/TestNov23-trainset95shuffle1\n",
      "Initializing ResNet\n",
      "INFO:tensorflow:Restoring parameters from /home/qdf0761/DeepLabCut/projects/Test-Qiwei-2020-11-23/dlc-models/iteration-0/TestNov23-trainset95shuffle1/train/snapshot-1030000\n"
     ]
    },
    {
     "name": "stderr",
     "output_type": "stream",
     "text": [
      "\r",
      "  0%|          | 0/1812 [00:00<?, ?it/s]"
     ]
    },
    {
     "name": "stdout",
     "output_type": "stream",
     "text": [
      "Starting to analyze %  /home/qdf0761/DeepLabCut/projects/Test-Qiwei-2020-11-23/videos/Han_20201123_test_5in00001.avi\n",
      "Loading  /home/qdf0761/DeepLabCut/projects/Test-Qiwei-2020-11-23/videos/Han_20201123_test_5in00001.avi\n",
      "Duration of video [s]:  72.48 , recorded with  25.0 fps!\n",
      "Overall # of frames:  1812  found with (before cropping) frame dimensions:  1280 1024\n",
      "Starting to extract posture\n"
     ]
    },
    {
     "name": "stderr",
     "output_type": "stream",
     "text": [
      "1818it [01:45, 16.02it/s]                          "
     ]
    },
    {
     "name": "stdout",
     "output_type": "stream",
     "text": [
      "Detected frames:  1812\n"
     ]
    },
    {
     "name": "stderr",
     "output_type": "stream",
     "text": [
      "\n",
      "\r",
      "  0%|          | 0/1813 [00:00<?, ?it/s]"
     ]
    },
    {
     "name": "stdout",
     "output_type": "stream",
     "text": [
      "Saving results in /home/qdf0761/DeepLabCut/projects/Test-Qiwei-2020-11-23/videos...\n",
      "Saving csv poses!\n",
      "Starting to analyze %  /home/qdf0761/DeepLabCut/projects/Test-Qiwei-2020-11-23/videos/Han_20201123_test_5in00002.avi\n",
      "Loading  /home/qdf0761/DeepLabCut/projects/Test-Qiwei-2020-11-23/videos/Han_20201123_test_5in00002.avi\n",
      "Duration of video [s]:  95.42 , recorded with  19.0 fps!\n",
      "Overall # of frames:  1813  found with (before cropping) frame dimensions:  1280 1024\n",
      "Starting to extract posture\n"
     ]
    },
    {
     "name": "stderr",
     "output_type": "stream",
     "text": [
      "1818it [01:45, 16.54it/s]                          "
     ]
    },
    {
     "name": "stdout",
     "output_type": "stream",
     "text": [
      "Detected frames:  1813\n"
     ]
    },
    {
     "name": "stderr",
     "output_type": "stream",
     "text": [
      "\n",
      "\r",
      "  0%|          | 0/1730 [00:00<?, ?it/s]"
     ]
    },
    {
     "name": "stdout",
     "output_type": "stream",
     "text": [
      "Saving results in /home/qdf0761/DeepLabCut/projects/Test-Qiwei-2020-11-23/videos...\n",
      "Saving csv poses!\n",
      "Starting to analyze %  /home/qdf0761/DeepLabCut/projects/Test-Qiwei-2020-11-23/videos/Han_20201123_test_6in00001.avi\n",
      "Loading  /home/qdf0761/DeepLabCut/projects/Test-Qiwei-2020-11-23/videos/Han_20201123_test_6in00001.avi\n",
      "Duration of video [s]:  78.64 , recorded with  22.0 fps!\n",
      "Overall # of frames:  1730  found with (before cropping) frame dimensions:  1280 1024\n",
      "Starting to extract posture\n"
     ]
    },
    {
     "name": "stderr",
     "output_type": "stream",
     "text": [
      "1734it [01:36, 18.26it/s]                          "
     ]
    },
    {
     "name": "stdout",
     "output_type": "stream",
     "text": [
      "Detected frames:  1730\n"
     ]
    },
    {
     "name": "stderr",
     "output_type": "stream",
     "text": [
      "\n",
      "\r",
      "  0%|          | 0/1730 [00:00<?, ?it/s]"
     ]
    },
    {
     "name": "stdout",
     "output_type": "stream",
     "text": [
      "Saving results in /home/qdf0761/DeepLabCut/projects/Test-Qiwei-2020-11-23/videos...\n",
      "Saving csv poses!\n",
      "Starting to analyze %  /home/qdf0761/DeepLabCut/projects/Test-Qiwei-2020-11-23/videos/Han_20201123_test_6in00002.avi\n",
      "Loading  /home/qdf0761/DeepLabCut/projects/Test-Qiwei-2020-11-23/videos/Han_20201123_test_6in00002.avi\n",
      "Duration of video [s]:  78.64 , recorded with  22.0 fps!\n",
      "Overall # of frames:  1730  found with (before cropping) frame dimensions:  1280 1024\n",
      "Starting to extract posture\n"
     ]
    },
    {
     "name": "stderr",
     "output_type": "stream",
     "text": [
      "1734it [01:37, 18.18it/s]                          "
     ]
    },
    {
     "name": "stdout",
     "output_type": "stream",
     "text": [
      "Detected frames:  1730\n"
     ]
    },
    {
     "name": "stderr",
     "output_type": "stream",
     "text": [
      "\n",
      "\r",
      "  0%|          | 0/1550 [00:00<?, ?it/s]"
     ]
    },
    {
     "name": "stdout",
     "output_type": "stream",
     "text": [
      "Saving results in /home/qdf0761/DeepLabCut/projects/Test-Qiwei-2020-11-23/videos...\n",
      "Saving csv poses!\n",
      "Starting to analyze %  /home/qdf0761/DeepLabCut/projects/Test-Qiwei-2020-11-23/videos/Han_20201123_test_7in00001.avi\n",
      "Loading  /home/qdf0761/DeepLabCut/projects/Test-Qiwei-2020-11-23/videos/Han_20201123_test_7in00001.avi\n",
      "Duration of video [s]:  62.0 , recorded with  25.0 fps!\n",
      "Overall # of frames:  1550  found with (before cropping) frame dimensions:  1280 1024\n",
      "Starting to extract posture\n"
     ]
    },
    {
     "name": "stderr",
     "output_type": "stream",
     "text": [
      "1560it [01:28, 16.86it/s]                          "
     ]
    },
    {
     "name": "stdout",
     "output_type": "stream",
     "text": [
      "Detected frames:  1550\n"
     ]
    },
    {
     "name": "stderr",
     "output_type": "stream",
     "text": [
      "\n",
      "\r",
      "  0%|          | 0/1551 [00:00<?, ?it/s]"
     ]
    },
    {
     "name": "stdout",
     "output_type": "stream",
     "text": [
      "Saving results in /home/qdf0761/DeepLabCut/projects/Test-Qiwei-2020-11-23/videos...\n",
      "Saving csv poses!\n",
      "Starting to analyze %  /home/qdf0761/DeepLabCut/projects/Test-Qiwei-2020-11-23/videos/Han_20201123_test_7in00002.avi\n",
      "Loading  /home/qdf0761/DeepLabCut/projects/Test-Qiwei-2020-11-23/videos/Han_20201123_test_7in00002.avi\n",
      "Duration of video [s]:  103.4 , recorded with  15.0 fps!\n",
      "Overall # of frames:  1551  found with (before cropping) frame dimensions:  1280 1024\n",
      "Starting to extract posture\n"
     ]
    },
    {
     "name": "stderr",
     "output_type": "stream",
     "text": [
      "1560it [01:28, 16.89it/s]                          "
     ]
    },
    {
     "name": "stdout",
     "output_type": "stream",
     "text": [
      "Detected frames:  1551\n"
     ]
    },
    {
     "name": "stderr",
     "output_type": "stream",
     "text": [
      "\n",
      "\r",
      "  0%|          | 0/1925 [00:00<?, ?it/s]"
     ]
    },
    {
     "name": "stdout",
     "output_type": "stream",
     "text": [
      "Saving results in /home/qdf0761/DeepLabCut/projects/Test-Qiwei-2020-11-23/videos...\n",
      "Saving csv poses!\n",
      "Starting to analyze %  /home/qdf0761/DeepLabCut/projects/Test-Qiwei-2020-11-23/videos/Han_20201123_test_9_5in00001.avi\n",
      "Loading  /home/qdf0761/DeepLabCut/projects/Test-Qiwei-2020-11-23/videos/Han_20201123_test_9_5in00001.avi\n",
      "Duration of video [s]:  77.0 , recorded with  25.0 fps!\n",
      "Overall # of frames:  1925  found with (before cropping) frame dimensions:  1280 1024\n",
      "Starting to extract posture\n"
     ]
    },
    {
     "name": "stderr",
     "output_type": "stream",
     "text": [
      "1938it [01:48, 18.63it/s]                          "
     ]
    },
    {
     "name": "stdout",
     "output_type": "stream",
     "text": [
      "Detected frames:  1925\n"
     ]
    },
    {
     "name": "stderr",
     "output_type": "stream",
     "text": [
      "\n",
      "\r",
      "  0%|          | 0/1935 [00:00<?, ?it/s]"
     ]
    },
    {
     "name": "stdout",
     "output_type": "stream",
     "text": [
      "Saving results in /home/qdf0761/DeepLabCut/projects/Test-Qiwei-2020-11-23/videos...\n",
      "Saving csv poses!\n",
      "Starting to analyze %  /home/qdf0761/DeepLabCut/projects/Test-Qiwei-2020-11-23/videos/Han_20201123_test_9_5in00002.avi\n",
      "Loading  /home/qdf0761/DeepLabCut/projects/Test-Qiwei-2020-11-23/videos/Han_20201123_test_9_5in00002.avi\n",
      "Duration of video [s]:  120.94 , recorded with  16.0 fps!\n",
      "Overall # of frames:  1935  found with (before cropping) frame dimensions:  1280 1024\n",
      "Starting to extract posture\n"
     ]
    },
    {
     "name": "stderr",
     "output_type": "stream",
     "text": [
      "1938it [01:48, 18.63it/s]                          "
     ]
    },
    {
     "name": "stdout",
     "output_type": "stream",
     "text": [
      "Detected frames:  1935\n"
     ]
    },
    {
     "name": "stderr",
     "output_type": "stream",
     "text": [
      "\n",
      "\r",
      "  0%|          | 0/1327 [00:00<?, ?it/s]"
     ]
    },
    {
     "name": "stdout",
     "output_type": "stream",
     "text": [
      "Saving results in /home/qdf0761/DeepLabCut/projects/Test-Qiwei-2020-11-23/videos...\n",
      "Saving csv poses!\n",
      "Starting to analyze %  /home/qdf0761/DeepLabCut/projects/Test-Qiwei-2020-11-23/videos/Han_20201123_test_15in00001.avi\n",
      "Loading  /home/qdf0761/DeepLabCut/projects/Test-Qiwei-2020-11-23/videos/Han_20201123_test_15in00001.avi\n",
      "Duration of video [s]:  53.08 , recorded with  25.0 fps!\n",
      "Overall # of frames:  1327  found with (before cropping) frame dimensions:  1280 1024\n",
      "Starting to extract posture\n"
     ]
    },
    {
     "name": "stderr",
     "output_type": "stream",
     "text": [
      "1339it [01:15, 18.77it/s]                          "
     ]
    },
    {
     "name": "stdout",
     "output_type": "stream",
     "text": [
      "Detected frames:  1327\n"
     ]
    },
    {
     "name": "stderr",
     "output_type": "stream",
     "text": [
      "\n",
      "\r",
      "  0%|          | 0/1327 [00:00<?, ?it/s]"
     ]
    },
    {
     "name": "stdout",
     "output_type": "stream",
     "text": [
      "Saving results in /home/qdf0761/DeepLabCut/projects/Test-Qiwei-2020-11-23/videos...\n",
      "Saving csv poses!\n",
      "Starting to analyze %  /home/qdf0761/DeepLabCut/projects/Test-Qiwei-2020-11-23/videos/Han_20201123_test_15in00002.avi\n",
      "Loading  /home/qdf0761/DeepLabCut/projects/Test-Qiwei-2020-11-23/videos/Han_20201123_test_15in00002.avi\n",
      "Duration of video [s]:  53.08 , recorded with  25.0 fps!\n",
      "Overall # of frames:  1327  found with (before cropping) frame dimensions:  1280 1024\n",
      "Starting to extract posture\n"
     ]
    },
    {
     "name": "stderr",
     "output_type": "stream",
     "text": [
      "1339it [01:15, 18.75it/s]                          "
     ]
    },
    {
     "name": "stdout",
     "output_type": "stream",
     "text": [
      "Detected frames:  1327\n",
      "Saving results in /home/qdf0761/DeepLabCut/projects/Test-Qiwei-2020-11-23/videos...\n",
      "Saving csv poses!\n",
      "The videos are analyzed. Now your research can truly start! \n",
      " You can create labeled videos with 'create_labeled_video'.\n",
      "If the tracking is not satisfactory for some videos, consider expanding the training set. You can use the function 'extract_outlier_frames' to extract any outlier frames!\n"
     ]
    },
    {
     "name": "stderr",
     "output_type": "stream",
     "text": [
      "\n"
     ]
    },
    {
     "data": {
      "text/plain": [
       "'DLC_resnet50_TestNov23shuffle1_1030000'"
      ]
     },
     "execution_count": 7,
     "metadata": {},
     "output_type": "execute_result"
    }
   ],
   "source": [
    "\n",
    "#deeplabcut.analyze_videos(path_config_file,[r'C:\\Users\\dongq\\DLC\\Han-Qiwei-2020-07-02\\videos\\exp00001.avi'], save_as_csv=True)\n",
    "#deeplabcut.analyze_videos(path_config_file,[r'C:\\Users\\dongq\\DLC\\Han-Qiwei-2020-07-02\\videos\\exp00002.avi'], save_as_csv=True)\n",
    "#deeplabcut.analyze_videos(path_config_file,[r'C:\\Users\\dongq\\DLC\\Han-Qiwei-2020-07-02\\videos\\exp00003.avi'], save_as_csv=True)\n",
    "#deeplabcut.analyze_videos(path_config_file,[r'C:\\Users\\dongq\\DLC\\Han-Qiwei-2020-07-02\\videos\\exp00004.avi'], save_as_csv=True)\n",
    "\n",
    "\n",
    "#deeplabcut.analyze_videos(path_config_file,['/home/qdf0761/DeepLabCut/projects/Han-Qiwei-2020-08-04-FreeReaching/videos/exp00001.avi'], save_as_csv=True)\n",
    "#deeplabcut.analyze_videos(path_config_file,['/home/qdf0761/DeepLabCut/projects/Han-Qiwei-2020-08-04-FreeReaching/videos/exp00002.avi'], save_as_csv=True)\n",
    "#deeplabcut.analyze_videos(path_config_file,['/home/qdf0761/DeepLabCut/projects/Han-Qiwei-2020-08-04-FreeReaching/videos/exp00003.avi'], save_as_csv=True)\n",
    "#deeplabcut.analyze_videos(path_config_file,['/home/qdf0761/DeepLabCut/projects/Han-Qiwei-2020-08-04-FreeReaching/videos/exp00004.avi'], save_as_csv=True)\n",
    "\n",
    "deeplabcut.analyze_videos(path_config_file,videos, save_as_csv=True)\n",
    "#deeplabcut.analyze_videos(path_config_file,vid2, save_as_csv=True)\n",
    "#deeplabcut.analyze_videos(path_config_file,vid3, save_as_csv=True)\n",
    "#deeplabcut.analyze_videos(path_config_file,vid4, save_as_csv=True)\n",
    "\n",
    "\n",
    "#deeplabcut.analyze_videos(config_path,videos,videotype='avi',shuffle=1,trainingsetindex=0,gputouse=None,save_as_csv=False, destfolder=None)"
   ]
  },
  {
   "cell_type": "code",
   "execution_count": 8,
   "metadata": {
    "scrolled": true
   },
   "outputs": [
    {
     "name": "stderr",
     "output_type": "stream",
     "text": [
      "1it [00:00, 209.34it/s]\n",
      "1it [00:00, 223.32it/s]\n",
      "1it [00:00, 219.71it/s]\n",
      "1it [00:00, 219.34it/s]\n",
      "1it [00:00, 211.91it/s]\n",
      "1it [00:00, 214.77it/s]\n",
      "1it [00:00, 217.43it/s]"
     ]
    },
    {
     "name": "stdout",
     "output_type": "stream",
     "text": [
      "Filtering with spline model /home/qdf0761/DeepLabCut/projects/Test-Qiwei-2020-11-23/videos/Han_20201123_test_5in00001.avi\n",
      "Saving filtered csv poses!\n",
      "Filtering with spline model /home/qdf0761/DeepLabCut/projects/Test-Qiwei-2020-11-23/videos/Han_20201123_test_5in00002.avi\n",
      "Saving filtered csv poses!\n",
      "Filtering with spline model /home/qdf0761/DeepLabCut/projects/Test-Qiwei-2020-11-23/videos/Han_20201123_test_6in00001.avi\n",
      "Saving filtered csv poses!\n",
      "Filtering with spline model /home/qdf0761/DeepLabCut/projects/Test-Qiwei-2020-11-23/videos/Han_20201123_test_6in00002.avi\n",
      "Saving filtered csv poses!\n",
      "Filtering with spline model /home/qdf0761/DeepLabCut/projects/Test-Qiwei-2020-11-23/videos/Han_20201123_test_7in00001.avi\n",
      "Saving filtered csv poses!\n",
      "Filtering with spline model /home/qdf0761/DeepLabCut/projects/Test-Qiwei-2020-11-23/videos/Han_20201123_test_7in00002.avi\n",
      "Saving filtered csv poses!\n",
      "Filtering with spline model /home/qdf0761/DeepLabCut/projects/Test-Qiwei-2020-11-23/videos/Han_20201123_test_9_5in00001.avi\n"
     ]
    },
    {
     "name": "stderr",
     "output_type": "stream",
     "text": [
      "\n",
      "1it [00:00, 221.08it/s]\n",
      "1it [00:00, 242.89it/s]\n",
      "1it [00:00, 245.37it/s]"
     ]
    },
    {
     "name": "stdout",
     "output_type": "stream",
     "text": [
      "Saving filtered csv poses!\n",
      "Filtering with spline model /home/qdf0761/DeepLabCut/projects/Test-Qiwei-2020-11-23/videos/Han_20201123_test_9_5in00002.avi\n",
      "Saving filtered csv poses!\n",
      "Filtering with spline model /home/qdf0761/DeepLabCut/projects/Test-Qiwei-2020-11-23/videos/Han_20201123_test_15in00001.avi\n",
      "Saving filtered csv poses!\n",
      "Filtering with spline model /home/qdf0761/DeepLabCut/projects/Test-Qiwei-2020-11-23/videos/Han_20201123_test_15in00002.avi\n",
      "Saving filtered csv poses!\n"
     ]
    },
    {
     "name": "stderr",
     "output_type": "stream",
     "text": [
      "\n"
     ]
    }
   ],
   "source": [
    "#deeplabcut.filterpredictions?\n",
    "#deeplabcut.filterpredictions(path_config_file,[r'/home/qdf0761/DeepLabCut/projects/Han-Qiwei-2020-02-21/videos/exp00001.avi'], shuffle=1)\n",
    "\n",
    "deeplabcut.filterpredictions(path_config_file,videos,filtertype='spline')\n",
    "#deeplabcut.filterpredictions(path_config_file,vid2,filtertype='spline')\n",
    "#deeplabcut.filterpredictions(path_config_file,vid3,filtertype='spline')\n",
    "#deeplabcut.filterpredictions(path_config_file,vid4,filtertype='spline')\n",
    "\n",
    "\n"
   ]
  },
  {
   "cell_type": "code",
   "execution_count": 12,
   "metadata": {},
   "outputs": [],
   "source": [
    "deeplabcut.create_labeled_video?"
   ]
  },
  {
   "cell_type": "code",
   "execution_count": 9,
   "metadata": {
    "scrolled": true
   },
   "outputs": [
    {
     "name": "stdout",
     "output_type": "stream",
     "text": [
      "/home/qdf0761/DeepLabCut/projects/Test-Qiwei-2020-11-23/videos/Han_20201123_test_5in00001.avi\n",
      "Starting %  /home/qdf0761/DeepLabCut/projects/Test-Qiwei-2020-11-23/videos /home/qdf0761/DeepLabCut/projects/Test-Qiwei-2020-11-23/videos/Han_20201123_test_5in00001.avi\n",
      "Loading  /home/qdf0761/DeepLabCut/projects/Test-Qiwei-2020-11-23/videos/Han_20201123_test_5in00001.avi and data.\n",
      "/home/qdf0761/DeepLabCut/projects/Test-Qiwei-2020-11-23/videos  already exists!\n",
      "/home/qdf0761/DeepLabCut/projects/Test-Qiwei-2020-11-23/videos/Han_20201123_test_5in00002.avi\n",
      "Starting %  /home/qdf0761/DeepLabCut/projects/Test-Qiwei-2020-11-23/videos /home/qdf0761/DeepLabCut/projects/Test-Qiwei-2020-11-23/videos/Han_20201123_test_5in00002.avi\n",
      "Loading  /home/qdf0761/DeepLabCut/projects/Test-Qiwei-2020-11-23/videos/Han_20201123_test_5in00002.avi and data.\n",
      "/home/qdf0761/DeepLabCut/projects/Test-Qiwei-2020-11-23/videos  already exists!\n",
      "/home/qdf0761/DeepLabCut/projects/Test-Qiwei-2020-11-23/videos/plot-poses  already exists!\n",
      "/home/qdf0761/DeepLabCut/projects/Test-Qiwei-2020-11-23/videos/Han_20201123_test_6in00001.avi\n",
      "Starting %  /home/qdf0761/DeepLabCut/projects/Test-Qiwei-2020-11-23/videos /home/qdf0761/DeepLabCut/projects/Test-Qiwei-2020-11-23/videos/Han_20201123_test_6in00001.avi\n",
      "Loading  /home/qdf0761/DeepLabCut/projects/Test-Qiwei-2020-11-23/videos/Han_20201123_test_6in00001.avi and data.\n",
      "/home/qdf0761/DeepLabCut/projects/Test-Qiwei-2020-11-23/videos  already exists!\n",
      "/home/qdf0761/DeepLabCut/projects/Test-Qiwei-2020-11-23/videos/plot-poses  already exists!\n",
      "/home/qdf0761/DeepLabCut/projects/Test-Qiwei-2020-11-23/videos/Han_20201123_test_6in00002.avi\n",
      "Starting %  /home/qdf0761/DeepLabCut/projects/Test-Qiwei-2020-11-23/videos /home/qdf0761/DeepLabCut/projects/Test-Qiwei-2020-11-23/videos/Han_20201123_test_6in00002.avi\n",
      "Loading  /home/qdf0761/DeepLabCut/projects/Test-Qiwei-2020-11-23/videos/Han_20201123_test_6in00002.avi and data.\n",
      "/home/qdf0761/DeepLabCut/projects/Test-Qiwei-2020-11-23/videos  already exists!\n",
      "/home/qdf0761/DeepLabCut/projects/Test-Qiwei-2020-11-23/videos/plot-poses  already exists!\n",
      "/home/qdf0761/DeepLabCut/projects/Test-Qiwei-2020-11-23/videos/Han_20201123_test_7in00001.avi\n",
      "Starting %  /home/qdf0761/DeepLabCut/projects/Test-Qiwei-2020-11-23/videos /home/qdf0761/DeepLabCut/projects/Test-Qiwei-2020-11-23/videos/Han_20201123_test_7in00001.avi\n",
      "Loading  /home/qdf0761/DeepLabCut/projects/Test-Qiwei-2020-11-23/videos/Han_20201123_test_7in00001.avi and data.\n",
      "/home/qdf0761/DeepLabCut/projects/Test-Qiwei-2020-11-23/videos  already exists!\n",
      "/home/qdf0761/DeepLabCut/projects/Test-Qiwei-2020-11-23/videos/plot-poses  already exists!\n",
      "/home/qdf0761/DeepLabCut/projects/Test-Qiwei-2020-11-23/videos/Han_20201123_test_7in00002.avi\n",
      "Starting %  /home/qdf0761/DeepLabCut/projects/Test-Qiwei-2020-11-23/videos /home/qdf0761/DeepLabCut/projects/Test-Qiwei-2020-11-23/videos/Han_20201123_test_7in00002.avi\n",
      "Loading  /home/qdf0761/DeepLabCut/projects/Test-Qiwei-2020-11-23/videos/Han_20201123_test_7in00002.avi and data.\n",
      "/home/qdf0761/DeepLabCut/projects/Test-Qiwei-2020-11-23/videos  already exists!\n",
      "/home/qdf0761/DeepLabCut/projects/Test-Qiwei-2020-11-23/videos/plot-poses  already exists!\n",
      "/home/qdf0761/DeepLabCut/projects/Test-Qiwei-2020-11-23/videos/Han_20201123_test_9_5in00001.avi\n",
      "Starting %  /home/qdf0761/DeepLabCut/projects/Test-Qiwei-2020-11-23/videos /home/qdf0761/DeepLabCut/projects/Test-Qiwei-2020-11-23/videos/Han_20201123_test_9_5in00001.avi\n",
      "Loading  /home/qdf0761/DeepLabCut/projects/Test-Qiwei-2020-11-23/videos/Han_20201123_test_9_5in00001.avi and data.\n",
      "/home/qdf0761/DeepLabCut/projects/Test-Qiwei-2020-11-23/videos  already exists!\n",
      "/home/qdf0761/DeepLabCut/projects/Test-Qiwei-2020-11-23/videos/plot-poses  already exists!\n",
      "/home/qdf0761/DeepLabCut/projects/Test-Qiwei-2020-11-23/videos/Han_20201123_test_9_5in00002.avi\n",
      "Starting %  /home/qdf0761/DeepLabCut/projects/Test-Qiwei-2020-11-23/videos /home/qdf0761/DeepLabCut/projects/Test-Qiwei-2020-11-23/videos/Han_20201123_test_9_5in00002.avi\n",
      "Loading  /home/qdf0761/DeepLabCut/projects/Test-Qiwei-2020-11-23/videos/Han_20201123_test_9_5in00002.avi and data.\n",
      "/home/qdf0761/DeepLabCut/projects/Test-Qiwei-2020-11-23/videos  already exists!\n",
      "/home/qdf0761/DeepLabCut/projects/Test-Qiwei-2020-11-23/videos/plot-poses  already exists!\n",
      "/home/qdf0761/DeepLabCut/projects/Test-Qiwei-2020-11-23/videos/Han_20201123_test_15in00001.avi\n",
      "Starting %  /home/qdf0761/DeepLabCut/projects/Test-Qiwei-2020-11-23/videos /home/qdf0761/DeepLabCut/projects/Test-Qiwei-2020-11-23/videos/Han_20201123_test_15in00001.avi\n",
      "Loading  /home/qdf0761/DeepLabCut/projects/Test-Qiwei-2020-11-23/videos/Han_20201123_test_15in00001.avi and data.\n",
      "/home/qdf0761/DeepLabCut/projects/Test-Qiwei-2020-11-23/videos  already exists!\n",
      "/home/qdf0761/DeepLabCut/projects/Test-Qiwei-2020-11-23/videos/plot-poses  already exists!\n",
      "/home/qdf0761/DeepLabCut/projects/Test-Qiwei-2020-11-23/videos/Han_20201123_test_15in00002.avi\n",
      "Starting %  /home/qdf0761/DeepLabCut/projects/Test-Qiwei-2020-11-23/videos /home/qdf0761/DeepLabCut/projects/Test-Qiwei-2020-11-23/videos/Han_20201123_test_15in00002.avi\n",
      "Loading  /home/qdf0761/DeepLabCut/projects/Test-Qiwei-2020-11-23/videos/Han_20201123_test_15in00002.avi and data.\n",
      "/home/qdf0761/DeepLabCut/projects/Test-Qiwei-2020-11-23/videos  already exists!\n",
      "/home/qdf0761/DeepLabCut/projects/Test-Qiwei-2020-11-23/videos/plot-poses  already exists!\n",
      "Plots created! Please check the directory \"plot-poses\" within the video directory\n"
     ]
    }
   ],
   "source": [
    "#linux\n",
    "#deeplabcut.plot_trajectories(path_config_file,[r'/home/qdf0761/DeepLabCut/projects/Han-Qiwei-2020-02-21/videos/exp00001.avi'])\n",
    "#deeplabcut.plot_trajectories(path_config_file,[r'/home/qdf0761/DeepLabCut/projects/Han-Qiwei-2020-02-21/videos/exp00002.avi'])\n",
    "#deeplabcut.plot_trajectories(path_config_file,[r'/home/qdf0761/DeepLabCut/projects/Han-Qiwei-2020-02-21/videos/exp00003.avi'])\n",
    "\n",
    "#Windows\n",
    "deeplabcut.plot_trajectories(path_config_file,videos)\n",
    "#deeplabcut.plot_trajectories(path_config_file,vid2)\n",
    "#deeplabcut.plot_trajectories(path_config_file,vid3)\n",
    "#deeplabcut.plot_trajectories(path_config_file,vid4)\n"
   ]
  },
  {
   "cell_type": "code",
   "execution_count": 10,
   "metadata": {
    "scrolled": true
   },
   "outputs": [
    {
     "name": "stderr",
     "output_type": "stream",
     "text": [
      "  1%|          | 11/1812 [00:00<00:17, 105.02it/s]"
     ]
    },
    {
     "name": "stdout",
     "output_type": "stream",
     "text": [
      "Starting %  /home/qdf0761/DeepLabCut/projects/Test-Qiwei-2020-11-23/videos ['/home/qdf0761/DeepLabCut/projects/Test-Qiwei-2020-11-23/videos/Han_20201123_test_5in00001.avi', '/home/qdf0761/DeepLabCut/projects/Test-Qiwei-2020-11-23/videos/Han_20201123_test_5in00002.avi', '/home/qdf0761/DeepLabCut/projects/Test-Qiwei-2020-11-23/videos/Han_20201123_test_6in00001.avi', '/home/qdf0761/DeepLabCut/projects/Test-Qiwei-2020-11-23/videos/Han_20201123_test_6in00002.avi', '/home/qdf0761/DeepLabCut/projects/Test-Qiwei-2020-11-23/videos/Han_20201123_test_7in00001.avi', '/home/qdf0761/DeepLabCut/projects/Test-Qiwei-2020-11-23/videos/Han_20201123_test_7in00002.avi', '/home/qdf0761/DeepLabCut/projects/Test-Qiwei-2020-11-23/videos/Han_20201123_test_9_5in00001.avi', '/home/qdf0761/DeepLabCut/projects/Test-Qiwei-2020-11-23/videos/Han_20201123_test_9_5in00002.avi', '/home/qdf0761/DeepLabCut/projects/Test-Qiwei-2020-11-23/videos/Han_20201123_test_15in00001.avi', '/home/qdf0761/DeepLabCut/projects/Test-Qiwei-2020-11-23/videos/Han_20201123_test_15in00002.avi']\n",
      "Loading  /home/qdf0761/DeepLabCut/projects/Test-Qiwei-2020-11-23/videos/Han_20201123_test_5in00001.avi and data.\n",
      "1812\n",
      "Duration of video [s]:  72.48 , recorded with  25.0 fps!\n",
      "Overall # of frames:  1812 with cropped frame dimensions:  1280 1024\n",
      "Generating frames and creating video.\n"
     ]
    },
    {
     "name": "stderr",
     "output_type": "stream",
     "text": [
      "100%|██████████| 1812/1812 [00:16<00:00, 108.22it/s]\n",
      "  1%|          | 10/1813 [00:00<00:18, 94.97it/s]"
     ]
    },
    {
     "name": "stdout",
     "output_type": "stream",
     "text": [
      "Starting %  /home/qdf0761/DeepLabCut/projects/Test-Qiwei-2020-11-23/videos ['/home/qdf0761/DeepLabCut/projects/Test-Qiwei-2020-11-23/videos/Han_20201123_test_5in00001.avi', '/home/qdf0761/DeepLabCut/projects/Test-Qiwei-2020-11-23/videos/Han_20201123_test_5in00002.avi', '/home/qdf0761/DeepLabCut/projects/Test-Qiwei-2020-11-23/videos/Han_20201123_test_6in00001.avi', '/home/qdf0761/DeepLabCut/projects/Test-Qiwei-2020-11-23/videos/Han_20201123_test_6in00002.avi', '/home/qdf0761/DeepLabCut/projects/Test-Qiwei-2020-11-23/videos/Han_20201123_test_7in00001.avi', '/home/qdf0761/DeepLabCut/projects/Test-Qiwei-2020-11-23/videos/Han_20201123_test_7in00002.avi', '/home/qdf0761/DeepLabCut/projects/Test-Qiwei-2020-11-23/videos/Han_20201123_test_9_5in00001.avi', '/home/qdf0761/DeepLabCut/projects/Test-Qiwei-2020-11-23/videos/Han_20201123_test_9_5in00002.avi', '/home/qdf0761/DeepLabCut/projects/Test-Qiwei-2020-11-23/videos/Han_20201123_test_15in00001.avi', '/home/qdf0761/DeepLabCut/projects/Test-Qiwei-2020-11-23/videos/Han_20201123_test_15in00002.avi']\n",
      "Loading  /home/qdf0761/DeepLabCut/projects/Test-Qiwei-2020-11-23/videos/Han_20201123_test_5in00002.avi and data.\n",
      "1813\n",
      "Duration of video [s]:  95.42 , recorded with  19.0 fps!\n",
      "Overall # of frames:  1813 with cropped frame dimensions:  1280 1024\n",
      "Generating frames and creating video.\n"
     ]
    },
    {
     "name": "stderr",
     "output_type": "stream",
     "text": [
      "100%|██████████| 1813/1813 [00:17<00:00, 105.17it/s]\n",
      "  1%|          | 11/1730 [00:00<00:16, 103.16it/s]"
     ]
    },
    {
     "name": "stdout",
     "output_type": "stream",
     "text": [
      "Starting %  /home/qdf0761/DeepLabCut/projects/Test-Qiwei-2020-11-23/videos ['/home/qdf0761/DeepLabCut/projects/Test-Qiwei-2020-11-23/videos/Han_20201123_test_5in00001.avi', '/home/qdf0761/DeepLabCut/projects/Test-Qiwei-2020-11-23/videos/Han_20201123_test_5in00002.avi', '/home/qdf0761/DeepLabCut/projects/Test-Qiwei-2020-11-23/videos/Han_20201123_test_6in00001.avi', '/home/qdf0761/DeepLabCut/projects/Test-Qiwei-2020-11-23/videos/Han_20201123_test_6in00002.avi', '/home/qdf0761/DeepLabCut/projects/Test-Qiwei-2020-11-23/videos/Han_20201123_test_7in00001.avi', '/home/qdf0761/DeepLabCut/projects/Test-Qiwei-2020-11-23/videos/Han_20201123_test_7in00002.avi', '/home/qdf0761/DeepLabCut/projects/Test-Qiwei-2020-11-23/videos/Han_20201123_test_9_5in00001.avi', '/home/qdf0761/DeepLabCut/projects/Test-Qiwei-2020-11-23/videos/Han_20201123_test_9_5in00002.avi', '/home/qdf0761/DeepLabCut/projects/Test-Qiwei-2020-11-23/videos/Han_20201123_test_15in00001.avi', '/home/qdf0761/DeepLabCut/projects/Test-Qiwei-2020-11-23/videos/Han_20201123_test_15in00002.avi']\n",
      "Loading  /home/qdf0761/DeepLabCut/projects/Test-Qiwei-2020-11-23/videos/Han_20201123_test_6in00001.avi and data.\n",
      "1730\n",
      "Duration of video [s]:  78.64 , recorded with  22.0 fps!\n",
      "Overall # of frames:  1730 with cropped frame dimensions:  1280 1024\n",
      "Generating frames and creating video.\n"
     ]
    },
    {
     "name": "stderr",
     "output_type": "stream",
     "text": [
      "100%|██████████| 1730/1730 [00:15<00:00, 113.27it/s]\n",
      "  1%|          | 11/1730 [00:00<00:17, 101.07it/s]"
     ]
    },
    {
     "name": "stdout",
     "output_type": "stream",
     "text": [
      "Starting %  /home/qdf0761/DeepLabCut/projects/Test-Qiwei-2020-11-23/videos ['/home/qdf0761/DeepLabCut/projects/Test-Qiwei-2020-11-23/videos/Han_20201123_test_5in00001.avi', '/home/qdf0761/DeepLabCut/projects/Test-Qiwei-2020-11-23/videos/Han_20201123_test_5in00002.avi', '/home/qdf0761/DeepLabCut/projects/Test-Qiwei-2020-11-23/videos/Han_20201123_test_6in00001.avi', '/home/qdf0761/DeepLabCut/projects/Test-Qiwei-2020-11-23/videos/Han_20201123_test_6in00002.avi', '/home/qdf0761/DeepLabCut/projects/Test-Qiwei-2020-11-23/videos/Han_20201123_test_7in00001.avi', '/home/qdf0761/DeepLabCut/projects/Test-Qiwei-2020-11-23/videos/Han_20201123_test_7in00002.avi', '/home/qdf0761/DeepLabCut/projects/Test-Qiwei-2020-11-23/videos/Han_20201123_test_9_5in00001.avi', '/home/qdf0761/DeepLabCut/projects/Test-Qiwei-2020-11-23/videos/Han_20201123_test_9_5in00002.avi', '/home/qdf0761/DeepLabCut/projects/Test-Qiwei-2020-11-23/videos/Han_20201123_test_15in00001.avi', '/home/qdf0761/DeepLabCut/projects/Test-Qiwei-2020-11-23/videos/Han_20201123_test_15in00002.avi']\n",
      "Loading  /home/qdf0761/DeepLabCut/projects/Test-Qiwei-2020-11-23/videos/Han_20201123_test_6in00002.avi and data.\n",
      "1730\n",
      "Duration of video [s]:  78.64 , recorded with  22.0 fps!\n",
      "Overall # of frames:  1730 with cropped frame dimensions:  1280 1024\n",
      "Generating frames and creating video.\n"
     ]
    },
    {
     "name": "stderr",
     "output_type": "stream",
     "text": [
      "100%|██████████| 1730/1730 [00:16<00:00, 107.74it/s]\n",
      "  1%|          | 10/1550 [00:00<00:16, 93.72it/s]"
     ]
    },
    {
     "name": "stdout",
     "output_type": "stream",
     "text": [
      "Starting %  /home/qdf0761/DeepLabCut/projects/Test-Qiwei-2020-11-23/videos ['/home/qdf0761/DeepLabCut/projects/Test-Qiwei-2020-11-23/videos/Han_20201123_test_5in00001.avi', '/home/qdf0761/DeepLabCut/projects/Test-Qiwei-2020-11-23/videos/Han_20201123_test_5in00002.avi', '/home/qdf0761/DeepLabCut/projects/Test-Qiwei-2020-11-23/videos/Han_20201123_test_6in00001.avi', '/home/qdf0761/DeepLabCut/projects/Test-Qiwei-2020-11-23/videos/Han_20201123_test_6in00002.avi', '/home/qdf0761/DeepLabCut/projects/Test-Qiwei-2020-11-23/videos/Han_20201123_test_7in00001.avi', '/home/qdf0761/DeepLabCut/projects/Test-Qiwei-2020-11-23/videos/Han_20201123_test_7in00002.avi', '/home/qdf0761/DeepLabCut/projects/Test-Qiwei-2020-11-23/videos/Han_20201123_test_9_5in00001.avi', '/home/qdf0761/DeepLabCut/projects/Test-Qiwei-2020-11-23/videos/Han_20201123_test_9_5in00002.avi', '/home/qdf0761/DeepLabCut/projects/Test-Qiwei-2020-11-23/videos/Han_20201123_test_15in00001.avi', '/home/qdf0761/DeepLabCut/projects/Test-Qiwei-2020-11-23/videos/Han_20201123_test_15in00002.avi']\n",
      "Loading  /home/qdf0761/DeepLabCut/projects/Test-Qiwei-2020-11-23/videos/Han_20201123_test_7in00001.avi and data.\n",
      "1550\n",
      "Duration of video [s]:  62.0 , recorded with  25.0 fps!\n",
      "Overall # of frames:  1550 with cropped frame dimensions:  1280 1024\n",
      "Generating frames and creating video.\n"
     ]
    },
    {
     "name": "stderr",
     "output_type": "stream",
     "text": [
      "100%|██████████| 1550/1550 [00:14<00:00, 110.33it/s]\n",
      "  1%|          | 9/1551 [00:00<00:18, 83.46it/s]"
     ]
    },
    {
     "name": "stdout",
     "output_type": "stream",
     "text": [
      "Starting %  /home/qdf0761/DeepLabCut/projects/Test-Qiwei-2020-11-23/videos ['/home/qdf0761/DeepLabCut/projects/Test-Qiwei-2020-11-23/videos/Han_20201123_test_5in00001.avi', '/home/qdf0761/DeepLabCut/projects/Test-Qiwei-2020-11-23/videos/Han_20201123_test_5in00002.avi', '/home/qdf0761/DeepLabCut/projects/Test-Qiwei-2020-11-23/videos/Han_20201123_test_6in00001.avi', '/home/qdf0761/DeepLabCut/projects/Test-Qiwei-2020-11-23/videos/Han_20201123_test_6in00002.avi', '/home/qdf0761/DeepLabCut/projects/Test-Qiwei-2020-11-23/videos/Han_20201123_test_7in00001.avi', '/home/qdf0761/DeepLabCut/projects/Test-Qiwei-2020-11-23/videos/Han_20201123_test_7in00002.avi', '/home/qdf0761/DeepLabCut/projects/Test-Qiwei-2020-11-23/videos/Han_20201123_test_9_5in00001.avi', '/home/qdf0761/DeepLabCut/projects/Test-Qiwei-2020-11-23/videos/Han_20201123_test_9_5in00002.avi', '/home/qdf0761/DeepLabCut/projects/Test-Qiwei-2020-11-23/videos/Han_20201123_test_15in00001.avi', '/home/qdf0761/DeepLabCut/projects/Test-Qiwei-2020-11-23/videos/Han_20201123_test_15in00002.avi']\n",
      "Loading  /home/qdf0761/DeepLabCut/projects/Test-Qiwei-2020-11-23/videos/Han_20201123_test_7in00002.avi and data.\n",
      "1551\n",
      "Duration of video [s]:  103.4 , recorded with  15.0 fps!\n",
      "Overall # of frames:  1551 with cropped frame dimensions:  1280 1024\n",
      "Generating frames and creating video.\n"
     ]
    },
    {
     "name": "stderr",
     "output_type": "stream",
     "text": [
      "100%|██████████| 1551/1551 [00:14<00:00, 106.76it/s]\n",
      "  1%|          | 11/1925 [00:00<00:18, 101.85it/s]"
     ]
    },
    {
     "name": "stdout",
     "output_type": "stream",
     "text": [
      "Starting %  /home/qdf0761/DeepLabCut/projects/Test-Qiwei-2020-11-23/videos ['/home/qdf0761/DeepLabCut/projects/Test-Qiwei-2020-11-23/videos/Han_20201123_test_5in00001.avi', '/home/qdf0761/DeepLabCut/projects/Test-Qiwei-2020-11-23/videos/Han_20201123_test_5in00002.avi', '/home/qdf0761/DeepLabCut/projects/Test-Qiwei-2020-11-23/videos/Han_20201123_test_6in00001.avi', '/home/qdf0761/DeepLabCut/projects/Test-Qiwei-2020-11-23/videos/Han_20201123_test_6in00002.avi', '/home/qdf0761/DeepLabCut/projects/Test-Qiwei-2020-11-23/videos/Han_20201123_test_7in00001.avi', '/home/qdf0761/DeepLabCut/projects/Test-Qiwei-2020-11-23/videos/Han_20201123_test_7in00002.avi', '/home/qdf0761/DeepLabCut/projects/Test-Qiwei-2020-11-23/videos/Han_20201123_test_9_5in00001.avi', '/home/qdf0761/DeepLabCut/projects/Test-Qiwei-2020-11-23/videos/Han_20201123_test_9_5in00002.avi', '/home/qdf0761/DeepLabCut/projects/Test-Qiwei-2020-11-23/videos/Han_20201123_test_15in00001.avi', '/home/qdf0761/DeepLabCut/projects/Test-Qiwei-2020-11-23/videos/Han_20201123_test_15in00002.avi']\n",
      "Loading  /home/qdf0761/DeepLabCut/projects/Test-Qiwei-2020-11-23/videos/Han_20201123_test_9_5in00001.avi and data.\n",
      "1925\n",
      "Duration of video [s]:  77.0 , recorded with  25.0 fps!\n",
      "Overall # of frames:  1925 with cropped frame dimensions:  1280 1024\n",
      "Generating frames and creating video.\n"
     ]
    },
    {
     "name": "stderr",
     "output_type": "stream",
     "text": [
      "100%|██████████| 1925/1925 [00:18<00:00, 105.81it/s]\n",
      "  1%|          | 10/1935 [00:00<00:20, 93.06it/s]"
     ]
    },
    {
     "name": "stdout",
     "output_type": "stream",
     "text": [
      "Starting %  /home/qdf0761/DeepLabCut/projects/Test-Qiwei-2020-11-23/videos ['/home/qdf0761/DeepLabCut/projects/Test-Qiwei-2020-11-23/videos/Han_20201123_test_5in00001.avi', '/home/qdf0761/DeepLabCut/projects/Test-Qiwei-2020-11-23/videos/Han_20201123_test_5in00002.avi', '/home/qdf0761/DeepLabCut/projects/Test-Qiwei-2020-11-23/videos/Han_20201123_test_6in00001.avi', '/home/qdf0761/DeepLabCut/projects/Test-Qiwei-2020-11-23/videos/Han_20201123_test_6in00002.avi', '/home/qdf0761/DeepLabCut/projects/Test-Qiwei-2020-11-23/videos/Han_20201123_test_7in00001.avi', '/home/qdf0761/DeepLabCut/projects/Test-Qiwei-2020-11-23/videos/Han_20201123_test_7in00002.avi', '/home/qdf0761/DeepLabCut/projects/Test-Qiwei-2020-11-23/videos/Han_20201123_test_9_5in00001.avi', '/home/qdf0761/DeepLabCut/projects/Test-Qiwei-2020-11-23/videos/Han_20201123_test_9_5in00002.avi', '/home/qdf0761/DeepLabCut/projects/Test-Qiwei-2020-11-23/videos/Han_20201123_test_15in00001.avi', '/home/qdf0761/DeepLabCut/projects/Test-Qiwei-2020-11-23/videos/Han_20201123_test_15in00002.avi']\n",
      "Loading  /home/qdf0761/DeepLabCut/projects/Test-Qiwei-2020-11-23/videos/Han_20201123_test_9_5in00002.avi and data.\n",
      "1935\n",
      "Duration of video [s]:  120.94 , recorded with  16.0 fps!\n",
      "Overall # of frames:  1935 with cropped frame dimensions:  1280 1024\n",
      "Generating frames and creating video.\n"
     ]
    },
    {
     "name": "stderr",
     "output_type": "stream",
     "text": [
      "100%|██████████| 1935/1935 [00:18<00:00, 105.75it/s]\n",
      "  1%|          | 11/1327 [00:00<00:12, 103.53it/s]"
     ]
    },
    {
     "name": "stdout",
     "output_type": "stream",
     "text": [
      "Starting %  /home/qdf0761/DeepLabCut/projects/Test-Qiwei-2020-11-23/videos ['/home/qdf0761/DeepLabCut/projects/Test-Qiwei-2020-11-23/videos/Han_20201123_test_5in00001.avi', '/home/qdf0761/DeepLabCut/projects/Test-Qiwei-2020-11-23/videos/Han_20201123_test_5in00002.avi', '/home/qdf0761/DeepLabCut/projects/Test-Qiwei-2020-11-23/videos/Han_20201123_test_6in00001.avi', '/home/qdf0761/DeepLabCut/projects/Test-Qiwei-2020-11-23/videos/Han_20201123_test_6in00002.avi', '/home/qdf0761/DeepLabCut/projects/Test-Qiwei-2020-11-23/videos/Han_20201123_test_7in00001.avi', '/home/qdf0761/DeepLabCut/projects/Test-Qiwei-2020-11-23/videos/Han_20201123_test_7in00002.avi', '/home/qdf0761/DeepLabCut/projects/Test-Qiwei-2020-11-23/videos/Han_20201123_test_9_5in00001.avi', '/home/qdf0761/DeepLabCut/projects/Test-Qiwei-2020-11-23/videos/Han_20201123_test_9_5in00002.avi', '/home/qdf0761/DeepLabCut/projects/Test-Qiwei-2020-11-23/videos/Han_20201123_test_15in00001.avi', '/home/qdf0761/DeepLabCut/projects/Test-Qiwei-2020-11-23/videos/Han_20201123_test_15in00002.avi']\n",
      "Loading  /home/qdf0761/DeepLabCut/projects/Test-Qiwei-2020-11-23/videos/Han_20201123_test_15in00001.avi and data.\n",
      "1327\n",
      "Duration of video [s]:  53.08 , recorded with  25.0 fps!\n",
      "Overall # of frames:  1327 with cropped frame dimensions:  1280 1024\n",
      "Generating frames and creating video.\n"
     ]
    },
    {
     "name": "stderr",
     "output_type": "stream",
     "text": [
      "100%|██████████| 1327/1327 [00:12<00:00, 110.37it/s]\n",
      "  1%|          | 10/1327 [00:00<00:13, 97.24it/s]"
     ]
    },
    {
     "name": "stdout",
     "output_type": "stream",
     "text": [
      "Starting %  /home/qdf0761/DeepLabCut/projects/Test-Qiwei-2020-11-23/videos ['/home/qdf0761/DeepLabCut/projects/Test-Qiwei-2020-11-23/videos/Han_20201123_test_5in00001.avi', '/home/qdf0761/DeepLabCut/projects/Test-Qiwei-2020-11-23/videos/Han_20201123_test_5in00002.avi', '/home/qdf0761/DeepLabCut/projects/Test-Qiwei-2020-11-23/videos/Han_20201123_test_6in00001.avi', '/home/qdf0761/DeepLabCut/projects/Test-Qiwei-2020-11-23/videos/Han_20201123_test_6in00002.avi', '/home/qdf0761/DeepLabCut/projects/Test-Qiwei-2020-11-23/videos/Han_20201123_test_7in00001.avi', '/home/qdf0761/DeepLabCut/projects/Test-Qiwei-2020-11-23/videos/Han_20201123_test_7in00002.avi', '/home/qdf0761/DeepLabCut/projects/Test-Qiwei-2020-11-23/videos/Han_20201123_test_9_5in00001.avi', '/home/qdf0761/DeepLabCut/projects/Test-Qiwei-2020-11-23/videos/Han_20201123_test_9_5in00002.avi', '/home/qdf0761/DeepLabCut/projects/Test-Qiwei-2020-11-23/videos/Han_20201123_test_15in00001.avi', '/home/qdf0761/DeepLabCut/projects/Test-Qiwei-2020-11-23/videos/Han_20201123_test_15in00002.avi']\n",
      "Loading  /home/qdf0761/DeepLabCut/projects/Test-Qiwei-2020-11-23/videos/Han_20201123_test_15in00002.avi and data.\n",
      "1327\n",
      "Duration of video [s]:  53.08 , recorded with  25.0 fps!\n",
      "Overall # of frames:  1327 with cropped frame dimensions:  1280 1024\n",
      "Generating frames and creating video.\n"
     ]
    },
    {
     "name": "stderr",
     "output_type": "stream",
     "text": [
      "100%|██████████| 1327/1327 [00:12<00:00, 103.11it/s]\n"
     ]
    }
   ],
   "source": [
    "#deeplabcut.create_labeled_video(path_config_file,['/home/qdf0761/DeepLabCut/projects/Han-Qiwei-2020-02-14-1/videos/exp00015.avi'])\n",
    "deeplabcut.create_labeled_video(path_config_file,videos,filtered=True)\n",
    "#deeplabcut.create_labeled_video(path_config_file,vid2,filtered=True)\n",
    "#deeplabcut.create_labeled_video(path_config_file,vid3,filtered=True)\n",
    "#deeplabcut.create_labeled_video(path_config_file,vid4,filtered=True)\n",
    "\n",
    "###TODO: ADD PRINT STATEMENTS IN MAKE_LABELED_VIDEO.PY's create_labeled_video() and CreateVideo() FUNCTIONS, SEE IF ANY PROBLEMS ARE IN THERE\n",
    "#make_labeled_video.py, around line 397, print(\"here\")\n",
    "#                              line 50, print(\"In CreateVideo()\")\n",
    "#                              line 115,print(\"end of CreateVideo()\")\n",
    "#                              line 125,print(\"In CreateVideoSlow()\")\n",
    "#                              line 248,print(\"End Of CreateVideoSlow()\")\n",
    "#DeepLabCut/deeplabcut/utils/make_labeled_video.py\n",
    "\n",
    "#deeplabcut.create_labeled_video(path_config_file,[r'/home/qdf0761/DeepLabCut/projects/Han-Qiwei-2020-02-14-1/videos/exp00016.avi'])\n",
    "#deeplabcut.create_labeled_video(path_config_file,[r'/home/qdf0761/DeepLabCut/projects/Han-Qiwei-2020-02-14-1/videos/exp00017.avi'])"
   ]
  },
  {
   "cell_type": "code",
   "execution_count": 10,
   "metadata": {},
   "outputs": [
    {
     "name": "stdout",
     "output_type": "stream",
     "text": [
      "/usr/local/lib/python3.6/dist-packages/deeplabcut/utils/make_labeled_video.py\n"
     ]
    }
   ],
   "source": [
    "\n",
    "#import os\n",
    "#import inspect\n",
    "#import external_def\n",
    "\n",
    "\n",
    "#print(os.path.abspath(inspect.getfile(deeplabcut.create_labeled_video)))"
   ]
  },
  {
   "cell_type": "code",
   "execution_count": 20,
   "metadata": {},
   "outputs": [
    {
     "name": "stderr",
     "output_type": "stream",
     "text": [
      "Config:\n",
      "{'all_joints': [[0], [1], [2], [3], [4], [5], [6], [7], [8], [9]],\n",
      " 'all_joints_names': ['shoulder1',\n",
      "                      'arm1',\n",
      "                      'arm2',\n",
      "                      'elbow1',\n",
      "                      'elbow2',\n",
      "                      'wrist1',\n",
      "                      'wrist2',\n",
      "                      'hand1',\n",
      "                      'hand2',\n",
      "                      'hand3'],\n",
      " 'batch_size': 1,\n",
      " 'bottomheight': 400,\n",
      " 'crop': True,\n",
      " 'crop_pad': 0,\n",
      " 'cropratio': 0.4,\n",
      " 'dataset': 'training-datasets\\\\iteration-0\\\\UnaugmentedDataSet_HanJul2\\\\Han_Qiwei95shuffle1.mat',\n",
      " 'dataset_type': 'default',\n",
      " 'deconvolutionstride': 2,\n",
      " 'deterministic': False,\n",
      " 'display_iters': 1000,\n",
      " 'fg_fraction': 0.25,\n",
      " 'global_scale': 0.8,\n",
      " 'init_weights': 'D:\\\\Anaconda3\\\\envs\\\\DLC-GPU\\\\lib\\\\site-packages\\\\deeplabcut\\\\pose_estimation_tensorflow\\\\models\\\\pretrained\\\\resnet_v1_50.ckpt',\n",
      " 'intermediate_supervision': False,\n",
      " 'intermediate_supervision_layer': 12,\n",
      " 'leftwidth': 400,\n",
      " 'location_refinement': True,\n",
      " 'locref_huber_loss': True,\n",
      " 'locref_loss_weight': 0.05,\n",
      " 'locref_stdev': 7.2801,\n",
      " 'log_dir': 'log',\n",
      " 'max_input_size': 1500,\n",
      " 'mean_pixel': [123.68, 116.779, 103.939],\n",
      " 'metadataset': 'training-datasets\\\\iteration-0\\\\UnaugmentedDataSet_HanJul2\\\\Documentation_data-Han_95shuffle1.pickle',\n",
      " 'min_input_size': 64,\n",
      " 'minsize': 100,\n",
      " 'mirror': False,\n",
      " 'multi_step': [[0.005, 10000],\n",
      "                [0.02, 430000],\n",
      "                [0.002, 730000],\n",
      "                [0.001, 1030000]],\n",
      " 'net_type': 'resnet_50',\n",
      " 'num_joints': 10,\n",
      " 'num_outputs': 1,\n",
      " 'optimizer': 'sgd',\n",
      " 'output_stride': 16,\n",
      " 'pos_dist_thresh': 17,\n",
      " 'project_path': 'C:\\\\Users\\\\dongq\\\\DLC\\\\Han-Qiwei-2020-07-02',\n",
      " 'regularize': False,\n",
      " 'rightwidth': 400,\n",
      " 'save_iters': 50000,\n",
      " 'scale_jitter_lo': 0.5,\n",
      " 'scale_jitter_up': 1.25,\n",
      " 'scoremap_dir': 'test',\n",
      " 'shuffle': True,\n",
      " 'snapshot_prefix': '/home/qdf0761/DeepLabCut/projects/Han-Qiwei-2020-08-04-FreeReaching/dlc-models/iteration-0/HanAug4-trainset95shuffle1/train/snapshot',\n",
      " 'stride': 8.0,\n",
      " 'topheight': 400,\n",
      " 'weigh_negatives': False,\n",
      " 'weigh_only_present_joints': False,\n",
      " 'weigh_part_predictions': False,\n",
      " 'weight_decay': 0.0001}\n"
     ]
    },
    {
     "name": "stdout",
     "output_type": "stream",
     "text": [
      "Switching batchsize to 1, as default/tensorpack/deterministic loaders do not support batches >1. Use imgaug loader.\n",
      "Starting with standard pose-dataset loader.\n"
     ]
    },
    {
     "ename": "FileNotFoundError",
     "evalue": "[Errno 2] No such file or directory: 'C:\\\\Users\\\\dongq\\\\DLC\\\\Han-Qiwei-2020-07-02/training-datasets\\\\iteration-0\\\\UnaugmentedDataSet_HanJul2\\\\Han_Qiwei95shuffle1.mat'",
     "output_type": "error",
     "traceback": [
      "\u001b[0;31m---------------------------------------------------------------------------\u001b[0m",
      "\u001b[0;31mFileNotFoundError\u001b[0m                         Traceback (most recent call last)",
      "\u001b[0;32m/usr/local/lib/python3.6/dist-packages/scipy/io/matlab/mio.py\u001b[0m in \u001b[0;36m_open_file\u001b[0;34m(file_like, appendmat)\u001b[0m\n\u001b[1;32m     32\u001b[0m     \u001b[0;32mtry\u001b[0m\u001b[0;34m:\u001b[0m\u001b[0;34m\u001b[0m\u001b[0m\n\u001b[0;32m---> 33\u001b[0;31m         \u001b[0;32mreturn\u001b[0m \u001b[0mopen\u001b[0m\u001b[0;34m(\u001b[0m\u001b[0mfile_like\u001b[0m\u001b[0;34m,\u001b[0m \u001b[0;34m'rb'\u001b[0m\u001b[0;34m)\u001b[0m\u001b[0;34m,\u001b[0m \u001b[0;32mTrue\u001b[0m\u001b[0;34m\u001b[0m\u001b[0m\n\u001b[0m\u001b[1;32m     34\u001b[0m     \u001b[0;32mexcept\u001b[0m \u001b[0mIOError\u001b[0m\u001b[0;34m:\u001b[0m\u001b[0;34m\u001b[0m\u001b[0m\n",
      "\u001b[0;31mFileNotFoundError\u001b[0m: [Errno 2] No such file or directory: 'C:\\\\Users\\\\dongq\\\\DLC\\\\Han-Qiwei-2020-07-02/training-datasets\\\\iteration-0\\\\UnaugmentedDataSet_HanJul2\\\\Han_Qiwei95shuffle1.mat'",
      "\nDuring handling of the above exception, another exception occurred:\n",
      "\u001b[0;31mFileNotFoundError\u001b[0m                         Traceback (most recent call last)",
      "\u001b[0;32m<ipython-input-20-1e1eaa16969d>\u001b[0m in \u001b[0;36m<module>\u001b[0;34m()\u001b[0m\n\u001b[1;32m      1\u001b[0m \u001b[0;31m#Try to retrain the dataset\u001b[0m\u001b[0;34m\u001b[0m\u001b[0;34m\u001b[0m\u001b[0m\n\u001b[1;32m      2\u001b[0m \u001b[0;34m\u001b[0m\u001b[0m\n\u001b[0;32m----> 3\u001b[0;31m \u001b[0mdeeplabcut\u001b[0m\u001b[0;34m.\u001b[0m\u001b[0mtrain_network\u001b[0m\u001b[0;34m(\u001b[0m\u001b[0mpath_config_file\u001b[0m\u001b[0;34m)\u001b[0m\u001b[0;34m\u001b[0m\u001b[0m\n\u001b[0m",
      "\u001b[0;32m/usr/local/lib/python3.6/dist-packages/deeplabcut/pose_estimation_tensorflow/training.py\u001b[0m in \u001b[0;36mtrain_network\u001b[0;34m(config, shuffle, trainingsetindex, max_snapshots_to_keep, displayiters, saveiters, maxiters, allow_growth, gputouse, autotune, keepdeconvweights)\u001b[0m\n\u001b[1;32m    132\u001b[0m         \u001b[0mtrain\u001b[0m\u001b[0;34m(\u001b[0m\u001b[0mstr\u001b[0m\u001b[0;34m(\u001b[0m\u001b[0mposeconfigfile\u001b[0m\u001b[0;34m)\u001b[0m\u001b[0;34m,\u001b[0m\u001b[0mdisplayiters\u001b[0m\u001b[0;34m,\u001b[0m\u001b[0msaveiters\u001b[0m\u001b[0;34m,\u001b[0m\u001b[0mmaxiters\u001b[0m\u001b[0;34m,\u001b[0m\u001b[0mmax_to_keep\u001b[0m\u001b[0;34m=\u001b[0m\u001b[0mmax_snapshots_to_keep\u001b[0m\u001b[0;34m,\u001b[0m\u001b[0mkeepdeconvweights\u001b[0m\u001b[0;34m=\u001b[0m\u001b[0mkeepdeconvweights\u001b[0m\u001b[0;34m,\u001b[0m\u001b[0mallow_growth\u001b[0m\u001b[0;34m=\u001b[0m\u001b[0mallow_growth\u001b[0m\u001b[0;34m)\u001b[0m \u001b[0;31m#pass on path and file name for pose_cfg.yaml!\u001b[0m\u001b[0;34m\u001b[0m\u001b[0m\n\u001b[1;32m    133\u001b[0m     \u001b[0;32mexcept\u001b[0m \u001b[0mBaseException\u001b[0m \u001b[0;32mas\u001b[0m \u001b[0me\u001b[0m\u001b[0;34m:\u001b[0m\u001b[0;34m\u001b[0m\u001b[0m\n\u001b[0;32m--> 134\u001b[0;31m         \u001b[0;32mraise\u001b[0m \u001b[0me\u001b[0m\u001b[0;34m\u001b[0m\u001b[0m\n\u001b[0m\u001b[1;32m    135\u001b[0m     \u001b[0;32mfinally\u001b[0m\u001b[0;34m:\u001b[0m\u001b[0;34m\u001b[0m\u001b[0m\n\u001b[1;32m    136\u001b[0m         \u001b[0mos\u001b[0m\u001b[0;34m.\u001b[0m\u001b[0mchdir\u001b[0m\u001b[0;34m(\u001b[0m\u001b[0mstr\u001b[0m\u001b[0;34m(\u001b[0m\u001b[0mstart_path\u001b[0m\u001b[0;34m)\u001b[0m\u001b[0;34m)\u001b[0m\u001b[0;34m\u001b[0m\u001b[0m\n",
      "\u001b[0;32m/usr/local/lib/python3.6/dist-packages/deeplabcut/pose_estimation_tensorflow/training.py\u001b[0m in \u001b[0;36mtrain_network\u001b[0;34m(config, shuffle, trainingsetindex, max_snapshots_to_keep, displayiters, saveiters, maxiters, allow_growth, gputouse, autotune, keepdeconvweights)\u001b[0m\n\u001b[1;32m    130\u001b[0m             \u001b[0mos\u001b[0m\u001b[0;34m.\u001b[0m\u001b[0menviron\u001b[0m\u001b[0;34m[\u001b[0m\u001b[0;34m'CUDA_VISIBLE_DEVICES'\u001b[0m\u001b[0;34m]\u001b[0m \u001b[0;34m=\u001b[0m \u001b[0mstr\u001b[0m\u001b[0;34m(\u001b[0m\u001b[0mgputouse\u001b[0m\u001b[0;34m)\u001b[0m\u001b[0;34m\u001b[0m\u001b[0m\n\u001b[1;32m    131\u001b[0m     \u001b[0;32mtry\u001b[0m\u001b[0;34m:\u001b[0m\u001b[0;34m\u001b[0m\u001b[0m\n\u001b[0;32m--> 132\u001b[0;31m         \u001b[0mtrain\u001b[0m\u001b[0;34m(\u001b[0m\u001b[0mstr\u001b[0m\u001b[0;34m(\u001b[0m\u001b[0mposeconfigfile\u001b[0m\u001b[0;34m)\u001b[0m\u001b[0;34m,\u001b[0m\u001b[0mdisplayiters\u001b[0m\u001b[0;34m,\u001b[0m\u001b[0msaveiters\u001b[0m\u001b[0;34m,\u001b[0m\u001b[0mmaxiters\u001b[0m\u001b[0;34m,\u001b[0m\u001b[0mmax_to_keep\u001b[0m\u001b[0;34m=\u001b[0m\u001b[0mmax_snapshots_to_keep\u001b[0m\u001b[0;34m,\u001b[0m\u001b[0mkeepdeconvweights\u001b[0m\u001b[0;34m=\u001b[0m\u001b[0mkeepdeconvweights\u001b[0m\u001b[0;34m,\u001b[0m\u001b[0mallow_growth\u001b[0m\u001b[0;34m=\u001b[0m\u001b[0mallow_growth\u001b[0m\u001b[0;34m)\u001b[0m \u001b[0;31m#pass on path and file name for pose_cfg.yaml!\u001b[0m\u001b[0;34m\u001b[0m\u001b[0m\n\u001b[0m\u001b[1;32m    133\u001b[0m     \u001b[0;32mexcept\u001b[0m \u001b[0mBaseException\u001b[0m \u001b[0;32mas\u001b[0m \u001b[0me\u001b[0m\u001b[0;34m:\u001b[0m\u001b[0;34m\u001b[0m\u001b[0m\n\u001b[1;32m    134\u001b[0m         \u001b[0;32mraise\u001b[0m \u001b[0me\u001b[0m\u001b[0;34m\u001b[0m\u001b[0m\n",
      "\u001b[0;32m/usr/local/lib/python3.6/dist-packages/deeplabcut/pose_estimation_tensorflow/train.py\u001b[0m in \u001b[0;36mtrain\u001b[0;34m(config_yaml, displayiters, saveiters, maxiters, max_to_keep, keepdeconvweights, allow_growth)\u001b[0m\n\u001b[1;32m    114\u001b[0m         \u001b[0mcfg\u001b[0m\u001b[0;34m[\u001b[0m\u001b[0;34m'batch_size'\u001b[0m\u001b[0;34m]\u001b[0m\u001b[0;34m=\u001b[0m\u001b[0;36m1\u001b[0m \u001b[0;31m#in case this was edited for analysis.-\u001b[0m\u001b[0;34m\u001b[0m\u001b[0m\n\u001b[1;32m    115\u001b[0m \u001b[0;34m\u001b[0m\u001b[0m\n\u001b[0;32m--> 116\u001b[0;31m     \u001b[0mdataset\u001b[0m \u001b[0;34m=\u001b[0m \u001b[0mcreate_dataset\u001b[0m\u001b[0;34m(\u001b[0m\u001b[0mcfg\u001b[0m\u001b[0;34m)\u001b[0m\u001b[0;34m\u001b[0m\u001b[0m\n\u001b[0m\u001b[1;32m    117\u001b[0m     \u001b[0mbatch_spec\u001b[0m \u001b[0;34m=\u001b[0m \u001b[0mget_batch_spec\u001b[0m\u001b[0;34m(\u001b[0m\u001b[0mcfg\u001b[0m\u001b[0;34m)\u001b[0m\u001b[0;34m\u001b[0m\u001b[0m\n\u001b[1;32m    118\u001b[0m     \u001b[0mbatch\u001b[0m\u001b[0;34m,\u001b[0m \u001b[0menqueue_op\u001b[0m\u001b[0;34m,\u001b[0m \u001b[0mplaceholders\u001b[0m \u001b[0;34m=\u001b[0m \u001b[0msetup_preloading\u001b[0m\u001b[0;34m(\u001b[0m\u001b[0mbatch_spec\u001b[0m\u001b[0;34m)\u001b[0m\u001b[0;34m\u001b[0m\u001b[0m\n",
      "\u001b[0;32m/usr/local/lib/python3.6/dist-packages/deeplabcut/pose_estimation_tensorflow/dataset/factory.py\u001b[0m in \u001b[0;36mcreate\u001b[0;34m(cfg)\u001b[0m\n\u001b[1;32m     23\u001b[0m         \u001b[0;32mfrom\u001b[0m \u001b[0mdeeplabcut\u001b[0m\u001b[0;34m.\u001b[0m\u001b[0mpose_estimation_tensorflow\u001b[0m\u001b[0;34m.\u001b[0m\u001b[0mdataset\u001b[0m\u001b[0;34m.\u001b[0m\u001b[0mpose_defaultdataset\u001b[0m \u001b[0;32mimport\u001b[0m \u001b[0mPoseDataset\u001b[0m\u001b[0;34m\u001b[0m\u001b[0m\n\u001b[1;32m     24\u001b[0m \u001b[0;34m\u001b[0m\u001b[0m\n\u001b[0;32m---> 25\u001b[0;31m         \u001b[0mdata\u001b[0m \u001b[0;34m=\u001b[0m \u001b[0mPoseDataset\u001b[0m\u001b[0;34m(\u001b[0m\u001b[0mcfg\u001b[0m\u001b[0;34m)\u001b[0m\u001b[0;34m\u001b[0m\u001b[0m\n\u001b[0m\u001b[1;32m     26\u001b[0m     \u001b[0;32melif\u001b[0m \u001b[0mdataset_type\u001b[0m\u001b[0;34m==\u001b[0m\u001b[0;34m'deterministic'\u001b[0m\u001b[0;34m:\u001b[0m\u001b[0;34m\u001b[0m\u001b[0m\n\u001b[1;32m     27\u001b[0m         \u001b[0mprint\u001b[0m\u001b[0;34m(\u001b[0m\u001b[0;34m\"Starting with deterministic pose-dataset loader.\"\u001b[0m\u001b[0;34m)\u001b[0m\u001b[0;34m\u001b[0m\u001b[0m\n",
      "\u001b[0;32m/usr/local/lib/python3.6/dist-packages/deeplabcut/pose_estimation_tensorflow/dataset/pose_defaultdataset.py\u001b[0m in \u001b[0;36m__init__\u001b[0;34m(self, cfg)\u001b[0m\n\u001b[1;32m     20\u001b[0m     \u001b[0;32mdef\u001b[0m \u001b[0m__init__\u001b[0m\u001b[0;34m(\u001b[0m\u001b[0mself\u001b[0m\u001b[0;34m,\u001b[0m \u001b[0mcfg\u001b[0m\u001b[0;34m)\u001b[0m\u001b[0;34m:\u001b[0m\u001b[0;34m\u001b[0m\u001b[0m\n\u001b[1;32m     21\u001b[0m         \u001b[0mself\u001b[0m\u001b[0;34m.\u001b[0m\u001b[0mcfg\u001b[0m \u001b[0;34m=\u001b[0m \u001b[0mcfg\u001b[0m\u001b[0;34m\u001b[0m\u001b[0m\n\u001b[0;32m---> 22\u001b[0;31m         \u001b[0mself\u001b[0m\u001b[0;34m.\u001b[0m\u001b[0mdata\u001b[0m \u001b[0;34m=\u001b[0m \u001b[0mself\u001b[0m\u001b[0;34m.\u001b[0m\u001b[0mload_dataset\u001b[0m\u001b[0;34m(\u001b[0m\u001b[0;34m)\u001b[0m\u001b[0;34m\u001b[0m\u001b[0m\n\u001b[0m\u001b[1;32m     23\u001b[0m \u001b[0;34m\u001b[0m\u001b[0m\n\u001b[1;32m     24\u001b[0m         \u001b[0mself\u001b[0m\u001b[0;34m.\u001b[0m\u001b[0mnum_images\u001b[0m \u001b[0;34m=\u001b[0m \u001b[0mlen\u001b[0m\u001b[0;34m(\u001b[0m\u001b[0mself\u001b[0m\u001b[0;34m.\u001b[0m\u001b[0mdata\u001b[0m\u001b[0;34m)\u001b[0m\u001b[0;34m\u001b[0m\u001b[0m\n",
      "\u001b[0;32m/usr/local/lib/python3.6/dist-packages/deeplabcut/pose_estimation_tensorflow/dataset/pose_defaultdataset.py\u001b[0m in \u001b[0;36mload_dataset\u001b[0;34m(self)\u001b[0m\n\u001b[1;32m     41\u001b[0m         \u001b[0mfile_name\u001b[0m \u001b[0;34m=\u001b[0m \u001b[0mos\u001b[0m\u001b[0;34m.\u001b[0m\u001b[0mpath\u001b[0m\u001b[0;34m.\u001b[0m\u001b[0mjoin\u001b[0m\u001b[0;34m(\u001b[0m\u001b[0mself\u001b[0m\u001b[0;34m.\u001b[0m\u001b[0mcfg\u001b[0m\u001b[0;34m.\u001b[0m\u001b[0mproject_path\u001b[0m\u001b[0;34m,\u001b[0m\u001b[0mcfg\u001b[0m\u001b[0;34m.\u001b[0m\u001b[0mdataset\u001b[0m\u001b[0;34m)\u001b[0m\u001b[0;34m\u001b[0m\u001b[0m\n\u001b[1;32m     42\u001b[0m         \u001b[0;31m# Load Matlab file dataset annotation\u001b[0m\u001b[0;34m\u001b[0m\u001b[0;34m\u001b[0m\u001b[0m\n\u001b[0;32m---> 43\u001b[0;31m         \u001b[0mmlab\u001b[0m \u001b[0;34m=\u001b[0m \u001b[0msio\u001b[0m\u001b[0;34m.\u001b[0m\u001b[0mloadmat\u001b[0m\u001b[0;34m(\u001b[0m\u001b[0mfile_name\u001b[0m\u001b[0;34m)\u001b[0m\u001b[0;34m\u001b[0m\u001b[0m\n\u001b[0m\u001b[1;32m     44\u001b[0m         \u001b[0mself\u001b[0m\u001b[0;34m.\u001b[0m\u001b[0mraw_data\u001b[0m \u001b[0;34m=\u001b[0m \u001b[0mmlab\u001b[0m\u001b[0;34m\u001b[0m\u001b[0m\n\u001b[1;32m     45\u001b[0m         \u001b[0mmlab\u001b[0m \u001b[0;34m=\u001b[0m \u001b[0mmlab\u001b[0m\u001b[0;34m[\u001b[0m\u001b[0;34m'dataset'\u001b[0m\u001b[0;34m]\u001b[0m\u001b[0;34m\u001b[0m\u001b[0m\n",
      "\u001b[0;32m/usr/local/lib/python3.6/dist-packages/scipy/io/matlab/mio.py\u001b[0m in \u001b[0;36mloadmat\u001b[0;34m(file_name, mdict, appendmat, **kwargs)\u001b[0m\n\u001b[1;32m    139\u001b[0m     \"\"\"\n\u001b[1;32m    140\u001b[0m     \u001b[0mvariable_names\u001b[0m \u001b[0;34m=\u001b[0m \u001b[0mkwargs\u001b[0m\u001b[0;34m.\u001b[0m\u001b[0mpop\u001b[0m\u001b[0;34m(\u001b[0m\u001b[0;34m'variable_names'\u001b[0m\u001b[0;34m,\u001b[0m \u001b[0;32mNone\u001b[0m\u001b[0;34m)\u001b[0m\u001b[0;34m\u001b[0m\u001b[0m\n\u001b[0;32m--> 141\u001b[0;31m     \u001b[0mMR\u001b[0m\u001b[0;34m,\u001b[0m \u001b[0mfile_opened\u001b[0m \u001b[0;34m=\u001b[0m \u001b[0mmat_reader_factory\u001b[0m\u001b[0;34m(\u001b[0m\u001b[0mfile_name\u001b[0m\u001b[0;34m,\u001b[0m \u001b[0mappendmat\u001b[0m\u001b[0;34m,\u001b[0m \u001b[0;34m**\u001b[0m\u001b[0mkwargs\u001b[0m\u001b[0;34m)\u001b[0m\u001b[0;34m\u001b[0m\u001b[0m\n\u001b[0m\u001b[1;32m    142\u001b[0m     \u001b[0mmatfile_dict\u001b[0m \u001b[0;34m=\u001b[0m \u001b[0mMR\u001b[0m\u001b[0;34m.\u001b[0m\u001b[0mget_variables\u001b[0m\u001b[0;34m(\u001b[0m\u001b[0mvariable_names\u001b[0m\u001b[0;34m)\u001b[0m\u001b[0;34m\u001b[0m\u001b[0m\n\u001b[1;32m    143\u001b[0m     \u001b[0;32mif\u001b[0m \u001b[0mmdict\u001b[0m \u001b[0;32mis\u001b[0m \u001b[0;32mnot\u001b[0m \u001b[0;32mNone\u001b[0m\u001b[0;34m:\u001b[0m\u001b[0;34m\u001b[0m\u001b[0m\n",
      "\u001b[0;32m/usr/local/lib/python3.6/dist-packages/scipy/io/matlab/mio.py\u001b[0m in \u001b[0;36mmat_reader_factory\u001b[0;34m(file_name, appendmat, **kwargs)\u001b[0m\n\u001b[1;32m     62\u001b[0m \u001b[0;34m\u001b[0m\u001b[0m\n\u001b[1;32m     63\u001b[0m     \"\"\"\n\u001b[0;32m---> 64\u001b[0;31m     \u001b[0mbyte_stream\u001b[0m\u001b[0;34m,\u001b[0m \u001b[0mfile_opened\u001b[0m \u001b[0;34m=\u001b[0m \u001b[0m_open_file\u001b[0m\u001b[0;34m(\u001b[0m\u001b[0mfile_name\u001b[0m\u001b[0;34m,\u001b[0m \u001b[0mappendmat\u001b[0m\u001b[0;34m)\u001b[0m\u001b[0;34m\u001b[0m\u001b[0m\n\u001b[0m\u001b[1;32m     65\u001b[0m     \u001b[0mmjv\u001b[0m\u001b[0;34m,\u001b[0m \u001b[0mmnv\u001b[0m \u001b[0;34m=\u001b[0m \u001b[0mget_matfile_version\u001b[0m\u001b[0;34m(\u001b[0m\u001b[0mbyte_stream\u001b[0m\u001b[0;34m)\u001b[0m\u001b[0;34m\u001b[0m\u001b[0m\n\u001b[1;32m     66\u001b[0m     \u001b[0;32mif\u001b[0m \u001b[0mmjv\u001b[0m \u001b[0;34m==\u001b[0m \u001b[0;36m0\u001b[0m\u001b[0;34m:\u001b[0m\u001b[0;34m\u001b[0m\u001b[0m\n",
      "\u001b[0;32m/usr/local/lib/python3.6/dist-packages/scipy/io/matlab/mio.py\u001b[0m in \u001b[0;36m_open_file\u001b[0;34m(file_like, appendmat)\u001b[0m\n\u001b[1;32m     37\u001b[0m             \u001b[0;32mif\u001b[0m \u001b[0mappendmat\u001b[0m \u001b[0;32mand\u001b[0m \u001b[0;32mnot\u001b[0m \u001b[0mfile_like\u001b[0m\u001b[0;34m.\u001b[0m\u001b[0mendswith\u001b[0m\u001b[0;34m(\u001b[0m\u001b[0;34m'.mat'\u001b[0m\u001b[0;34m)\u001b[0m\u001b[0;34m:\u001b[0m\u001b[0;34m\u001b[0m\u001b[0m\n\u001b[1;32m     38\u001b[0m                 \u001b[0mfile_like\u001b[0m \u001b[0;34m+=\u001b[0m \u001b[0;34m'.mat'\u001b[0m\u001b[0;34m\u001b[0m\u001b[0m\n\u001b[0;32m---> 39\u001b[0;31m             \u001b[0;32mreturn\u001b[0m \u001b[0mopen\u001b[0m\u001b[0;34m(\u001b[0m\u001b[0mfile_like\u001b[0m\u001b[0;34m,\u001b[0m \u001b[0;34m'rb'\u001b[0m\u001b[0;34m)\u001b[0m\u001b[0;34m,\u001b[0m \u001b[0;32mTrue\u001b[0m\u001b[0;34m\u001b[0m\u001b[0m\n\u001b[0m\u001b[1;32m     40\u001b[0m         \u001b[0;32melse\u001b[0m\u001b[0;34m:\u001b[0m\u001b[0;34m\u001b[0m\u001b[0m\n\u001b[1;32m     41\u001b[0m             \u001b[0;32mraise\u001b[0m \u001b[0mIOError\u001b[0m\u001b[0;34m(\u001b[0m\u001b[0;34m'Reader needs file name or open file-like object'\u001b[0m\u001b[0;34m)\u001b[0m\u001b[0;34m\u001b[0m\u001b[0m\n",
      "\u001b[0;31mFileNotFoundError\u001b[0m: [Errno 2] No such file or directory: 'C:\\\\Users\\\\dongq\\\\DLC\\\\Han-Qiwei-2020-07-02/training-datasets\\\\iteration-0\\\\UnaugmentedDataSet_HanJul2\\\\Han_Qiwei95shuffle1.mat'"
     ]
    }
   ],
   "source": [
    "#Try to retrain the dataset\n",
    "\n",
    "#deeplabcut.train_network(path_config_file)"
   ]
  }
 ],
 "metadata": {
  "kernelspec": {
   "display_name": "Python 3",
   "language": "python",
   "name": "python3"
  },
  "language_info": {
   "codemirror_mode": {
    "name": "ipython",
    "version": 3
   },
   "file_extension": ".py",
   "mimetype": "text/x-python",
   "name": "python",
   "nbconvert_exporter": "python",
   "pygments_lexer": "ipython3",
   "version": "3.7.9"
  },
  "varInspector": {
   "cols": {
    "lenName": 16,
    "lenType": 16,
    "lenVar": 40
   },
   "kernels_config": {
    "python": {
     "delete_cmd_postfix": "",
     "delete_cmd_prefix": "del ",
     "library": "var_list.py",
     "varRefreshCmd": "print(var_dic_list())"
    },
    "r": {
     "delete_cmd_postfix": ") ",
     "delete_cmd_prefix": "rm(",
     "library": "var_list.r",
     "varRefreshCmd": "cat(var_dic_list()) "
    }
   },
   "position": {
    "height": "693px",
    "left": "1337.33px",
    "right": "20px",
    "top": "120px",
    "width": "350px"
   },
   "types_to_exclude": [
    "module",
    "function",
    "builtin_function_or_method",
    "instance",
    "_Feature"
   ],
   "window_display": false
  }
 },
 "nbformat": 4,
 "nbformat_minor": 2
}
