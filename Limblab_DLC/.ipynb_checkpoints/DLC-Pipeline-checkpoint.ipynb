{
 "cells": [
  {
   "cell_type": "code",
   "execution_count": 1,
   "metadata": {},
   "outputs": [
    {
     "name": "stderr",
     "output_type": "stream",
     "text": [
      "/usr/local/lib/python3.6/dist-packages/tensorflow/python/framework/dtypes.py:519: FutureWarning: Passing (type, 1) or '1type' as a synonym of type is deprecated; in a future version of numpy, it will be understood as (type, (1,)) / '(1,)type'.\n",
      "  _np_qint8 = np.dtype([(\"qint8\", np.int8, 1)])\n",
      "/usr/local/lib/python3.6/dist-packages/tensorflow/python/framework/dtypes.py:520: FutureWarning: Passing (type, 1) or '1type' as a synonym of type is deprecated; in a future version of numpy, it will be understood as (type, (1,)) / '(1,)type'.\n",
      "  _np_quint8 = np.dtype([(\"quint8\", np.uint8, 1)])\n",
      "/usr/local/lib/python3.6/dist-packages/tensorflow/python/framework/dtypes.py:521: FutureWarning: Passing (type, 1) or '1type' as a synonym of type is deprecated; in a future version of numpy, it will be understood as (type, (1,)) / '(1,)type'.\n",
      "  _np_qint16 = np.dtype([(\"qint16\", np.int16, 1)])\n",
      "/usr/local/lib/python3.6/dist-packages/tensorflow/python/framework/dtypes.py:522: FutureWarning: Passing (type, 1) or '1type' as a synonym of type is deprecated; in a future version of numpy, it will be understood as (type, (1,)) / '(1,)type'.\n",
      "  _np_quint16 = np.dtype([(\"quint16\", np.uint16, 1)])\n",
      "/usr/local/lib/python3.6/dist-packages/tensorflow/python/framework/dtypes.py:523: FutureWarning: Passing (type, 1) or '1type' as a synonym of type is deprecated; in a future version of numpy, it will be understood as (type, (1,)) / '(1,)type'.\n",
      "  _np_qint32 = np.dtype([(\"qint32\", np.int32, 1)])\n",
      "/usr/local/lib/python3.6/dist-packages/tensorflow/python/framework/dtypes.py:528: FutureWarning: Passing (type, 1) or '1type' as a synonym of type is deprecated; in a future version of numpy, it will be understood as (type, (1,)) / '(1,)type'.\n",
      "  np_resource = np.dtype([(\"resource\", np.ubyte, 1)])\n"
     ]
    },
    {
     "name": "stdout",
     "output_type": "stream",
     "text": [
      "DLC loaded in light mode; you cannot use any GUI (labeling, relabeling and standalone GUI)\n"
     ]
    }
   ],
   "source": [
    "\"\"\"\n",
    "On Shrek Docker Only\n",
    "\"\"\"\n",
    "import fnmatch\n",
    "import pandas as pd\n",
    "import shutil\n",
    "import os\n",
    "import sys\n",
    "from ruamel.yaml import YAML\n",
    "import yaml\n",
    "os.environ[\"DLClight\"]=\"True\"\n",
    "import deeplabcut\n",
    "import glob"
   ]
  },
  {
   "cell_type": "code",
   "execution_count": 2,
   "metadata": {},
   "outputs": [
    {
     "name": "stdout",
     "output_type": "stream",
     "text": [
      "Config files already exist, moving on\n"
     ]
    }
   ],
   "source": [
    "project = 'Han_202012'\n",
    "experimenter = 'Joe'\n",
    "video_project_folder = '/home/jts3256/DLC_videos/Han_202012-Joe-2020-12-04'\n",
    "path_config_file = video_project_folder + '/config.yaml'\n",
    "linux_config_file = video_project_folder + '/config_linux.yaml'\n",
    "videos = glob.glob(video_project_folder + r'/videos/*.avi')\n",
    "\n",
    "# check if config files already exist. If both exist, don't convert\n",
    "# convert config file to a linux friendly version\n",
    "if(os.path.isfile(path_config_file) and not os.path.isfile(linux_config_file)):\n",
    "    shutil.copyfile(path_config_file,linux_config_file)\n",
    "\n",
    "    with open(path_config_file) as file:\n",
    "        orig_config = yaml.load(file, Loader=yaml.FullLoader)\n",
    "\n",
    "    # change project_path to video_main_folder\n",
    "    orig_config['project_path'] = video_project_folder\n",
    "\n",
    "    # change video_sets\n",
    "    # so we need to build a new dictionary with the video filenames as keys and the crop as entries\n",
    "    x=orig_config['video_sets']\n",
    "    x_keys = list(x.keys())\n",
    "    video_dict = {}\n",
    "    for i in range(len(videos)):\n",
    "        video_dict[videos[i]] = x[x_keys[i]]\n",
    "\n",
    "    orig_config['video_sets'] = video_dict\n",
    "\n",
    "    # save config as config_linux and point path_config_file to it\n",
    "    with open(linux_config_file,'w') as file:\n",
    "        yaml.dump(orig_config,file)\n",
    "elif(not os.path.isfile(path_config_file)):\n",
    "    print(\"Path config file does not exist\")\n",
    "else:\n",
    "    print(\"Config files already exist, moving on\")"
   ]
  },
  {
   "cell_type": "code",
   "execution_count": null,
   "metadata": {},
   "outputs": [],
   "source": [
    "deeplabcut.create_training_dataset(linux_config_file,userfeedback=False)"
   ]
  },
  {
   "cell_type": "code",
   "execution_count": null,
   "metadata": {
    "scrolled": true
   },
   "outputs": [],
   "source": [
    "deeplabcut.train_network(linux_config_file)\n",
    "# deeplabcut.train_network(config_path,shuffle=1,trainingsetindex=0,gputouse=None,max_snapshots_to_keep=5,autotune=False,displayiters=100,saveiters=15000, maxiters=30000)"
   ]
  },
  {
   "cell_type": "code",
   "execution_count": 3,
   "metadata": {},
   "outputs": [
    {
     "data": {
      "text/plain": [
       "['/home/jts3256/DLC_videos/Han_202012-Joe-2020-12-04/videos/Han_20201204_00007.avi',\n",
       " '/home/jts3256/DLC_videos/Han_202012-Joe-2020-12-04/videos/Han_20201204_00012.avi',\n",
       " '/home/jts3256/DLC_videos/Han_202012-Joe-2020-12-04/videos/Han_20201204_00003.avi',\n",
       " '/home/jts3256/DLC_videos/Han_202012-Joe-2020-12-04/videos/Han_20201204_00005.avi',\n",
       " '/home/jts3256/DLC_videos/Han_202012-Joe-2020-12-04/videos/Han_20201204_00001.avi',\n",
       " '/home/jts3256/DLC_videos/Han_202012-Joe-2020-12-04/videos/Han_20201204_00004.avi',\n",
       " '/home/jts3256/DLC_videos/Han_202012-Joe-2020-12-04/videos/Han_20201204_00009.avi',\n",
       " '/home/jts3256/DLC_videos/Han_202012-Joe-2020-12-04/videos/Han_20201204_00006.avi',\n",
       " '/home/jts3256/DLC_videos/Han_202012-Joe-2020-12-04/videos/Han_20201204_00002.avi',\n",
       " '/home/jts3256/DLC_videos/Han_202012-Joe-2020-12-04/videos/Han_20201204_00011.avi',\n",
       " '/home/jts3256/DLC_videos/Han_202012-Joe-2020-12-04/videos/Han_20201204_00010.avi',\n",
       " '/home/jts3256/DLC_videos/Han_202012-Joe-2020-12-04/videos/Han_20201204_00008.avi']"
      ]
     },
     "execution_count": 3,
     "metadata": {},
     "output_type": "execute_result"
    }
   ],
   "source": [
    "videos"
   ]
  },
  {
   "cell_type": "code",
   "execution_count": null,
   "metadata": {
    "scrolled": true
   },
   "outputs": [
    {
     "name": "stdout",
     "output_type": "stream",
     "text": [
      "Using snapshot-1030000 for model /home/jts3256/DLC_videos/Han_202012-Joe-2020-12-04/dlc-models/iteration-0/Han_202012Dec4-trainset95shuffle1\n",
      "Initializing ResNet\n"
     ]
    },
    {
     "name": "stderr",
     "output_type": "stream",
     "text": [
      "\r",
      "  0%|          | 0/29492 [00:00<?, ?it/s]"
     ]
    },
    {
     "name": "stdout",
     "output_type": "stream",
     "text": [
      "Starting to analyze %  /home/jts3256/DLC_videos/Han_202012-Joe-2020-12-04/videos/Han_20201204_00007.avi\n",
      "/home/jts3256/DLC_videos/Han_202012-Joe-2020-12-04/videos  already exists!\n",
      "Loading  /home/jts3256/DLC_videos/Han_202012-Joe-2020-12-04/videos/Han_20201204_00007.avi\n",
      "Duration of video [s]:  1179.68 , recorded with  25.0 fps!\n",
      "Overall # of frames:  29492  found with (before cropping) frame dimensions:  1280 1024\n",
      "Starting to extract posture\n"
     ]
    },
    {
     "name": "stderr",
     "output_type": "stream",
     "text": [
      " 26%|██▌       | 7644/29492 [07:09<21:15, 17.12it/s]"
     ]
    }
   ],
   "source": [
    "deeplabcut.analyze_videos(linux_config_file,videos, save_as_csv=True)"
   ]
  },
  {
   "cell_type": "code",
   "execution_count": null,
   "metadata": {
    "scrolled": true
   },
   "outputs": [],
   "source": [
    "deeplabcut.filterpredictions(linux_config_file,videos,filtertype='spline')\n",
    "deeplabcut.plot_trajectories(linux_config_file,videos)\n",
    "deeplabcut.create_labeled_video(path_config_file,videos,filtered=True)"
   ]
  },
  {
   "cell_type": "code",
   "execution_count": null,
   "metadata": {},
   "outputs": [],
   "source": [
    "# move files from Shrek to server\n",
    "\n",
    "server_folder_loc = \"/mnt/L_MillerLab/data/\"\n",
    "shrek_folder_loc = video_project_folder + \"/training-datasets/\"\n",
    "\n",
    "cp_command = \"cp -r \" + shrek_folder_loc + \" \" + server_folder_loc\n",
    "\n",
    "shutil.copytree()"
   ]
  },
  {
   "cell_type": "code",
   "execution_count": null,
   "metadata": {},
   "outputs": [],
   "source": [
    "deeplabcut.analyze_videos(config_path,['/fullpath/project/videos/'], videotype='.mp4', save_as_csv = True)\n"
   ]
  }
 ],
 "metadata": {
  "kernelspec": {
   "display_name": "Python 3",
   "language": "python",
   "name": "python3"
  },
  "language_info": {
   "codemirror_mode": {
    "name": "ipython",
    "version": 3
   },
   "file_extension": ".py",
   "mimetype": "text/x-python",
   "name": "python",
   "nbconvert_exporter": "python",
   "pygments_lexer": "ipython3",
   "version": "3.6.3"
  },
  "varInspector": {
   "cols": {
    "lenName": 16,
    "lenType": 16,
    "lenVar": 40
   },
   "kernels_config": {
    "python": {
     "delete_cmd_postfix": "",
     "delete_cmd_prefix": "del ",
     "library": "var_list.py",
     "varRefreshCmd": "print(var_dic_list())"
    },
    "r": {
     "delete_cmd_postfix": ") ",
     "delete_cmd_prefix": "rm(",
     "library": "var_list.r",
     "varRefreshCmd": "cat(var_dic_list()) "
    }
   },
   "position": {
    "height": "693px",
    "left": "1337.33px",
    "right": "20px",
    "top": "120px",
    "width": "350px"
   },
   "types_to_exclude": [
    "module",
    "function",
    "builtin_function_or_method",
    "instance",
    "_Feature"
   ],
   "window_display": false
  }
 },
 "nbformat": 4,
 "nbformat_minor": 2
}
