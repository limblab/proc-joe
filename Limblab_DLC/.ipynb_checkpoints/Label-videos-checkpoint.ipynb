{
 "cells": [
  {
   "cell_type": "code",
   "execution_count": 9,
   "metadata": {},
   "outputs": [],
   "source": [
    "from datetime import date\n",
    "import deeplabcut\n",
    "import glob\n",
    "from subprocess import Popen, PIPE\n",
    "import os\n",
    "import yaml\n",
    "\n",
    "from paramiko import SSHClient\n",
    "import paramiko\n",
    "from scp import SCPClient\n",
    "import getpass"
   ]
  },
  {
   "cell_type": "code",
   "execution_count": 2,
   "metadata": {},
   "outputs": [
    {
     "name": "stdout",
     "output_type": "stream",
     "text": [
      "['D:\\\\Lab\\\\Data\\\\DLC_videos\\\\Handle_test\\\\Han_20201123_test_6in00001.avi', 'D:\\\\Lab\\\\Data\\\\DLC_videos\\\\Handle_test\\\\Han_20201123_test_6in00002.avi']\n"
     ]
    }
   ],
   "source": [
    "# select folder that contains videos and videos. Also select body_parts to label\n",
    "# Moves to that folder so that DLC places videos and other data in that folder\n",
    "\n",
    "vid_main_folder = r'D:\\Lab\\Data\\DLC_videos\\Handle_test'\n",
    "videos = glob.glob(vid_main_folder + r'\\*.avi')\n",
    "\n",
    "body_part_list = ['handle']\n",
    "\n",
    "print(videos)"
   ]
  },
  {
   "cell_type": "code",
   "execution_count": 3,
   "metadata": {
    "scrolled": true
   },
   "outputs": [
    {
     "name": "stdout",
     "output_type": "stream",
     "text": [
      "Project \"D:\\Lab\\Data\\DLC_videos\\Handle_test\\Handle_test_20201201-Qiwei-2020-12-01\" already exists!\n"
     ]
    }
   ],
   "source": [
    "### Open this part only when you want to start to label a group of new videos and want to use this script\n",
    "\n",
    "project = 'Handle_test_20201201'\n",
    "experimenter = 'Qiwei'\n",
    "path_config_file = deeplabcut.create_new_project(project, experimenter, videos,\n",
    "                                                 working_directory=vid_main_folder,copy_videos=True)"
   ]
  },
  {
   "cell_type": "code",
   "execution_count": 4,
   "metadata": {},
   "outputs": [],
   "source": [
    "# adjust path_config_file to include desired body_parts and skeleton, numframes2pick, TrainingFraction, iteration\n",
    "with open(path_config_file) as file:\n",
    "    data = yaml.load(file, Loader = yaml.FullLoader)\n",
    "\n",
    "data['bodyparts'] = body_part_list\n",
    "data['TrainingFraction'] = [0.95] # default = 0.95\n",
    "data['numframes2pick'] = 20 # default = 20\n",
    "\n",
    "\n",
    "with open(path_config_file,'w') as file:\n",
    "    yaml.dump(data,file)"
   ]
  },
  {
   "cell_type": "code",
   "execution_count": 5,
   "metadata": {
    "scrolled": true
   },
   "outputs": [
    {
     "name": "stderr",
     "output_type": "stream",
     "text": [
      "20it [00:00, 192.34it/s]"
     ]
    },
    {
     "name": "stdout",
     "output_type": "stream",
     "text": [
      "Config file read successfully.\n",
      "Extracting frames based on kmeans ...\n",
      "Kmeans-quantization based extracting of frames from 0.0  seconds to 78.64  seconds.\n",
      "Extracting and downsampling... 1730  frames from the video.\n"
     ]
    },
    {
     "name": "stderr",
     "output_type": "stream",
     "text": [
      "1730it [00:07, 219.87it/s]\n"
     ]
    },
    {
     "name": "stdout",
     "output_type": "stream",
     "text": [
      "Kmeans clustering ... (this might take a while)\n"
     ]
    },
    {
     "name": "stderr",
     "output_type": "stream",
     "text": [
      "21it [00:00, 206.93it/s]"
     ]
    },
    {
     "name": "stdout",
     "output_type": "stream",
     "text": [
      "Extracting frames based on kmeans ...\n",
      "Kmeans-quantization based extracting of frames from 0.0  seconds to 78.64  seconds.\n",
      "Extracting and downsampling... 1730  frames from the video.\n"
     ]
    },
    {
     "name": "stderr",
     "output_type": "stream",
     "text": [
      "1730it [00:07, 225.85it/s]\n"
     ]
    },
    {
     "name": "stdout",
     "output_type": "stream",
     "text": [
      "Kmeans clustering ... (this might take a while)\n",
      "Frames were successfully extracted.\n",
      "\n",
      "You can now label the frames using the function 'label_frames' (if you extracted enough frames for all videos).\n"
     ]
    }
   ],
   "source": [
    "\"\"\"\n",
    "k-means extract 100 frames (numbers can be changed in config). \n",
    "Uses videos in path_config_file, use add_new_video to add videos to the config file\n",
    "\"\"\"\n",
    "deeplabcut.extract_frames(path_config_file,mode='automatic',userfeedback=False)"
   ]
  },
  {
   "cell_type": "code",
   "execution_count": 6,
   "metadata": {
    "scrolled": true
   },
   "outputs": [
    {
     "name": "stdout",
     "output_type": "stream",
     "text": [
      "You can now check the labels, using 'check_labels' before proceeding. Then, you can use the function 'create_training_dataset' to create the training dataset.\n"
     ]
    }
   ],
   "source": [
    "\"\"\"\n",
    "label frames\n",
    "\"\"\"\n",
    "#import matplotlib\n",
    "#matplotlib.use('Agg')\n",
    "\n",
    "deeplabcut.label_frames(path_config_file)"
   ]
  },
  {
   "cell_type": "code",
   "execution_count": 7,
   "metadata": {
    "scrolled": true
   },
   "outputs": [
    {
     "name": "stdout",
     "output_type": "stream",
     "text": [
      "Creating images with labels by Qiwei.\n",
      "They are stored in the following folder: D:\\Lab\\Data\\DLC_videos\\Handle_test\\Handle_test_20201201-Qiwei-2020-12-01\\labeled-data\\Han_20201123_test_6in00001_labeled.\n",
      "They are stored in the following folder: D:\\Lab\\Data\\DLC_videos\\Handle_test\\Handle_test_20201201-Qiwei-2020-12-01\\labeled-data\\Han_20201123_test_6in00002_labeled.\n",
      "If all the labels are ok, then use the function 'create_training_dataset' to create the training dataset!\n"
     ]
    }
   ],
   "source": [
    "deeplabcut.check_labels(path_config_file)"
   ]
  },
  {
   "cell_type": "code",
   "execution_count": 8,
   "metadata": {},
   "outputs": [],
   "source": [
    "# move files onto Shrek\n",
    "ssh = SSHClient()\n",
    "ssh.load_host_keys(filename = r'C:\\Users\\Joseph Sombeck\\shrek_publickey.ppk')\n",
    "\n",
    "pkey_filename = r'C:\\Users\\Joseph Sombeck\\shrek_sshkey'\n",
    "#pkey = paramiko.RSAKey.from_private_key_file(pkey_filename)\n",
    "ssh.set_missing_host_key_policy(paramiko.AutoAddPolicy())\n",
    "\n",
    "ssh.connect(hostname = \"165.124.111.57\", username= \"jts3256\", key_filename=pkey_filename)\n",
    "scp  = SCPClient(ssh.get_transport())\n",
    "\n",
    "scp.put(files = r'D:\\Lab\\Data\\DLC_videos\\test_moving_files.txt',recursive = True, \n",
    "        remote_path =\"/home/jts3256/DLC_videos/\")"
   ]
  },
  {
   "cell_type": "code",
   "execution_count": 11,
   "metadata": {},
   "outputs": [
    {
     "ename": "SyntaxError",
     "evalue": "EOL while scanning string literal (<ipython-input-11-1023448f7d9a>, line 2)",
     "output_type": "error",
     "traceback": [
      "\u001b[1;36m  File \u001b[1;32m\"<ipython-input-11-1023448f7d9a>\"\u001b[1;36m, line \u001b[1;32m2\u001b[0m\n\u001b[1;33m    folder_to_move = vid_main_folder + r'\\\u001b[0m\n\u001b[1;37m                                          ^\u001b[0m\n\u001b[1;31mSyntaxError\u001b[0m\u001b[1;31m:\u001b[0m EOL while scanning string literal\n"
     ]
    }
   ],
   "source": [
    "today = date.today()\n",
    "folder_to_move = vid_main_folder + r'\\"
   ]
  }
 ],
 "metadata": {
  "kernelspec": {
   "display_name": "Python 3",
   "language": "python",
   "name": "python3"
  },
  "language_info": {
   "codemirror_mode": {
    "name": "ipython",
    "version": 3
   },
   "file_extension": ".py",
   "mimetype": "text/x-python",
   "name": "python",
   "nbconvert_exporter": "python",
   "pygments_lexer": "ipython3",
   "version": "3.7.9"
  },
  "varInspector": {
   "cols": {
    "lenName": 16,
    "lenType": 16,
    "lenVar": 40
   },
   "kernels_config": {
    "python": {
     "delete_cmd_postfix": "",
     "delete_cmd_prefix": "del ",
     "library": "var_list.py",
     "varRefreshCmd": "print(var_dic_list())"
    },
    "r": {
     "delete_cmd_postfix": ") ",
     "delete_cmd_prefix": "rm(",
     "library": "var_list.r",
     "varRefreshCmd": "cat(var_dic_list()) "
    }
   },
   "types_to_exclude": [
    "module",
    "function",
    "builtin_function_or_method",
    "instance",
    "_Feature"
   ],
   "window_display": false
  }
 },
 "nbformat": 4,
 "nbformat_minor": 2
}
