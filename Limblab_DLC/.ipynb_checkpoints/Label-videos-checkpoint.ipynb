{
 "cells": [
  {
   "cell_type": "code",
   "execution_count": 6,
   "metadata": {},
   "outputs": [],
   "source": [
    "import deeplabcut\n",
    "\n",
    "import yaml\n",
    "\n",
    "from paramiko import SSHClient\n",
    "import paramiko\n",
    "from scp import SCPClient\n",
    "import getpass\n",
    "\n",
    "import os\n",
    "import glob"
   ]
  },
  {
   "cell_type": "code",
   "execution_count": 8,
   "metadata": {},
   "outputs": [
    {
     "name": "stdout",
     "output_type": "stream",
     "text": [
      "['D:\\\\Lab\\\\Data\\\\DLC_videos\\\\Han_20201204_rwFreeReach\\\\Han_20201204_00001_trimmed.avi', 'D:\\\\Lab\\\\Data\\\\DLC_videos\\\\Han_20201204_rwFreeReach\\\\Han_20201204_00002_trimmed.avi', 'D:\\\\Lab\\\\Data\\\\DLC_videos\\\\Han_20201204_rwFreeReach\\\\Han_20201204_00003_trimmed.avi', 'D:\\\\Lab\\\\Data\\\\DLC_videos\\\\Han_20201204_rwFreeReach\\\\Han_20201204_00004_trimmed.avi', 'D:\\\\Lab\\\\Data\\\\DLC_videos\\\\Han_20201204_rwFreeReach\\\\Han_20201204_00005_trimmed.avi', 'D:\\\\Lab\\\\Data\\\\DLC_videos\\\\Han_20201204_rwFreeReach\\\\Han_20201204_00006_trimmed.avi', 'D:\\\\Lab\\\\Data\\\\DLC_videos\\\\Han_20201204_rwFreeReach\\\\Han_20201204_00007_trimmed.avi', 'D:\\\\Lab\\\\Data\\\\DLC_videos\\\\Han_20201204_rwFreeReach\\\\Han_20201204_00008_trimmed.avi']\n"
     ]
    }
   ],
   "source": [
    "proj_folder = r'D:\\Lab\\Data\\DLC_videos\\Han_20201204_rwFreeReach'\n",
    "task='Han_reaching'\n",
    "experimenter='Joe'\n",
    "\n",
    "video = glob.glob(proj_folder + '\\*.avi')\n",
    "print(video)"
   ]
  },
  {
   "cell_type": "code",
   "execution_count": 9,
   "metadata": {},
   "outputs": [
    {
     "name": "stdout",
     "output_type": "stream",
     "text": [
      "Created \"D:\\Lab\\Data\\DLC_videos\\Han_20201204_rwFreeReach\\Han_reaching-Joe-2020-12-10\\videos\"\n",
      "Created \"D:\\Lab\\Data\\DLC_videos\\Han_20201204_rwFreeReach\\Han_reaching-Joe-2020-12-10\\labeled-data\"\n",
      "Created \"D:\\Lab\\Data\\DLC_videos\\Han_20201204_rwFreeReach\\Han_reaching-Joe-2020-12-10\\training-datasets\"\n",
      "Created \"D:\\Lab\\Data\\DLC_videos\\Han_20201204_rwFreeReach\\Han_reaching-Joe-2020-12-10\\dlc-models\"\n",
      "Copying the videos\n",
      "D:\\Lab\\Data\\DLC_videos\\Han_20201204_rwFreeReach\\Han_reaching-Joe-2020-12-10\\videos\\Han_20201204_00001_trimmed.avi\n",
      "D:\\Lab\\Data\\DLC_videos\\Han_20201204_rwFreeReach\\Han_reaching-Joe-2020-12-10\\videos\\Han_20201204_00002_trimmed.avi\n",
      "D:\\Lab\\Data\\DLC_videos\\Han_20201204_rwFreeReach\\Han_reaching-Joe-2020-12-10\\videos\\Han_20201204_00003_trimmed.avi\n",
      "D:\\Lab\\Data\\DLC_videos\\Han_20201204_rwFreeReach\\Han_reaching-Joe-2020-12-10\\videos\\Han_20201204_00004_trimmed.avi\n",
      "D:\\Lab\\Data\\DLC_videos\\Han_20201204_rwFreeReach\\Han_reaching-Joe-2020-12-10\\videos\\Han_20201204_00005_trimmed.avi\n",
      "D:\\Lab\\Data\\DLC_videos\\Han_20201204_rwFreeReach\\Han_reaching-Joe-2020-12-10\\videos\\Han_20201204_00006_trimmed.avi\n",
      "D:\\Lab\\Data\\DLC_videos\\Han_20201204_rwFreeReach\\Han_reaching-Joe-2020-12-10\\videos\\Han_20201204_00007_trimmed.avi\n",
      "D:\\Lab\\Data\\DLC_videos\\Han_20201204_rwFreeReach\\Han_reaching-Joe-2020-12-10\\videos\\Han_20201204_00008_trimmed.avi\n",
      "Generated \"D:\\Lab\\Data\\DLC_videos\\Han_20201204_rwFreeReach\\Han_reaching-Joe-2020-12-10\\config.yaml\"\n",
      "\n",
      "A new project with name Han_reaching-Joe-2020-12-10 is created at D:\\Lab\\Data\\DLC_videos\\Han_20201204_rwFreeReach and a configurable file (config.yaml) is stored there. Change the parameters in this file to adapt to your project's needs.\n",
      " Once you have changed the configuration file, use the function 'extract_frames' to select frames for labeling.\n",
      ". [OPTIONAL] Use the function 'add_new_videos' to add new videos to your project (at any stage).\n"
     ]
    }
   ],
   "source": [
    "config_file = deeplabcut.create_new_project(task,experimenter,video, working_directory=proj_folder,copy_videos=True)"
   ]
  },
  {
   "cell_type": "code",
   "execution_count": 10,
   "metadata": {},
   "outputs": [],
   "source": []
  },
  {
   "cell_type": "code",
   "execution_count": null,
   "metadata": {},
   "outputs": [
    {
     "name": "stdout",
     "output_type": "stream",
     "text": [
      "Config file read successfully.\n",
      "Do you want to extract (perhaps additional) frames for video: D:\\Lab\\Data\\DLC_videos\\Han_20201204_rwFreeReach\\Han_reaching-Joe-2020-12-10\\videos\\Han_20201204_00001_trimmed.avi ?\n",
      "yes/noyes\n"
     ]
    },
    {
     "name": "stderr",
     "output_type": "stream",
     "text": [
      "13it [00:00, 126.02it/s]"
     ]
    },
    {
     "name": "stdout",
     "output_type": "stream",
     "text": [
      "Extracting frames based on kmeans ...\n",
      "Kmeans-quantization based extracting of frames from 0.0  seconds to 939.12  seconds.\n",
      "Extracting and downsampling... 22539  frames from the video.\n"
     ]
    },
    {
     "name": "stderr",
     "output_type": "stream",
     "text": [
      "22539it [02:50, 131.97it/s]\n"
     ]
    },
    {
     "name": "stdout",
     "output_type": "stream",
     "text": [
      "Kmeans clustering ... (this might take a while)\n",
      "Do you want to extract (perhaps additional) frames for video: D:\\Lab\\Data\\DLC_videos\\Han_20201204_rwFreeReach\\Han_reaching-Joe-2020-12-10\\videos\\Han_20201204_00002_trimmed.avi ?\n"
     ]
    }
   ],
   "source": [
    "deeplabcut.extract_frames(config_file,'automatic',crop=False)"
   ]
  },
  {
   "cell_type": "code",
   "execution_count": 2,
   "metadata": {},
   "outputs": [],
   "source": [
    "# move folder from Shrek to local computer to label frames on local computer. Set shrek project folder and dest_folder\n",
    "# Also may need to update ssh key/id\n",
    "\n",
    "shrek_project_folder = '/home/jts3256/DLC_videos/Handle_tracking-Joe-2020-12-08'\n",
    "dest_folder = r'D:\\Lab\\Data\\DLC_videos\\handle_labeling'\n",
    "\n",
    "image_folder = shrek_project_folder + '/labeled-data'\n",
    "config_file = shrek_project_folder + '/config.yaml'\n",
    "\n",
    "if(not os.path.isdir(dest_folder)):\n",
    "    os.mkdir(dest_folder)\n",
    "\n",
    "ssh = SSHClient()\n",
    "ssh.load_host_keys(filename = r'C:\\Users\\Joseph Sombeck\\shrek_publickey (2).ppk')\n",
    "\n",
    "pkey_filename = r'C:\\Users\\Joseph Sombeck\\shrek_sshkey'\n",
    "#pkey = paramiko.RSAKey.from_private_key_file(pkey_filename)\n",
    "ssh.set_missing_host_key_policy(paramiko.AutoAddPolicy())\n",
    "\n",
    "\n",
    "\n",
    "ssh.connect(hostname = \"165.124.111.57\", username= \"jts3256\", key_filename=pkey_filename)\n",
    "with SCPClient(ssh.get_transport(), sanitize=lambda x: x) as scp:\n",
    "    scp.get(image_folder,recursive = True, local_path=dest_folder)\n",
    "    scp.get(config_file,recursive = False, local_path=dest_folder)\n",
    "    \n",
    "local_config_path = dest_folder+ r'\\config.yaml'\n",
    "\n",
    "# update project path in config path\n",
    "with open(local_config_path) as file:\n",
    "    data = yaml.load(file, Loader = yaml.FullLoader)\n",
    "\n",
    "    data['project_path'] = dest_folder # default = 20\n",
    "\n",
    "with open(local_config_path,'w') as file:\n",
    "    yaml.dump(data,file)\n"
   ]
  },
  {
   "cell_type": "code",
   "execution_count": 4,
   "metadata": {},
   "outputs": [
    {
     "name": "stdout",
     "output_type": "stream",
     "text": [
      "You can now check the labels, using 'check_labels' before proceeding. Then, you can use the function 'create_training_dataset' to create the training dataset.\n"
     ]
    }
   ],
   "source": [
    "\"\"\"\n",
    "label frames\n",
    "\"\"\"\n",
    "#local_config_path = r'D:\\Lab\\Data\\DLC_videos\\Crackle-Qiwei-2020-12-03\\config.yaml'\n",
    "deeplabcut.label_frames(local_config_path,imtypes=['*png'])"
   ]
  },
  {
   "cell_type": "code",
   "execution_count": 4,
   "metadata": {
    "scrolled": true
   },
   "outputs": [],
   "source": [
    "#deeplabcut.check_labels(local_config_path)\n",
    "\n",
    "# move files back onto shrek\n",
    "ssh = SSHClient()\n",
    "ssh.load_host_keys(filename = r'C:\\Users\\Joseph Sombeck\\shrek_publickey (2).ppk')\n",
    "\n",
    "pkey_filename = r'C:\\Users\\Joseph Sombeck\\shrek_sshkey'\n",
    "ssh.set_missing_host_key_policy(paramiko.AutoAddPolicy())\n",
    "\n",
    "ssh.connect(hostname = \"165.124.111.57\", username= \"jts3256\", key_filename=pkey_filename)\n",
    "scp  = SCPClient(ssh.get_transport())\n",
    "\n",
    "scp.put(files = dest_folder + '\\labeled-data',recursive = True, \n",
    "        remote_path =shrek_project_folder)\n"
   ]
  }
 ],
 "metadata": {
  "kernelspec": {
   "display_name": "Python 3",
   "language": "python",
   "name": "python3"
  },
  "language_info": {
   "codemirror_mode": {
    "name": "ipython",
    "version": 3
   },
   "file_extension": ".py",
   "mimetype": "text/x-python",
   "name": "python",
   "nbconvert_exporter": "python",
   "pygments_lexer": "ipython3",
   "version": "3.7.9"
  },
  "varInspector": {
   "cols": {
    "lenName": 16,
    "lenType": 16,
    "lenVar": 40
   },
   "kernels_config": {
    "python": {
     "delete_cmd_postfix": "",
     "delete_cmd_prefix": "del ",
     "library": "var_list.py",
     "varRefreshCmd": "print(var_dic_list())"
    },
    "r": {
     "delete_cmd_postfix": ") ",
     "delete_cmd_prefix": "rm(",
     "library": "var_list.r",
     "varRefreshCmd": "cat(var_dic_list()) "
    }
   },
   "types_to_exclude": [
    "module",
    "function",
    "builtin_function_or_method",
    "instance",
    "_Feature"
   ],
   "window_display": false
  }
 },
 "nbformat": 4,
 "nbformat_minor": 2
}
