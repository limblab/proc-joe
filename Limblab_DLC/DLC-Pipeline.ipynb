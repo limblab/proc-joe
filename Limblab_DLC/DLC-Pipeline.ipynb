{
 "cells": [
  {
   "cell_type": "code",
   "execution_count": 1,
   "metadata": {},
   "outputs": [
    {
     "name": "stderr",
     "output_type": "stream",
     "text": [
      "/usr/local/lib/python3.6/dist-packages/tensorflow/python/framework/dtypes.py:519: FutureWarning: Passing (type, 1) or '1type' as a synonym of type is deprecated; in a future version of numpy, it will be understood as (type, (1,)) / '(1,)type'.\n",
      "  _np_qint8 = np.dtype([(\"qint8\", np.int8, 1)])\n",
      "/usr/local/lib/python3.6/dist-packages/tensorflow/python/framework/dtypes.py:520: FutureWarning: Passing (type, 1) or '1type' as a synonym of type is deprecated; in a future version of numpy, it will be understood as (type, (1,)) / '(1,)type'.\n",
      "  _np_quint8 = np.dtype([(\"quint8\", np.uint8, 1)])\n",
      "/usr/local/lib/python3.6/dist-packages/tensorflow/python/framework/dtypes.py:521: FutureWarning: Passing (type, 1) or '1type' as a synonym of type is deprecated; in a future version of numpy, it will be understood as (type, (1,)) / '(1,)type'.\n",
      "  _np_qint16 = np.dtype([(\"qint16\", np.int16, 1)])\n",
      "/usr/local/lib/python3.6/dist-packages/tensorflow/python/framework/dtypes.py:522: FutureWarning: Passing (type, 1) or '1type' as a synonym of type is deprecated; in a future version of numpy, it will be understood as (type, (1,)) / '(1,)type'.\n",
      "  _np_quint16 = np.dtype([(\"quint16\", np.uint16, 1)])\n",
      "/usr/local/lib/python3.6/dist-packages/tensorflow/python/framework/dtypes.py:523: FutureWarning: Passing (type, 1) or '1type' as a synonym of type is deprecated; in a future version of numpy, it will be understood as (type, (1,)) / '(1,)type'.\n",
      "  _np_qint32 = np.dtype([(\"qint32\", np.int32, 1)])\n",
      "/usr/local/lib/python3.6/dist-packages/tensorflow/python/framework/dtypes.py:528: FutureWarning: Passing (type, 1) or '1type' as a synonym of type is deprecated; in a future version of numpy, it will be understood as (type, (1,)) / '(1,)type'.\n",
      "  np_resource = np.dtype([(\"resource\", np.ubyte, 1)])\n"
     ]
    },
    {
     "name": "stdout",
     "output_type": "stream",
     "text": [
      "DLC loaded in light mode; you cannot use any GUI (labeling, relabeling and standalone GUI)\n"
     ]
    }
   ],
   "source": [
    "\"\"\"\n",
    "This code is meant to be ran on Shrek (or Donkey). If labelling frames is necessary, those frames\n",
    "will be moved to a different computer for labelling, then moved back to Shrek (or Donkey) using \"Label-videos.ipynb\"\n",
    "\n",
    "This code can run deeplabcut from scratch (start new project, label frames, train network, analyze videos) or can \n",
    "start at different points in the pipeline\n",
    "\n",
    "\"\"\"\n",
    "import fnmatch\n",
    "import pandas as pd\n",
    "import shutil\n",
    "import os\n",
    "import sys\n",
    "from ruamel.yaml import YAML\n",
    "import yaml\n",
    "os.environ[\"DLClight\"]=\"True\"\n",
    "import deeplabcut\n",
    "import glob\n",
    "\n",
    "import subprocess"
   ]
  },
  {
   "cell_type": "code",
   "execution_count": 6,
   "metadata": {},
   "outputs": [],
   "source": [
    "\"\"\"\n",
    "Set desired processes and variables\n",
    "\n",
    "is_new_project will create a new project folder and configuration file\n",
    "\"\"\"\n",
    "is_new_project = True\n",
    "label_frames = False\n",
    "make_training_data = True\n",
    "train_model = True\n",
    "analyze_videos = True\n",
    "filter_videos = True\n",
    "create_labeled_video = True\n",
    "\n",
    "# set project dir, project, and experimenter. Get video list. Note: videos need to be in folder called /videos/ in project directory\n",
    "project_directory = '/home/jts3256/DLC_videos'\n",
    "project = 'Han_202012'\n",
    "experimenter = 'Joe'\n",
    "\n",
    "videos = glob.glob(project_directory + '/videos/*.avi')\n",
    "\n",
    "# set body part list and other frame label variables\n",
    "body_part_list = ['shoulder','elbow1','elbow2','wrist1','wrist2','hand1','hand2','hand3','pointX','pointY','pointZ']\n",
    "num_frames_per_vid = 20 # default = 20\n",
    "training_frac = [0.95] # default = [0.95], needs to be a list\n",
    "\n",
    "# determine which model to train/use (set as empty '' if training a new model)\n",
    "# this is currently not implemented\n",
    "\n",
    "model_loc = ''\n"
   ]
  },
  {
   "cell_type": "code",
   "execution_count": 7,
   "metadata": {},
   "outputs": [
    {
     "name": "stdout",
     "output_type": "stream",
     "text": [
      "Created \"/home/jts3256/DLC_videos/Han_202012-Joe-2020-12-14/videos\"\n",
      "Created \"/home/jts3256/DLC_videos/Han_202012-Joe-2020-12-14/labeled-data\"\n",
      "Created \"/home/jts3256/DLC_videos/Han_202012-Joe-2020-12-14/training-datasets\"\n",
      "Created \"/home/jts3256/DLC_videos/Han_202012-Joe-2020-12-14/dlc-models\"\n",
      "Copying the videos\n",
      "/home/jts3256/DLC_videos/Han_202012-Joe-2020-12-14/videos/Han_20201204_00003_trimmed.avi\n",
      "/home/jts3256/DLC_videos/Han_202012-Joe-2020-12-14/videos/Han_20201204_00002_trimmed.avi\n",
      "/home/jts3256/DLC_videos/Han_202012-Joe-2020-12-14/videos/Han_20201204_00008_trimmed.avi\n",
      "/home/jts3256/DLC_videos/Han_202012-Joe-2020-12-14/videos/Han_20201204_00006_trimmed.avi\n",
      "/home/jts3256/DLC_videos/Han_202012-Joe-2020-12-14/videos/Han_20201204_00007_trimmed.avi\n",
      "/home/jts3256/DLC_videos/Han_202012-Joe-2020-12-14/videos/Han_20201204_00001_trimmed.avi\n",
      "/home/jts3256/DLC_videos/Han_202012-Joe-2020-12-14/videos/Han_20201204_00005_trimmed.avi\n",
      "/home/jts3256/DLC_videos/Han_202012-Joe-2020-12-14/videos/Han_20201204_00004_trimmed.avi\n",
      "Generated \"/home/jts3256/DLC_videos/Han_202012-Joe-2020-12-14/config.yaml\"\n",
      "\n",
      "A new project with name Han_202012-Joe-2020-12-14 is created at /home/jts3256/DLC_videos and a configurable file (config.yaml) is stored there. Change the parameters in this file to adapt to your project's needs.\n",
      " Once you have changed the configuration file, use the function 'extract_frames' to select frames for labeling.\n",
      ". [OPTIONAL] Use the function 'add_new_videos' to add new videos to your project (at any stage).\n",
      "['/home/jts3256/DLC_videos/Han_202012-Joe-2020-12-14/videos/Han_20201204_00003_trimmed.avi', '/home/jts3256/DLC_videos/Han_202012-Joe-2020-12-14/videos/Han_20201204_00002_trimmed.avi', '/home/jts3256/DLC_videos/Han_202012-Joe-2020-12-14/videos/Han_20201204_00008_trimmed.avi', '/home/jts3256/DLC_videos/Han_202012-Joe-2020-12-14/videos/Han_20201204_00006_trimmed.avi', '/home/jts3256/DLC_videos/Han_202012-Joe-2020-12-14/videos/Han_20201204_00007_trimmed.avi', '/home/jts3256/DLC_videos/Han_202012-Joe-2020-12-14/videos/Han_20201204_00001_trimmed.avi', '/home/jts3256/DLC_videos/Han_202012-Joe-2020-12-14/videos/Han_20201204_00005_trimmed.avi', '/home/jts3256/DLC_videos/Han_202012-Joe-2020-12-14/videos/Han_20201204_00004_trimmed.avi']\n"
     ]
    }
   ],
   "source": [
    "if(is_new_project): # create project\n",
    "    linux_config_file = deeplabcut.create_new_project(project, experimenter, videos,\n",
    "                                                 working_directory=project_directory,copy_videos=True)\n",
    "    # overwrite project_directory\n",
    "    project_directory = os.path.dirname(os.path.abspath(linux_config_file))\n",
    "    \n",
    "    with open(linux_config_file) as file:\n",
    "        data = yaml.load(file, Loader = yaml.FullLoader)\n",
    "\n",
    "        data['bodyparts'] = body_part_list\n",
    "        data['TrainingFraction'] = training_frac\n",
    "        data['numframes2pick'] = num_frames_per_vid # default = 20\n",
    "        \n",
    "        # update video list\n",
    "        temp = data['video_sets']\n",
    "        videos = list(temp.keys())\n",
    "        \n",
    "    with open(linux_config_file,'w') as file:\n",
    "        yaml.dump(data,file)\n",
    "    \n",
    "else: # project is already created, check to make sure it exists then continue\n",
    "    if(not os.path.isdir(project_directory)):\n",
    "        print(\"Video project folder does not exist, check please\")\n",
    "        exit() # stop code\n",
    "    linux_config_file = project_directory + '/config.yaml'\n",
    "\n",
    "print(videos)"
   ]
  },
  {
   "cell_type": "code",
   "execution_count": 6,
   "metadata": {},
   "outputs": [],
   "source": [
    "\"\"\"\n",
    "if we are labeling frames: \n",
    "    extract frames, then move frames to a second computer. Label frames on second computer using Label-videos.ipynb\n",
    "    Then move videos back to this computer and continue\n",
    "\"\"\"\n",
    "if(label_frames):\n",
    "    deeplabcut.extract_frames(linux_config_file,mode='automatic',userfeedback=False)\n",
    "    # run Label-videos on second computer\n",
    "      "
   ]
  },
  {
   "cell_type": "code",
   "execution_count": 9,
   "metadata": {},
   "outputs": [
    {
     "name": "stdout",
     "output_type": "stream",
     "text": [
      "/home/jts3256/DLC_videos/Han_202012-Joe-2020-12-14/training-datasets/iteration-0/UnaugmentedDataSet_Han_202012Dec14  already exists!\n",
      "Annotation data converted to unix format...\n",
      "The training dataset is successfully created. Use the function 'train_network' to start training. Happy training!\n"
     ]
    }
   ],
   "source": [
    "\"\"\"\n",
    "Make a new training dataset if requested\n",
    "\"\"\"\n",
    "if(make_training_data):\n",
    "    deeplabcut.create_training_dataset(linux_config_file,userfeedback=False,windows2linux=True)"
   ]
  },
  {
   "cell_type": "code",
   "execution_count": null,
   "metadata": {
    "scrolled": true
   },
   "outputs": [
    {
     "name": "stderr",
     "output_type": "stream",
     "text": [
      "Config:\n",
      "{'all_joints': [[0], [1], [2], [3], [4], [5], [6], [7], [8], [9], [10]],\n",
      " 'all_joints_names': ['shoulder',\n",
      "                      'elbow1',\n",
      "                      'elbow2',\n",
      "                      'wrist1',\n",
      "                      'wrist2',\n",
      "                      'hand1',\n",
      "                      'hand2',\n",
      "                      'hand3',\n",
      "                      'pointX',\n",
      "                      'pointY',\n",
      "                      'pointZ'],\n",
      " 'batch_size': 1,\n",
      " 'crop_pad': 0,\n",
      " 'cropratio': 0.4,\n",
      " 'dataset': 'training-datasets/iteration-0/UnaugmentedDataSet_Han_202012Dec14/Han_202012_Joe95shuffle1.mat',\n",
      " 'dataset_type': 'default',\n",
      " 'deterministic': False,\n",
      " 'display_iters': 1000,\n",
      " 'fg_fraction': 0.25,\n",
      " 'global_scale': 0.8,\n",
      " 'init_weights': '/home/jts3256/.local/lib/python3.6/site-packages/deeplabcut/pose_estimation_tensorflow/models/pretrained/resnet_v1_50.ckpt',\n",
      " 'intermediate_supervision': False,\n",
      " 'intermediate_supervision_layer': 12,\n",
      " 'location_refinement': True,\n",
      " 'locref_huber_loss': True,\n",
      " 'locref_loss_weight': 0.05,\n",
      " 'locref_stdev': 7.2801,\n",
      " 'log_dir': 'log',\n",
      " 'max_input_size': 1500,\n",
      " 'mean_pixel': [123.68, 116.779, 103.939],\n",
      " 'metadataset': 'training-datasets/iteration-0/UnaugmentedDataSet_Han_202012Dec14/Documentation_data-Han_202012_95shuffle1.pickle',\n",
      " 'min_input_size': 64,\n",
      " 'mirror': False,\n",
      " 'multi_step': [[0.005, 10000],\n",
      "                [0.02, 430000],\n",
      "                [0.002, 730000],\n",
      "                [0.001, 1030000]],\n",
      " 'net_type': 'resnet_50',\n",
      " 'num_joints': 11,\n",
      " 'optimizer': 'sgd',\n",
      " 'pairwise_huber_loss': False,\n",
      " 'pairwise_predict': False,\n",
      " 'partaffinityfield_predict': False,\n",
      " 'pos_dist_thresh': 17,\n",
      " 'project_path': '/home/jts3256/DLC_videos/Han_202012-Joe-2020-12-14',\n",
      " 'regularize': False,\n",
      " 'rotation': 25,\n",
      " 'rotratio': 0.4,\n",
      " 'save_iters': 50000,\n",
      " 'scale_jitter_lo': 0.5,\n",
      " 'scale_jitter_up': 1.25,\n",
      " 'scoremap_dir': 'test',\n",
      " 'shuffle': True,\n",
      " 'snapshot_prefix': '/home/jts3256/DLC_videos/Han_202012-Joe-2020-12-14/dlc-models/iteration-0/Han_202012Dec14-trainset95shuffle1/train/snapshot',\n",
      " 'stride': 8.0,\n",
      " 'weigh_negatives': False,\n",
      " 'weigh_only_present_joints': False,\n",
      " 'weigh_part_predictions': False,\n",
      " 'weight_decay': 0.0001}\n"
     ]
    },
    {
     "name": "stdout",
     "output_type": "stream",
     "text": [
      "Selecting single-animal trainer\n",
      "Starting with imgaug pose-dataset loader (=default).\n",
      "Batch Size is 1\n",
      "Initializing ResNet\n",
      "Loading ImageNet-pretrained resnet_50\n",
      "Training parameter:\n",
      "{'stride': 8.0, 'weigh_part_predictions': False, 'weigh_negatives': False, 'fg_fraction': 0.25, 'mean_pixel': [123.68, 116.779, 103.939], 'shuffle': True, 'snapshot_prefix': '/home/jts3256/DLC_videos/Han_202012-Joe-2020-12-14/dlc-models/iteration-0/Han_202012Dec14-trainset95shuffle1/train/snapshot', 'log_dir': 'log', 'global_scale': 0.8, 'location_refinement': True, 'locref_stdev': 7.2801, 'locref_loss_weight': 0.05, 'locref_huber_loss': True, 'optimizer': 'sgd', 'intermediate_supervision': False, 'intermediate_supervision_layer': 12, 'regularize': False, 'weight_decay': 0.0001, 'crop_pad': 0, 'scoremap_dir': 'test', 'batch_size': 1, 'dataset_type': 'default', 'deterministic': False, 'mirror': False, 'pairwise_huber_loss': False, 'weigh_only_present_joints': False, 'partaffinityfield_predict': False, 'pairwise_predict': False, 'all_joints': [[0], [1], [2], [3], [4], [5], [6], [7], [8], [9], [10]], 'all_joints_names': ['shoulder', 'elbow1', 'elbow2', 'wrist1', 'wrist2', 'hand1', 'hand2', 'hand3', 'pointX', 'pointY', 'pointZ'], 'cropratio': 0.4, 'dataset': 'training-datasets/iteration-0/UnaugmentedDataSet_Han_202012Dec14/Han_202012_Joe95shuffle1.mat', 'display_iters': 1000, 'init_weights': '/home/jts3256/.local/lib/python3.6/site-packages/deeplabcut/pose_estimation_tensorflow/models/pretrained/resnet_v1_50.ckpt', 'max_input_size': 1500, 'metadataset': 'training-datasets/iteration-0/UnaugmentedDataSet_Han_202012Dec14/Documentation_data-Han_202012_95shuffle1.pickle', 'min_input_size': 64, 'multi_step': [[0.005, 10000], [0.02, 430000], [0.002, 730000], [0.001, 1030000]], 'net_type': 'resnet_50', 'num_joints': 11, 'pos_dist_thresh': 17, 'project_path': '/home/jts3256/DLC_videos/Han_202012-Joe-2020-12-14', 'rotation': 25, 'rotratio': 0.4, 'save_iters': 50000, 'scale_jitter_lo': 0.5, 'scale_jitter_up': 1.25, 'covering': True, 'elastic_transform': True, 'motion_blur': True, 'motion_blur_params': {'k': 7, 'angle': [-90, 90]}}\n",
      "Starting training....\n"
     ]
    },
    {
     "name": "stderr",
     "output_type": "stream",
     "text": [
      "iteration: 1000 loss: 0.0244 lr: 0.005\n",
      "iteration: 2000 loss: 0.0143 lr: 0.005\n"
     ]
    }
   ],
   "source": [
    "if(train_model):\n",
    "    deeplabcut.train_network(linux_config_file)"
   ]
  },
  {
   "cell_type": "code",
   "execution_count": null,
   "metadata": {
    "scrolled": true
   },
   "outputs": [],
   "source": [
    "deeplabcut.analyze_videos(linux_config_file,videos, save_as_csv=True)\n",
    "deeplabcut.filterpredictions(linux_config_file,videos,filtertype='spline')\n",
    "deeplabcut.plot_trajectories(linux_config_file,videos)\n",
    "deeplabcut.create_labeled_video(linux_config_file,videos,filtered=True)"
   ]
  }
 ],
 "metadata": {
  "kernelspec": {
   "display_name": "Python 3",
   "language": "python",
   "name": "python3"
  },
  "language_info": {
   "codemirror_mode": {
    "name": "ipython",
    "version": 3
   },
   "file_extension": ".py",
   "mimetype": "text/x-python",
   "name": "python",
   "nbconvert_exporter": "python",
   "pygments_lexer": "ipython3",
   "version": "3.6.3"
  },
  "varInspector": {
   "cols": {
    "lenName": 16,
    "lenType": 16,
    "lenVar": 40
   },
   "kernels_config": {
    "python": {
     "delete_cmd_postfix": "",
     "delete_cmd_prefix": "del ",
     "library": "var_list.py",
     "varRefreshCmd": "print(var_dic_list())"
    },
    "r": {
     "delete_cmd_postfix": ") ",
     "delete_cmd_prefix": "rm(",
     "library": "var_list.r",
     "varRefreshCmd": "cat(var_dic_list()) "
    }
   },
   "position": {
    "height": "693px",
    "left": "1337.33px",
    "right": "20px",
    "top": "120px",
    "width": "350px"
   },
   "types_to_exclude": [
    "module",
    "function",
    "builtin_function_or_method",
    "instance",
    "_Feature"
   ],
   "window_display": false
  }
 },
 "nbformat": 4,
 "nbformat_minor": 2
}
