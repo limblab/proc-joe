{
 "cells": [
  {
   "cell_type": "code",
   "execution_count": 4,
   "metadata": {},
   "outputs": [],
   "source": [
    "#!/usr/bin/env python3\n",
    "# -*- coding: utf-8 -*-\n",
    "\"\"\"\n",
    "Created on Thu Jul 25 14:31:01 2019\n",
    "@author: minyoungpark\n",
    "\n",
    "Moved to Jupyter notebook (for better or worse) on 12/03/2020 by Joseph\n",
    "Updated code as well to streamline 3D reconstruction\n",
    "\"\"\"\n",
    "import sys\n",
    "\n",
    "# add calibration_folder to path\n",
    "calib_folder = r'D:\\Lab\\GIT\\proc-joe\\Limblab_DLC\\cam_calib_20200508'\n",
    "sys.path.append(calib_folder)\n",
    "\n",
    "\n",
    "from utils.utils import load_config\n",
    "from calibration.intrinsic import calibrate_intrinsic\n",
    "from calibration.extrinsic import calibrate_extrinsic\n",
    "from triangulation.triangulate import reconstruct_3d\n",
    "from utils.vis_utils import generate_three_dim_video\n",
    "from utils.vis_utils import generate_three_dim_pictures\n",
    "from utils.triangulation_utils import add_static_points\n",
    "    \n",
    "import numpy as np\n",
    "import toml"
   ]
  },
  {
   "cell_type": "code",
   "execution_count": 8,
   "metadata": {},
   "outputs": [],
   "source": [
    "# setup config file\n",
    "\n",
    "parsed_toml = toml.load(r'D:\\Lab\\GIT\\proc-joe\\Limblab_DLC\\cam_calib_20200508\\config_Crackle_20200922.toml')\n"
   ]
  },
  {
   "cell_type": "code",
   "execution_count": 10,
   "metadata": {},
   "outputs": [
    {
     "data": {
      "text/plain": [
       "['C:\\\\\\\\Users\\\\\\\\dongq\\\\\\\\DeepLabCut\\\\\\\\Han-Qiwei-2020-09-22-RT3D\\\\\\\\videos\\\\\\\\exp_han_00009DLC_resnet50_HanSep22shuffle1_1030000filtered.csv',\n",
       " 'C:\\\\\\\\Users\\\\\\\\dongq\\\\\\\\DeepLabCut\\\\\\\\Han-Qiwei-2020-09-22-RT3D\\\\\\\\videos\\\\\\\\exp_han_00010DLC_resnet50_HanSep22shuffle1_1030000filtered.csv',\n",
       " 'C:\\\\\\\\Users\\\\\\\\dongq\\\\\\\\DeepLabCut\\\\\\\\Han-Qiwei-2020-09-22-RT3D\\\\\\\\videos\\\\\\\\exp_han_00011DLC_resnet50_HanSep22shuffle1_1030000filtered.csv',\n",
       " 'C:\\\\\\\\Users\\\\\\\\dongq\\\\\\\\DeepLabCut\\\\\\\\Han-Qiwei-2020-09-22-RT3D\\\\\\\\videos\\\\\\\\exp_han_00012DLC_resnet50_HanSep22shuffle1_1030000filtered.csv']"
      ]
     },
     "execution_count": 10,
     "metadata": {},
     "output_type": "execute_result"
    }
   ],
   "source": [
    "parsed_toml['paths_to_2d_data']"
   ]
  },
  {
   "cell_type": "code",
   "execution_count": null,
   "metadata": {},
   "outputs": [],
   "source": [
    "config = load_config('config_Test_20201123_15in.toml' )\n",
    "#%% If you already ran calibration you don't need to run these.\n",
    "\n",
    "calibrate_intrinsic(config)\n",
    "\n",
    "calibrate_extrinsic(config)"
   ]
  },
  {
   "cell_type": "code",
   "execution_count": null,
   "metadata": {},
   "outputs": [],
   "source": [
    "labels = ['pointX', 'pointY', 'pointZ']\n",
    "\n",
    "snapshots = ['Han_20201123_test_15in00001DLC_resnet50_TestNov23shuffle1_1030000filtered.csv',\n",
    "             'Han_20201123_test_15in00001DLC_resnet50_TestNov23shuffle1_1030000filtered.csv']\n",
    "\n",
    "static = {'pointX': [[497.1956159,477.1799594],[286.2408452,338.6374849]],\n",
    "          'pointY': [[602.8473412,420.1615679],[606.4223067,301.0989688]],\n",
    "          'pointZ': [[493.8415928,182.0259331],[274.6480682,95.18916682]]}"
   ]
  },
  {
   "cell_type": "code",
   "execution_count": null,
   "metadata": {},
   "outputs": [],
   "source": [
    "add_static_points(config, labels, static, snapshots)\n",
    "# You can set 3D reconstruction output path through argument,\n",
    "# reconstruct_3d(config, output_path='/media/minyoungpark/Min/1101')\n",
    "# or skip it and set it in config file (reconstruction_output_folder_path).\n",
    "recovery = reconstruct_3d(config)"
   ]
  },
  {
   "cell_type": "code",
   "execution_count": null,
   "metadata": {},
   "outputs": [],
   "source": [
    "# =============================================================================\n",
    "# #%% Save 3d recovery json file\n",
    "# import numpy as np\n",
    "# from json import JSONEncoder\n",
    "# import json\n",
    "# class NumpyArrayEncoder(JSONEncoder):\n",
    "#     def default(self, obj):\n",
    "#         if isinstance(obj, np.ndarray):\n",
    "#             return obj.tolist()\n",
    "#         return JSONEncoder.default(self, obj)\n",
    "# with open(\"pop_0610_anipose.json\", \"w\") as write_file:\n",
    "#     json.dump(recovery, write_file, cls=NumpyArrayEncoder)\n",
    "#     \n",
    "# #%% Load 3d recovery json file\n",
    "# import numpy as np\n",
    "# from json import JSONEncoder\n",
    "# import json\n",
    "# with open(\"pop_0317_3.json\", \"r\") as read_file:\n",
    "#     print(\"Converting JSON encoded data into Numpy array\")\n",
    "#     recovery = json.load(read_file)\n",
    "# recovery['registration_mat'] = np.array(recovery['registration_mat'])\n",
    "# recovery['center'] = np.array(recovery['center'])\n",
    "# =============================================================================\n",
    "\n",
    "\n",
    "#%% Save 3d recovery json file\n",
    "import numpy as np\n",
    "from json import JSONEncoder\n",
    "import json\n",
    "class NumpyArrayEncoder(JSONEncoder):\n",
    "    def default(self, obj):\n",
    "        if isinstance(obj, np.ndarray):\n",
    "            return obj.tolist()\n",
    "        return JSONEncoder.default(self, obj)\n",
    "with open(\"pop_0610_anipose.json\", \"w\") as write_file:\n",
    "    json.dump(recovery, write_file, cls=NumpyArrayEncoder)\n",
    "#%% Load 3d recovery json file\n",
    "import numpy as np\n",
    "from json import JSONEncoder\n",
    "import json\n",
    "with open(\"pop_0317_3.json\", \"r\") as read_file:\n",
    "    print(\"Converting JSON encoded data into Numpy array\")\n",
    "    recovery = json.load(read_file)\n",
    "recovery['registration_mat'] = np.array(recovery['registration_mat'])\n",
    "recovery['center'] = np.array(recovery['center'])\n",
    "\n",
    "#%% generate 3D picture to find the optimal azimuth and elevation value\n",
    "generate_three_dim_pictures(config)\n",
    "\n",
    "#%% Try 3D stick figure video\n",
    "\n",
    "generate_three_dim_video(config)\n",
    "\n",
    "#%% Testing if the generated 3D results makes sense, by calculating the distance between wrist and hand\n",
    "\"\"\"\n",
    "import pandas as pd\n",
    "import numpy as np\n",
    "from numpy import array as arr\n",
    "\n",
    "data_path = 'C:/Users/dongq/DeepLabCut/Han-Qiwei-2020-02-21/3D-data/output_3d_data_rotate4.csv'\n",
    "\n",
    "df = pd.read_csv(data_path)\n",
    "wrist = np.empty((len(df), 3))\n",
    "hand = np.empty((len(df), 3))\n",
    "\n",
    "wrist[:,0] = arr(df['wrist1_x'])\n",
    "wrist[:,1] = arr(df['wrist1_y'])\n",
    "wrist[:,2] = arr(df['wrist1_z'])\n",
    "\n",
    "\n",
    "hand[:,0] = arr(df['hand2_x'])\n",
    "hand[:,1] = arr(df['hand2_y'])\n",
    "hand[:,2] = arr(df['hand2_z'])\n",
    "\n",
    "dist = wrist - hand\n",
    "dist_finite = dist[np.isfinite(dist[:,0]), :]\n",
    "dist_3d = np.linalg.norm(dist_finite, axis=1)\n",
    "print(np.median(dist_3d))\n",
    "\"\"\""
   ]
  }
 ],
 "metadata": {
  "kernelspec": {
   "display_name": "Python 3",
   "language": "python",
   "name": "python3"
  },
  "language_info": {
   "codemirror_mode": {
    "name": "ipython",
    "version": 3
   },
   "file_extension": ".py",
   "mimetype": "text/x-python",
   "name": "python",
   "nbconvert_exporter": "python",
   "pygments_lexer": "ipython3",
   "version": "3.7.9"
  }
 },
 "nbformat": 4,
 "nbformat_minor": 4
}
