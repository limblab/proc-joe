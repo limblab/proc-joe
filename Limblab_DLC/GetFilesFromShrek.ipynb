{
 "cells": [
  {
   "cell_type": "code",
   "execution_count": 6,
   "metadata": {},
   "outputs": [],
   "source": [
    "from paramiko import SSHClient\n",
    "import paramiko\n",
    "from scp import SCPClient\n",
    "\n",
    "# this function moves files from Shrek onto a local computer after DeepLabCut 2D has been run\n",
    "# The goal is to grab everyt\n",
    "\n",
    "\n",
    "# move files from Shrek onto local computer. \n",
    "folder_on_DLC = \"/home/jts3256/DLC_videos/Handle_test_20201201-Qiwei-2020-12-01/videos/plot-poses/Han_20201123_test_6in00001/hist.png\"\n",
    "\n",
    "ssh = SSHClient()\n",
    "ssh.load_host_keys(filename = r'C:\\Users\\Joseph Sombeck\\shrek_publickey.ppk')\n",
    "\n",
    "pkey_filename = r'C:\\Users\\Joseph Sombeck\\shrek_sshkey'\n",
    "#pkey = paramiko.RSAKey.from_private_key_file(pkey_filename)\n",
    "ssh.set_missing_host_key_policy(paramiko.AutoAddPolicy())\n",
    "\n",
    "ssh.connect(hostname = \"165.124.111.57\", username= \"jts3256\", key_filename=pkey_filename)\n",
    "scp  = SCPClient(ssh.get_transport())\n",
    "\n",
    "scp.get(folder_on_DLC,recursive = True, \n",
    "       local_path =r'D:\\Lab\\Data\\DLC_videos\\Handle_test\\Handle_test_20201201-Qiwei-2020-12-01\\videos')"
   ]
  }
 ],
 "metadata": {
  "kernelspec": {
   "display_name": "Python 3",
   "language": "python",
   "name": "python3"
  },
  "language_info": {
   "codemirror_mode": {
    "name": "ipython",
    "version": 3
   },
   "file_extension": ".py",
   "mimetype": "text/x-python",
   "name": "python",
   "nbconvert_exporter": "python",
   "pygments_lexer": "ipython3",
   "version": "3.7.9"
  }
 },
 "nbformat": 4,
 "nbformat_minor": 4
}
