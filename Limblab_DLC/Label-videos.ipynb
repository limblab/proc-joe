{
 "cells": [
  {
   "cell_type": "code",
   "execution_count": 2,
   "metadata": {},
   "outputs": [],
   "source": [
    "import deeplabcut\n",
    "\n",
    "import yaml\n",
    "\n",
    "from paramiko import SSHClient\n",
    "import paramiko\n",
    "from scp import SCPClient\n",
    "import getpass\n",
    "\n",
    "import os\n",
    "import glob"
   ]
  },
  {
   "cell_type": "code",
   "execution_count": 6,
   "metadata": {},
   "outputs": [],
   "source": [
    "\"\"\"proj_folder = r'D:\\Lab\\Data\\DLC_videos\\Han_20201204_rwFreeReach'\n",
    "task='Han_reaching'\n",
    "experimenter='Joe'\n",
    "\n",
    "video = glob.glob(proj_folder + '\\*.avi')\n",
    "print(video)\n",
    "config_file = deeplabcut.create_new_project(task,experimenter,video, working_directory=proj_folder,copy_videos=True)\n",
    "deeplabcut.extract_frames(config_file,'automatic',crop=False)\n",
    "\"\"\"\n",
    "\n",
    "# set shrek project folder and local folder (dest_folder)\n",
    "\n",
    "shrek_project_folder = '/home/jts3256/DLC_videos/Han_202012-Joe-2020-12-14'\n",
    "dest_folder = r'D:\\Lab\\Data\\DLC_videos\\Han_20201204_rwFreeReach\\Han_reaching-Joe-2020-12-10'"
   ]
  },
  {
   "cell_type": "code",
   "execution_count": 2,
   "metadata": {},
   "outputs": [],
   "source": [
    "# move folder from Shrek to local computer to label frames on local computer. Set shrek project folder and dest_folder\n",
    "# Also may need to update ssh key/id\n",
    "image_folder = shrek_project_folder + '/labeled-data'\n",
    "config_file = shrek_project_folder + '/config.yaml'\n",
    "\n",
    "if(not os.path.isdir(dest_folder)):\n",
    "    os.mkdir(dest_folder)\n",
    "\n",
    "ssh = SSHClient()\n",
    "ssh.load_host_keys(filename = r'C:\\Users\\Joseph Sombeck\\shrek_publickey (2).ppk')\n",
    "\n",
    "pkey_filename = r'C:\\Users\\Joseph Sombeck\\shrek_sshkey'\n",
    "#pkey = paramiko.RSAKey.from_private_key_file(pkey_filename)\n",
    "ssh.set_missing_host_key_policy(paramiko.AutoAddPolicy())\n",
    "\n",
    "\n",
    "\n",
    "ssh.connect(hostname = \"FSMS270859X8810459.fsm.northwestern.edu\", username= \"jts3256\", key_filename=pkey_filename)\n",
    "with SCPClient(ssh.get_transport(), sanitize=lambda x: x) as scp:\n",
    "    scp.get(image_folder,recursive = True, local_path=dest_folder)\n",
    "    scp.get(config_file,recursive = False, local_path=dest_folder)\n",
    "    \n",
    "local_config_path = dest_folder+ r'\\config.yaml'\n",
    "\n",
    "# update project path in config path\n",
    "with open(local_config_path) as file:\n",
    "    data = yaml.load(file, Loader = yaml.FullLoader)\n",
    "\n",
    "    data['project_path'] = dest_folder # default = 20\n",
    "\n",
    "with open(local_config_path,'w') as file:\n",
    "    yaml.dump(data,file)\n"
   ]
  },
  {
   "cell_type": "code",
   "execution_count": null,
   "metadata": {},
   "outputs": [],
   "source": [
    "\"\"\"\n",
    "label frames\n",
    "\"\"\"\n",
    "local_config_path = r'D:\\Lab\\Data\\DLC_videos\\Han_20201204_rwFreeReach\\Han_reaching-Joe-2020-12-10\\config.yaml'\n",
    "deeplabcut.label_frames(local_config_path,imtypes=['*png'])"
   ]
  },
  {
   "cell_type": "code",
   "execution_count": 7,
   "metadata": {
    "scrolled": true
   },
   "outputs": [],
   "source": [
    "#deeplabcut.check_labels(local_config_path)\n",
    "\n",
    "# move files back onto shrek\n",
    "ssh = SSHClient()\n",
    "ssh.load_host_keys(filename = r'C:\\Users\\Joseph Sombeck\\shrek_publickey (2).ppk')\n",
    "\n",
    "pkey_filename = r'C:\\Users\\Joseph Sombeck\\shrek_sshkey'\n",
    "ssh.set_missing_host_key_policy(paramiko.AutoAddPolicy())\n",
    "\n",
    "ssh.connect(hostname = \"FSMS270859X8810459.fsm.northwestern.edu\", username= \"jts3256\", key_filename=pkey_filename)\n",
    "scp  = SCPClient(ssh.get_transport())\n",
    "\n",
    "scp.put(files = dest_folder + '\\labeled-data',recursive = True, \n",
    "        remote_path =shrek_project_folder)\n"
   ]
  }
 ],
 "metadata": {
  "kernelspec": {
   "display_name": "Python 3",
   "language": "python",
   "name": "python3"
  },
  "language_info": {
   "codemirror_mode": {
    "name": "ipython",
    "version": 3
   },
   "file_extension": ".py",
   "mimetype": "text/x-python",
   "name": "python",
   "nbconvert_exporter": "python",
   "pygments_lexer": "ipython3",
   "version": "3.7.9"
  },
  "varInspector": {
   "cols": {
    "lenName": 16,
    "lenType": 16,
    "lenVar": 40
   },
   "kernels_config": {
    "python": {
     "delete_cmd_postfix": "",
     "delete_cmd_prefix": "del ",
     "library": "var_list.py",
     "varRefreshCmd": "print(var_dic_list())"
    },
    "r": {
     "delete_cmd_postfix": ") ",
     "delete_cmd_prefix": "rm(",
     "library": "var_list.r",
     "varRefreshCmd": "cat(var_dic_list()) "
    }
   },
   "types_to_exclude": [
    "module",
    "function",
    "builtin_function_or_method",
    "instance",
    "_Feature"
   ],
   "window_display": false
  }
 },
 "nbformat": 4,
 "nbformat_minor": 2
}
