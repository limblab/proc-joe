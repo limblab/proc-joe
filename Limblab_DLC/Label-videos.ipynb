{
 "cells": [
  {
   "cell_type": "code",
   "execution_count": 3,
   "metadata": {},
   "outputs": [],
   "source": [
    "from datetime import date\n",
    "import deeplabcut\n",
    "import glob\n",
    "from subprocess import Popen, PIPE\n",
    "import os\n",
    "import yaml\n",
    "\n",
    "from paramiko import SSHClient\n",
    "import paramiko\n",
    "from scp import SCPClient\n",
    "import getpass"
   ]
  },
  {
   "cell_type": "code",
   "execution_count": 4,
   "metadata": {},
   "outputs": [
    {
     "name": "stdout",
     "output_type": "stream",
     "text": [
      "['D:\\\\Lab\\\\Data\\\\DLC_videos\\\\Han_reaching3D_202012\\\\Han_20201203_00006.avi', 'D:\\\\Lab\\\\Data\\\\DLC_videos\\\\Han_reaching3D_202012\\\\Han_20201203_00007.avi', 'D:\\\\Lab\\\\Data\\\\DLC_videos\\\\Han_reaching3D_202012\\\\Han_20201203_00008.avi', 'D:\\\\Lab\\\\Data\\\\DLC_videos\\\\Han_reaching3D_202012\\\\Han_20201203_00009.avi', 'D:\\\\Lab\\\\Data\\\\DLC_videos\\\\Han_reaching3D_202012\\\\Han_20201203_00010.avi', 'D:\\\\Lab\\\\Data\\\\DLC_videos\\\\Han_reaching3D_202012\\\\Han_20201203_00011.avi', 'D:\\\\Lab\\\\Data\\\\DLC_videos\\\\Han_reaching3D_202012\\\\Han_20201203_00012.avi', 'D:\\\\Lab\\\\Data\\\\DLC_videos\\\\Han_reaching3D_202012\\\\Han_20201203_00013.avi', 'D:\\\\Lab\\\\Data\\\\DLC_videos\\\\Han_reaching3D_202012\\\\Han_20201204_00001.avi', 'D:\\\\Lab\\\\Data\\\\DLC_videos\\\\Han_reaching3D_202012\\\\Han_20201204_00002.avi', 'D:\\\\Lab\\\\Data\\\\DLC_videos\\\\Han_reaching3D_202012\\\\Han_20201204_00003.avi', 'D:\\\\Lab\\\\Data\\\\DLC_videos\\\\Han_reaching3D_202012\\\\Han_20201204_00004.avi', 'D:\\\\Lab\\\\Data\\\\DLC_videos\\\\Han_reaching3D_202012\\\\Han_20201204_00005.avi', 'D:\\\\Lab\\\\Data\\\\DLC_videos\\\\Han_reaching3D_202012\\\\Han_20201204_00006.avi', 'D:\\\\Lab\\\\Data\\\\DLC_videos\\\\Han_reaching3D_202012\\\\Han_20201204_00007.avi', 'D:\\\\Lab\\\\Data\\\\DLC_videos\\\\Han_reaching3D_202012\\\\Han_20201204_00008.avi']\n"
     ]
    }
   ],
   "source": [
    "# select folder that contains videos and videos. Also select body_parts to label\n",
    "# Moves to that folder so that DLC places videos and other data in that folder\n",
    "\n",
    "vid_main_folder = r'D:\\Lab\\Data\\DLC_videos\\Han_reaching3D_202012'\n",
    "videos = glob.glob(vid_main_folder + r'\\*.avi')\n",
    "\n",
    "body_part_list = ['shoulder','arm1','arm2','elbow1','elbow2',\n",
    "                  'wrist1','wrist2','hand1','hand2','hand3','pointX','pointY','pointZ']\n",
    "\n",
    "print(videos)"
   ]
  },
  {
   "cell_type": "code",
   "execution_count": 12,
   "metadata": {
    "scrolled": true
   },
   "outputs": [],
   "source": [
    "### Open this part only when you want to start to label a group of new videos and want to use this script\n",
    "\n",
    "project = 'Han_202012'\n",
    "experimenter = 'Joe'\n",
    "date_used = str(date.today())\n",
    "#date_used = '2020-12-04'\n",
    "#path_config_file = deeplabcut.create_new_project(project, experimenter, videos,working_directory=vid_main_folder,copy_videos=True)\n",
    "\n",
    "path_config_file = r'D:\\Lab\\Data\\DLC_videos\\Han_reaching3D_202012\\Han_202012-Joe-2020-12-04\\config.yaml'"
   ]
  },
  {
   "cell_type": "code",
   "execution_count": 4,
   "metadata": {},
   "outputs": [],
   "source": [
    "# adjust path_config_file to include desired body_parts and skeleton, numframes2pick, TrainingFraction, iteration\n",
    "with open(path_config_file) as file:\n",
    "    data = yaml.load(file, Loader = yaml.FullLoader)\n",
    "\n",
    "data['bodyparts'] = body_part_list\n",
    "data['TrainingFraction'] = [0.95] # default = 0.95\n",
    "data['numframes2pick'] = 8 # default = 20\n",
    "\n",
    "\n",
    "with open(path_config_file,'w') as file:\n",
    "    yaml.dump(data,file)"
   ]
  },
  {
   "cell_type": "code",
   "execution_count": 5,
   "metadata": {
    "scrolled": true
   },
   "outputs": [
    {
     "name": "stderr",
     "output_type": "stream",
     "text": [
      "11it [00:00, 107.94it/s]"
     ]
    },
    {
     "name": "stdout",
     "output_type": "stream",
     "text": [
      "Config file read successfully.\n",
      "Extracting frames based on kmeans ...\n",
      "Kmeans-quantization based extracting of frames from 0.0  seconds to 987.2  seconds.\n",
      "Extracting and downsampling... 24680  frames from the video.\n"
     ]
    },
    {
     "name": "stderr",
     "output_type": "stream",
     "text": [
      "24680it [02:48, 146.83it/s]\n"
     ]
    },
    {
     "name": "stdout",
     "output_type": "stream",
     "text": [
      "Kmeans clustering ... (this might take a while)\n"
     ]
    },
    {
     "name": "stderr",
     "output_type": "stream",
     "text": [
      "14it [00:00, 138.49it/s]"
     ]
    },
    {
     "name": "stdout",
     "output_type": "stream",
     "text": [
      "Extracting frames based on kmeans ...\n",
      "Kmeans-quantization based extracting of frames from 0.0  seconds to 1028.29  seconds.\n",
      "Extracting and downsampling... 24679  frames from the video.\n"
     ]
    },
    {
     "name": "stderr",
     "output_type": "stream",
     "text": [
      "24679it [03:07, 131.54it/s]\n"
     ]
    },
    {
     "name": "stdout",
     "output_type": "stream",
     "text": [
      "Kmeans clustering ... (this might take a while)\n"
     ]
    },
    {
     "name": "stderr",
     "output_type": "stream",
     "text": [
      "13it [00:00, 122.85it/s]"
     ]
    },
    {
     "name": "stdout",
     "output_type": "stream",
     "text": [
      "Extracting frames based on kmeans ...\n",
      "Kmeans-quantization based extracting of frames from 0.0  seconds to 987.2  seconds.\n",
      "Extracting and downsampling... 24680  frames from the video.\n"
     ]
    },
    {
     "name": "stderr",
     "output_type": "stream",
     "text": [
      "24680it [03:03, 134.71it/s]\n"
     ]
    },
    {
     "name": "stdout",
     "output_type": "stream",
     "text": [
      "Kmeans clustering ... (this might take a while)\n"
     ]
    },
    {
     "name": "stderr",
     "output_type": "stream",
     "text": [
      "13it [00:00, 127.00it/s]"
     ]
    },
    {
     "name": "stdout",
     "output_type": "stream",
     "text": [
      "Extracting frames based on kmeans ...\n",
      "Kmeans-quantization based extracting of frames from 0.0  seconds to 987.2  seconds.\n",
      "Extracting and downsampling... 24680  frames from the video.\n"
     ]
    },
    {
     "name": "stderr",
     "output_type": "stream",
     "text": [
      "24680it [03:26, 119.51it/s]\n"
     ]
    },
    {
     "name": "stdout",
     "output_type": "stream",
     "text": [
      "Kmeans clustering ... (this might take a while)\n"
     ]
    },
    {
     "name": "stderr",
     "output_type": "stream",
     "text": [
      "10it [00:00, 90.80it/s]"
     ]
    },
    {
     "name": "stdout",
     "output_type": "stream",
     "text": [
      "Extracting frames based on kmeans ...\n",
      "Kmeans-quantization based extracting of frames from 0.0  seconds to 1310.48  seconds.\n",
      "Extracting and downsampling... 32762  frames from the video.\n"
     ]
    },
    {
     "name": "stderr",
     "output_type": "stream",
     "text": [
      "32762it [04:21, 125.27it/s]\n"
     ]
    },
    {
     "name": "stdout",
     "output_type": "stream",
     "text": [
      "Kmeans clustering ... (this might take a while)\n"
     ]
    },
    {
     "name": "stderr",
     "output_type": "stream",
     "text": [
      "28it [00:00, 131.48it/s]"
     ]
    },
    {
     "name": "stdout",
     "output_type": "stream",
     "text": [
      "Extracting frames based on kmeans ...\n",
      "Kmeans-quantization based extracting of frames from 0.0  seconds to 1310.48  seconds.\n",
      "Extracting and downsampling... 32762  frames from the video.\n"
     ]
    },
    {
     "name": "stderr",
     "output_type": "stream",
     "text": [
      "32762it [04:06, 132.98it/s]\n"
     ]
    },
    {
     "name": "stdout",
     "output_type": "stream",
     "text": [
      "Kmeans clustering ... (this might take a while)\n"
     ]
    },
    {
     "name": "stderr",
     "output_type": "stream",
     "text": [
      "12it [00:00, 119.29it/s]"
     ]
    },
    {
     "name": "stdout",
     "output_type": "stream",
     "text": [
      "Extracting frames based on kmeans ...\n",
      "Kmeans-quantization based extracting of frames from 0.0  seconds to 1365.04  seconds.\n",
      "Extracting and downsampling... 32761  frames from the video.\n"
     ]
    },
    {
     "name": "stderr",
     "output_type": "stream",
     "text": [
      "32761it [04:04, 134.00it/s]\n"
     ]
    },
    {
     "name": "stdout",
     "output_type": "stream",
     "text": [
      "Kmeans clustering ... (this might take a while)\n"
     ]
    },
    {
     "name": "stderr",
     "output_type": "stream",
     "text": [
      "28it [00:00, 133.30it/s]"
     ]
    },
    {
     "name": "stdout",
     "output_type": "stream",
     "text": [
      "Extracting frames based on kmeans ...\n",
      "Kmeans-quantization based extracting of frames from 0.0  seconds to 1365.0  seconds.\n",
      "Extracting and downsampling... 32760  frames from the video.\n"
     ]
    },
    {
     "name": "stderr",
     "output_type": "stream",
     "text": [
      "32760it [04:04, 134.17it/s]\n"
     ]
    },
    {
     "name": "stdout",
     "output_type": "stream",
     "text": [
      "Kmeans clustering ... (this might take a while)\n"
     ]
    },
    {
     "name": "stderr",
     "output_type": "stream",
     "text": [
      "13it [00:00, 123.09it/s]"
     ]
    },
    {
     "name": "stdout",
     "output_type": "stream",
     "text": [
      "Extracting frames based on kmeans ...\n",
      "Kmeans-quantization based extracting of frames from 0.0  seconds to 1073.75  seconds.\n",
      "Extracting and downsampling... 25770  frames from the video.\n"
     ]
    },
    {
     "name": "stderr",
     "output_type": "stream",
     "text": [
      "25770it [03:12, 133.61it/s]\n"
     ]
    },
    {
     "name": "stdout",
     "output_type": "stream",
     "text": [
      "Kmeans clustering ... (this might take a while)\n"
     ]
    },
    {
     "name": "stderr",
     "output_type": "stream",
     "text": [
      "13it [00:00, 124.64it/s]"
     ]
    },
    {
     "name": "stdout",
     "output_type": "stream",
     "text": [
      "Extracting frames based on kmeans ...\n",
      "Kmeans-quantization based extracting of frames from 0.0  seconds to 1073.75  seconds.\n",
      "Extracting and downsampling... 25770  frames from the video.\n"
     ]
    },
    {
     "name": "stderr",
     "output_type": "stream",
     "text": [
      "25770it [03:38, 117.80it/s]\n"
     ]
    },
    {
     "name": "stdout",
     "output_type": "stream",
     "text": [
      "Kmeans clustering ... (this might take a while)\n"
     ]
    },
    {
     "name": "stderr",
     "output_type": "stream",
     "text": [
      "12it [00:00, 113.75it/s]"
     ]
    },
    {
     "name": "stdout",
     "output_type": "stream",
     "text": [
      "Extracting frames based on kmeans ...\n",
      "Kmeans-quantization based extracting of frames from 0.0  seconds to 1073.75  seconds.\n",
      "Extracting and downsampling... 25770  frames from the video.\n"
     ]
    },
    {
     "name": "stderr",
     "output_type": "stream",
     "text": [
      "25770it [03:35, 119.49it/s]\n"
     ]
    },
    {
     "name": "stdout",
     "output_type": "stream",
     "text": [
      "Kmeans clustering ... (this might take a while)\n"
     ]
    },
    {
     "name": "stderr",
     "output_type": "stream",
     "text": [
      "13it [00:00, 127.60it/s]"
     ]
    },
    {
     "name": "stdout",
     "output_type": "stream",
     "text": [
      "Extracting frames based on kmeans ...\n",
      "Kmeans-quantization based extracting of frames from 0.0  seconds to 1073.71  seconds.\n",
      "Extracting and downsampling... 25769  frames from the video.\n"
     ]
    },
    {
     "name": "stderr",
     "output_type": "stream",
     "text": [
      "25769it [03:22, 127.38it/s]\n"
     ]
    },
    {
     "name": "stdout",
     "output_type": "stream",
     "text": [
      "Kmeans clustering ... (this might take a while)\n"
     ]
    },
    {
     "name": "stderr",
     "output_type": "stream",
     "text": [
      "12it [00:00, 118.96it/s]"
     ]
    },
    {
     "name": "stdout",
     "output_type": "stream",
     "text": [
      "Extracting frames based on kmeans ...\n",
      "Kmeans-quantization based extracting of frames from 0.0  seconds to 1179.68  seconds.\n",
      "Extracting and downsampling... 29492  frames from the video.\n"
     ]
    },
    {
     "name": "stderr",
     "output_type": "stream",
     "text": [
      "29492it [03:46, 130.21it/s]\n"
     ]
    },
    {
     "name": "stdout",
     "output_type": "stream",
     "text": [
      "Kmeans clustering ... (this might take a while)\n"
     ]
    },
    {
     "name": "stderr",
     "output_type": "stream",
     "text": [
      "11it [00:00, 104.31it/s]"
     ]
    },
    {
     "name": "stdout",
     "output_type": "stream",
     "text": [
      "Extracting frames based on kmeans ...\n",
      "Kmeans-quantization based extracting of frames from 0.0  seconds to 1179.68  seconds.\n",
      "Extracting and downsampling... 29492  frames from the video.\n"
     ]
    },
    {
     "name": "stderr",
     "output_type": "stream",
     "text": [
      "29492it [03:44, 131.09it/s]\n"
     ]
    },
    {
     "name": "stdout",
     "output_type": "stream",
     "text": [
      "Kmeans clustering ... (this might take a while)\n"
     ]
    },
    {
     "name": "stderr",
     "output_type": "stream",
     "text": [
      "13it [00:00, 128.94it/s]"
     ]
    },
    {
     "name": "stdout",
     "output_type": "stream",
     "text": [
      "Extracting frames based on kmeans ...\n",
      "Kmeans-quantization based extracting of frames from 0.0  seconds to 1179.68  seconds.\n",
      "Extracting and downsampling... 29492  frames from the video.\n"
     ]
    },
    {
     "name": "stderr",
     "output_type": "stream",
     "text": [
      "29492it [03:42, 132.63it/s]\n"
     ]
    },
    {
     "name": "stdout",
     "output_type": "stream",
     "text": [
      "Kmeans clustering ... (this might take a while)\n"
     ]
    },
    {
     "name": "stderr",
     "output_type": "stream",
     "text": [
      "12it [00:00, 115.36it/s]"
     ]
    },
    {
     "name": "stdout",
     "output_type": "stream",
     "text": [
      "Extracting frames based on kmeans ...\n",
      "Kmeans-quantization based extracting of frames from 0.0  seconds to 1179.68  seconds.\n",
      "Extracting and downsampling... 29492  frames from the video.\n"
     ]
    },
    {
     "name": "stderr",
     "output_type": "stream",
     "text": [
      "29492it [03:40, 133.49it/s]\n"
     ]
    },
    {
     "name": "stdout",
     "output_type": "stream",
     "text": [
      "Kmeans clustering ... (this might take a while)\n",
      "Frames were successfully extracted.\n",
      "\n",
      "You can now label the frames using the function 'label_frames' (if you extracted enough frames for all videos).\n"
     ]
    }
   ],
   "source": [
    "\"\"\"\n",
    "k-means extract 100 frames (numbers can be changed in config). \n",
    "Uses videos in path_config_file, use add_new_video to add videos to the config file\n",
    "\"\"\"\n",
    "deeplabcut.extract_frames(path_config_file,mode='automatic',userfeedback=False)"
   ]
  },
  {
   "cell_type": "code",
   "execution_count": 7,
   "metadata": {
    "scrolled": true
   },
   "outputs": [
    {
     "ename": "RuntimeError",
     "evalue": "wrapped C/C++ object of type DirDialog has been deleted",
     "output_type": "error",
     "traceback": [
      "\u001b[1;31m---------------------------------------------------------------------------\u001b[0m",
      "\u001b[1;31mRuntimeError\u001b[0m                              Traceback (most recent call last)",
      "\u001b[1;32mC:\\ProgramData\\Anaconda3\\envs\\DLC-GPU\\lib\\site-packages\\deeplabcut\\generate_training_dataset\\labeling_toolbox.py\u001b[0m in \u001b[0;36mquitButton\u001b[1;34m(self, event)\u001b[0m\n\u001b[0;32m    315\u001b[0m             \u001b[0mself\u001b[0m\u001b[1;33m.\u001b[0m\u001b[0mchoiceBox\u001b[0m\u001b[1;33m.\u001b[0m\u001b[0mClear\u001b[0m\u001b[1;33m(\u001b[0m\u001b[1;32mTrue\u001b[0m\u001b[1;33m)\u001b[0m\u001b[1;33m\u001b[0m\u001b[1;33m\u001b[0m\u001b[0m\n\u001b[0;32m    316\u001b[0m             \u001b[0mMainFrame\u001b[0m\u001b[1;33m.\u001b[0m\u001b[0mupdateZoomPan\u001b[0m\u001b[1;33m(\u001b[0m\u001b[0mself\u001b[0m\u001b[1;33m)\u001b[0m\u001b[1;33m\u001b[0m\u001b[1;33m\u001b[0m\u001b[0m\n\u001b[1;32m--> 317\u001b[1;33m             \u001b[0mMainFrame\u001b[0m\u001b[1;33m.\u001b[0m\u001b[0mbrowseDir\u001b[0m\u001b[1;33m(\u001b[0m\u001b[0mself\u001b[0m\u001b[1;33m,\u001b[0m \u001b[0mevent\u001b[0m\u001b[1;33m)\u001b[0m\u001b[1;33m\u001b[0m\u001b[1;33m\u001b[0m\u001b[0m\n\u001b[0m\u001b[0;32m    318\u001b[0m             \u001b[0mself\u001b[0m\u001b[1;33m.\u001b[0m\u001b[0msave\u001b[0m\u001b[1;33m.\u001b[0m\u001b[0mEnable\u001b[0m\u001b[1;33m(\u001b[0m\u001b[1;32mTrue\u001b[0m\u001b[1;33m)\u001b[0m\u001b[1;33m\u001b[0m\u001b[1;33m\u001b[0m\u001b[0m\n\u001b[0;32m    319\u001b[0m         \u001b[1;32melse\u001b[0m\u001b[1;33m:\u001b[0m\u001b[1;33m\u001b[0m\u001b[1;33m\u001b[0m\u001b[0m\n",
      "\u001b[1;32mC:\\ProgramData\\Anaconda3\\envs\\DLC-GPU\\lib\\site-packages\\deeplabcut\\generate_training_dataset\\labeling_toolbox.py\u001b[0m in \u001b[0;36mbrowseDir\u001b[1;34m(self, event)\u001b[0m\n\u001b[0;32m    432\u001b[0m             \u001b[0mdlg\u001b[0m\u001b[1;33m.\u001b[0m\u001b[0mDestroy\u001b[0m\u001b[1;33m(\u001b[0m\u001b[1;33m)\u001b[0m\u001b[1;33m\u001b[0m\u001b[1;33m\u001b[0m\u001b[0m\n\u001b[0;32m    433\u001b[0m             \u001b[0mself\u001b[0m\u001b[1;33m.\u001b[0m\u001b[0mClose\u001b[0m\u001b[1;33m(\u001b[0m\u001b[1;32mTrue\u001b[0m\u001b[1;33m)\u001b[0m\u001b[1;33m\u001b[0m\u001b[1;33m\u001b[0m\u001b[0m\n\u001b[1;32m--> 434\u001b[1;33m         \u001b[0mdlg\u001b[0m\u001b[1;33m.\u001b[0m\u001b[0mDestroy\u001b[0m\u001b[1;33m(\u001b[0m\u001b[1;33m)\u001b[0m\u001b[1;33m\u001b[0m\u001b[1;33m\u001b[0m\u001b[0m\n\u001b[0m\u001b[0;32m    435\u001b[0m \u001b[1;33m\u001b[0m\u001b[0m\n\u001b[0;32m    436\u001b[0m \u001b[1;31m# Enabling the zoom, pan and home buttons\u001b[0m\u001b[1;33m\u001b[0m\u001b[1;33m\u001b[0m\u001b[1;33m\u001b[0m\u001b[0m\n",
      "\u001b[1;31mRuntimeError\u001b[0m: wrapped C/C++ object of type DirDialog has been deleted"
     ]
    }
   ],
   "source": [
    "\"\"\"\n",
    "label frames\n",
    "\"\"\"\n",
    "#import matplotlib\n",
    "#matplotlib.use('Agg')\n",
    "\n",
    "deeplabcut.label_frames(path_config_file)"
   ]
  },
  {
   "cell_type": "code",
   "execution_count": 8,
   "metadata": {
    "scrolled": true
   },
   "outputs": [
    {
     "name": "stdout",
     "output_type": "stream",
     "text": [
      "Creating images with labels by Joe.\n",
      "They are stored in the following folder: D:\\Lab\\Data\\DLC_videos\\Han_reaching3D_202012\\Han_202012-Joe-2020-12-04\\labeled-data\\Han_20201203_00006_labeled.\n",
      "They are stored in the following folder: D:\\Lab\\Data\\DLC_videos\\Han_reaching3D_202012\\Han_202012-Joe-2020-12-04\\labeled-data\\Han_20201203_00007_labeled.\n",
      "They are stored in the following folder: D:\\Lab\\Data\\DLC_videos\\Han_reaching3D_202012\\Han_202012-Joe-2020-12-04\\labeled-data\\Han_20201203_00008_labeled.\n",
      "They are stored in the following folder: D:\\Lab\\Data\\DLC_videos\\Han_reaching3D_202012\\Han_202012-Joe-2020-12-04\\labeled-data\\Han_20201203_00009_labeled.\n",
      "They are stored in the following folder: D:\\Lab\\Data\\DLC_videos\\Han_reaching3D_202012\\Han_202012-Joe-2020-12-04\\labeled-data\\Han_20201203_00010_labeled.\n",
      "They are stored in the following folder: D:\\Lab\\Data\\DLC_videos\\Han_reaching3D_202012\\Han_202012-Joe-2020-12-04\\labeled-data\\Han_20201203_00011_labeled.\n",
      "They are stored in the following folder: D:\\Lab\\Data\\DLC_videos\\Han_reaching3D_202012\\Han_202012-Joe-2020-12-04\\labeled-data\\Han_20201203_00012_labeled.\n",
      "They are stored in the following folder: D:\\Lab\\Data\\DLC_videos\\Han_reaching3D_202012\\Han_202012-Joe-2020-12-04\\labeled-data\\Han_20201203_00013_labeled.\n",
      "They are stored in the following folder: D:\\Lab\\Data\\DLC_videos\\Han_reaching3D_202012\\Han_202012-Joe-2020-12-04\\labeled-data\\Han_20201204_00001_labeled.\n",
      "They are stored in the following folder: D:\\Lab\\Data\\DLC_videos\\Han_reaching3D_202012\\Han_202012-Joe-2020-12-04\\labeled-data\\Han_20201204_00002_labeled.\n",
      "They are stored in the following folder: D:\\Lab\\Data\\DLC_videos\\Han_reaching3D_202012\\Han_202012-Joe-2020-12-04\\labeled-data\\Han_20201204_00003_labeled.\n",
      "They are stored in the following folder: D:\\Lab\\Data\\DLC_videos\\Han_reaching3D_202012\\Han_202012-Joe-2020-12-04\\labeled-data\\Han_20201204_00004_labeled.\n",
      "They are stored in the following folder: D:\\Lab\\Data\\DLC_videos\\Han_reaching3D_202012\\Han_202012-Joe-2020-12-04\\labeled-data\\Han_20201204_00005_labeled.\n",
      "They are stored in the following folder: D:\\Lab\\Data\\DLC_videos\\Han_reaching3D_202012\\Han_202012-Joe-2020-12-04\\labeled-data\\Han_20201204_00006_labeled.\n",
      "They are stored in the following folder: D:\\Lab\\Data\\DLC_videos\\Han_reaching3D_202012\\Han_202012-Joe-2020-12-04\\labeled-data\\Han_20201204_00007_labeled.\n",
      "They are stored in the following folder: D:\\Lab\\Data\\DLC_videos\\Han_reaching3D_202012\\Han_202012-Joe-2020-12-04\\labeled-data\\Han_20201204_00008_labeled.\n",
      "If all the labels are ok, then use the function 'create_training_dataset' to create the training dataset!\n"
     ]
    }
   ],
   "source": [
    "deeplabcut.check_labels(path_config_file)"
   ]
  },
  {
   "cell_type": "code",
   "execution_count": null,
   "metadata": {},
   "outputs": [],
   "source": [
    "# move files onto Shrek <- this can take awhile :(\n",
    "\n",
    "folder_to_move = vid_main_folder + '\\\\' + project + '-' + experimenter + '-' + date_used\n",
    "\n",
    "ssh = SSHClient()\n",
    "ssh.load_host_keys(filename = r'C:\\Users\\Joseph Sombeck\\shrek_publickey (2).ppk')\n",
    "\n",
    "pkey_filename = r'C:\\Users\\Joseph Sombeck\\shrek_sshkey'\n",
    "#pkey = paramiko.RSAKey.from_private_key_file(pkey_filename)\n",
    "ssh.set_missing_host_key_policy(paramiko.AutoAddPolicy())\n",
    "\n",
    "ssh.connect(hostname = \"165.124.111.57\", username= \"jts3256\", key_filename=pkey_filename)\n",
    "scp  = SCPClient(ssh.get_transport())\n",
    "\n",
    "scp.put(files = folder_to_move,recursive = True, \n",
    "        remote_path =\"/home/jts3256/DLC_videos/\")"
   ]
  },
  {
   "cell_type": "code",
   "execution_count": 10,
   "metadata": {},
   "outputs": [
    {
     "data": {
      "text/plain": [
       "'D:\\\\Lab\\\\Data\\\\DLC_videos\\\\Han_reaching3D_202012'"
      ]
     },
     "execution_count": 10,
     "metadata": {},
     "output_type": "execute_result"
    }
   ],
   "source": [
    "vid_main_folder"
   ]
  }
 ],
 "metadata": {
  "kernelspec": {
   "display_name": "Python 3",
   "language": "python",
   "name": "python3"
  },
  "language_info": {
   "codemirror_mode": {
    "name": "ipython",
    "version": 3
   },
   "file_extension": ".py",
   "mimetype": "text/x-python",
   "name": "python",
   "nbconvert_exporter": "python",
   "pygments_lexer": "ipython3",
   "version": "3.6.3"
  },
  "varInspector": {
   "cols": {
    "lenName": 16,
    "lenType": 16,
    "lenVar": 40
   },
   "kernels_config": {
    "python": {
     "delete_cmd_postfix": "",
     "delete_cmd_prefix": "del ",
     "library": "var_list.py",
     "varRefreshCmd": "print(var_dic_list())"
    },
    "r": {
     "delete_cmd_postfix": ") ",
     "delete_cmd_prefix": "rm(",
     "library": "var_list.r",
     "varRefreshCmd": "cat(var_dic_list()) "
    }
   },
   "types_to_exclude": [
    "module",
    "function",
    "builtin_function_or_method",
    "instance",
    "_Feature"
   ],
   "window_display": false
  }
 },
 "nbformat": 4,
 "nbformat_minor": 2
}
