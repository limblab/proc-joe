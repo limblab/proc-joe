{
 "cells": [
  {
   "cell_type": "code",
   "execution_count": 1,
   "metadata": {},
   "outputs": [],
   "source": [
    "# -------- Make sure you have opencv-python installed in you environment -------- #\n",
    "import cv2\n",
    "import fnmatch, os\n",
    "import numpy as np\n",
    "try:\n",
    "    import xml.etree.cElementTree as ET\n",
    "except ImportError:\n",
    "    import xml.etree.ElementTree as ET"
   ]
  },
  {
   "cell_type": "code",
   "execution_count": 24,
   "metadata": {},
   "outputs": [
    {
     "name": "stdout",
     "output_type": "stream",
     "text": [
      "['Han_20201204_00001.avi_trimmed.avi']\n"
     ]
    }
   ],
   "source": [
    "# -------- Not critical if file dividing is not your major concern -------- #\n",
    "def return_portion(arr, k):\n",
    "    arr_flat = arr.reshape((-1,1))\n",
    "    if k <= arr_flat[-1] and k >= arr_flat[0]:\n",
    "        for i in range(len(arr_flat)):\n",
    "            if arr_flat[i]>k:\n",
    "                break\n",
    "        p = np.where(arr == arr_flat[i-1])[0]\n",
    "    else:\n",
    "        p = -1\n",
    "    return int(p)\n",
    "\n",
    "def return_timestamps(tree):\n",
    "    ts = []\n",
    "    num_frames = 0\n",
    "    for elem in tree.iter():\n",
    "        if elem.tag =='frame' and num_frames > 0:\n",
    "            ts.append(int(elem.attrib['timestamp']))\n",
    "        elif elem.tag == 'frame' and num_frames == 0:\n",
    "            num_frames = 1\n",
    "    return np.asarray(ts)\n",
    "\n",
    "def file_divide(ts):\n",
    "    threshold = 33333*8\n",
    "    diff_ts = np.diff(ts)\n",
    "    frame_numbers = np.where(diff_ts > threshold)[0]\n",
    "    frame_start, frame_end = [], []\n",
    "    for i in range(len(frame_numbers)):\n",
    "        frame_start.append(frame_numbers[i]+1)\n",
    "        if i < len(frame_numbers)-1:\n",
    "            frame_end.append(frame_numbers[i+1])\n",
    "        else:\n",
    "            frame_end.append(len(ts))\n",
    "    temp = [frame_start,frame_end]\n",
    "    return np.asarray(temp).T\n",
    "\n",
    "base_path = r'D:\\Lab\\Data\\DLC_videos\\Han_20201204_rwFreeReach\\Han_reaching-Joe-2020-12-10\\videos\\calib\\\\'\n",
    "save_path = base_path\n",
    "info_type = '*.xiinfo'\n",
    "info_file_list = fnmatch.filter(os.listdir( base_path ), info_type)\n",
    "info_file_list = np.sort(info_file_list)\n",
    "\n",
    "\"\"\"\n",
    "The next 3 lines will find out all .avi files under a specific path.\n",
    "Typically they are the files from different cameras\n",
    "\"\"\"\n",
    "video_type = '*trimmed.avi'\n",
    "video_file_list = fnmatch.filter(os.listdir( base_path ), video_type)\n",
    "video_file_list = np.sort(video_file_list)\n",
    "\n",
    "# get timestamps from info files for annotating videos\n",
    "ts_list = []\n",
    "for each in info_file_list:\n",
    "    tree = ET.ElementTree(file = ''.join( (base_path, each) ))\n",
    "    ts_list.append(return_timestamps(tree))\n",
    "\n",
    "\"\"\"The number of frames for file dividing with each of the 3 cameras are stored in this list \"\"\"\n",
    "seperate_frames = []\n",
    "for each in ts_list:\n",
    "    frames = file_divide(each)\n",
    "    seperate_frames.append(frames)\n",
    "#%% -----------------------------------------------------------------------------\n",
    "#--------------------------------------------------------------------------------\n",
    "\"\"\"\n",
    "`s` defines whether you want to use a smaller size\n",
    "When `s = 1`, you have the same frame size as you original videos\n",
    "When `s = 2`, you have only the half size, e.g., your orignial video is 1280*1024, the generated video will only have 640*512\n",
    "\"\"\"\n",
    "s = 1\n",
    "\n",
    "\"\"\"\n",
    "Put the video you want to process in this list\n",
    "\"\"\"\n",
    "print(video_file_list)"
   ]
  },
  {
   "cell_type": "code",
   "execution_count": 18,
   "metadata": {},
   "outputs": [],
   "source": [
    "\"\"\"\n",
    "Set what time bounds to keep frames. Convert time bounds to frames and store frame numbers\n",
    "\"\"\"\n",
    "#time_bounds = np.array([[0,449],[465,859],[890,986]]) # in seconds\n",
    "time_bounds = np.array([[0,1]]) # in seconds\n"
   ]
  },
  {
   "cell_type": "code",
   "execution_count": 26,
   "metadata": {},
   "outputs": [
    {
     "name": "stdout",
     "output_type": "stream",
     "text": [
      "0\n",
      "end for the No. 0 big file\n"
     ]
    }
   ],
   "source": [
    "video_file_list_idx = [0]\n",
    "running_list = video_file_list[video_file_list_idx]\n",
    "\n",
    "add_frame_nums = 1\n",
    "appended_text = '_trimmed.avi'\n",
    "\"\"\"\n",
    "Specify the frame rate here. Typical value is 30 frames per second\n",
    "\"\"\"\n",
    "\n",
    "\"\"\"\n",
    "The color of the annotation you want to add in each frame. Here is red\n",
    "\"\"\"\n",
    "color=(0,0,255)\n",
    "\n",
    "for (i, each) in enumerate(running_list):\n",
    "    # -- Basic setup of opencv -- #\n",
    "    cap = cv2.VideoCapture(base_path + each)\n",
    "    fps = int(round(cap.get(cv2.CAP_PROP_FPS)))\n",
    "    width = int(cap.get(cv2.CAP_PROP_FRAME_WIDTH))\n",
    "    height = int(cap.get(cv2.CAP_PROP_FRAME_HEIGHT))\n",
    "    total_frames = int(cap.get(cv2.CAP_PROP_FRAME_COUNT))\n",
    "    fourcc = cv2.VideoWriter_fourcc(*'XVID')\n",
    "\n",
    "    save_fps = fps\n",
    "    frame_bounds = time_bounds*fps\n",
    "    frame_bounds = np.array([[-1,150]])\n",
    "    \"\"\"\n",
    "    The main idear here is to let opencv read in individual frames,\n",
    "    process them and then write to a new video file\n",
    "    \"\"\"\n",
    "\n",
    "    # -- If file dividing is not your major concern, you may only need one video_writer --#\n",
    "    video_writers = []\n",
    "    new_video = each[:-4] + appended_text\n",
    "    video_writers.append(cv2.VideoWriter(save_path + new_video,fourcc, save_fps, (int(width/s), int(height/s))) )\n",
    "    \n",
    "    frame_list = []\n",
    "    timestamp_list = []\n",
    "    # -- Loop until all frames are done -- #\n",
    "    for k in range(0, total_frames):\n",
    "        if k % 400 == 0:\n",
    "            print(k)\n",
    "        # -- Read one video frame -- #\n",
    "        cap.set(cv2.CAP_PROP_POS_FRAMES,k-1)\n",
    "        success, frame = cap.read()\n",
    "        writer_no = 0\n",
    "        \n",
    "        # -- Write one video frame if we are supposed to keep it -- #\n",
    "        if time_bounds.size == 0:\n",
    "            keep_frame = 1\n",
    "        else:\n",
    "            keep_frame = 0\n",
    "            for i_bound in range(0,frame_bounds.shape[0]):\n",
    "                if(k >= frame_bounds[i_bound,0] and k <= frame_bounds[i_bound,1]):\n",
    "                    keep_frame = 1\n",
    "        \n",
    "        if success and keep_frame:\n",
    "            # -- Resize the frame based on the variable `s` defined before -- #\n",
    "            #frame = cv2.resize(frame, (int(width/s), int(height/s)))\n",
    "            start_frame = 0\n",
    "            ####################################################################\n",
    "            # Add the annotations of frame number and timestamp in seconds using the putText function            \n",
    "            ####################################################################\n",
    "            if(add_frame_nums):\n",
    "                cv2.putText(frame, str(k-start_frame+1), (20, 20) ,cv2.FONT_HERSHEY_SIMPLEX ,0.8, color,2)\n",
    "                #t = (ts_list[video_file_list_idx[i]][k] - ts_list[video_file_list_idx[i]][start_frame])/1000000\n",
    "                #cv2.putText(frame, str(round(t, 3)), (120, 20) ,cv2.FONT_HERSHEY_SIMPLEX ,0.8, color,2)\n",
    "                \n",
    "            # -- Write to the video file -- #\n",
    "            frame_list.append(k)\n",
    "            timestamp_list.append(ts_list[video_file_list_idx[i]][k])\n",
    "            video_writers[writer_no].write(frame)\n",
    "        elif not success:\n",
    "            print(\"failed to read\")\n",
    "    cap.release()\n",
    "    video_writers[writer_no].release()\n",
    "    \n",
    "    # write frame_list and timestamp_list to a txt file\n",
    "    np.savetxt(save_path+each[:-4]+'_trimmed.txt',np.transpose(np.array([frame_list,timestamp_list])),\n",
    "          fmt=['%.0f','%.0f'])\n",
    "    \n",
    "    \n",
    "    print('end for the No. %d big file'%(i))\n",
    "                \n",
    "    "
   ]
  },
  {
   "cell_type": "code",
   "execution_count": 20,
   "metadata": {},
   "outputs": [
    {
     "data": {
      "text/plain": [
       "array([[ 0, 24]])"
      ]
     },
     "execution_count": 20,
     "metadata": {},
     "output_type": "execute_result"
    }
   ],
   "source": [
    "frame_bounds"
   ]
  }
 ],
 "metadata": {
  "kernelspec": {
   "display_name": "Python 3",
   "language": "python",
   "name": "python3"
  },
  "language_info": {
   "codemirror_mode": {
    "name": "ipython",
    "version": 3
   },
   "file_extension": ".py",
   "mimetype": "text/x-python",
   "name": "python",
   "nbconvert_exporter": "python",
   "pygments_lexer": "ipython3",
   "version": "3.7.9"
  }
 },
 "nbformat": 4,
 "nbformat_minor": 4
}
